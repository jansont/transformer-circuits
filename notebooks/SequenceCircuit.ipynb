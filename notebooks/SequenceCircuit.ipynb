{
  "cells": [
    {
      "cell_type": "markdown",
      "metadata": {
        "id": "_PfMUBaHKv4S"
      },
      "source": [
        "# Sequence Circuit Identification\n",
        "\n",
        "### Change this\n",
        "This notebook demonstrates how to use the [TransformerLens](https://github.com/neelnanda-io/TransformerLens/) library to perform exploratory analysis. The notebook is based on the replication of [Interpretability in the Wild](https://arxiv.org/abs/2211.00593) paper.\n",
        "\n",
        "The notebook is divided into the following sections:\n",
        "\n",
        "1. Setup (Skip this)\n",
        "2. Introduction\n",
        "3. Direct Logit Attribution - analysing the ends of the circuit by looking at the direct contribution to the correct output\n",
        "4. Activation Patching - using activation patching, a causal intervention on the model, to analyse what's going on in the middle of the circuit.\n",
        "5. Consolidating Understanding - summarising our findings, validating them, and comparing them to the paper's (far more rigorous!) results.\n",
        "6. Bonus section: Exploring Anomalies - exploring some dangling threads, and some of the more fun results in the paper.\n"
      ]
    },
    {
      "cell_type": "markdown",
      "metadata": {
        "id": "ljCDD06pKv4U"
      },
      "source": [
        "# Setup"
      ]
    },
    {
      "cell_type": "code",
      "execution_count": null,
      "metadata": {
        "colab": {
          "base_uri": "https://localhost:8080/",
          "height": 1000
        },
        "id": "k1TB4aX1dVzj",
        "outputId": "edd73d00-d9b9-43c9-9f90-850401148510"
      },
      "outputs": [
        {
          "name": "stdout",
          "output_type": "stream",
          "text": [
            "Collecting git+https://github.com/neelnanda-io/TransformerLens.git\n",
            "  Cloning https://github.com/neelnanda-io/TransformerLens.git to /tmp/pip-req-build-h6fzffdj\n",
            "  Running command git clone --filter=blob:none --quiet https://github.com/neelnanda-io/TransformerLens.git /tmp/pip-req-build-h6fzffdj\n",
            "  Resolved https://github.com/neelnanda-io/TransformerLens.git to commit cd4efe8b6d6b56f5fc9e88bb6f29100b919b5e64\n",
            "  Installing build dependencies ... \u001b[?25l\u001b[?25hdone\n",
            "  Getting requirements to build wheel ... \u001b[?25l\u001b[?25hdone\n",
            "  Preparing metadata (pyproject.toml) ... \u001b[?25l\u001b[?25hdone\n",
            "Collecting datasets>=2.7.1 (from transformer-lens==0.0.0)\n",
            "  Downloading datasets-2.14.0-py3-none-any.whl (492 kB)\n",
            "\u001b[2K     \u001b[90m━━━━━━━━━━━━━━━━━━━━━━━━━━━━━━━━━━━━━━━\u001b[0m \u001b[32m492.2/492.2 kB\u001b[0m \u001b[31m5.8 MB/s\u001b[0m eta \u001b[36m0:00:00\u001b[0m\n",
            "\u001b[?25hCollecting einops>=0.6.0 (from transformer-lens==0.0.0)\n",
            "  Downloading einops-0.6.1-py3-none-any.whl (42 kB)\n",
            "\u001b[2K     \u001b[90m━━━━━━━━━━━━━━━━━━━━━━━━━━━━━━━━━━━━━━━━\u001b[0m \u001b[32m42.2/42.2 kB\u001b[0m \u001b[31m3.9 MB/s\u001b[0m eta \u001b[36m0:00:00\u001b[0m\n",
            "\u001b[?25hCollecting fancy-einsum>=0.0.3 (from transformer-lens==0.0.0)\n",
            "  Downloading fancy_einsum-0.0.3-py3-none-any.whl (6.2 kB)\n",
            "Collecting jaxtyping>=0.2.11 (from transformer-lens==0.0.0)\n",
            "  Downloading jaxtyping-0.2.20-py3-none-any.whl (24 kB)\n",
            "Collecting numpy>=1.23 (from transformer-lens==0.0.0)\n",
            "  Downloading numpy-1.25.1-cp310-cp310-manylinux_2_17_x86_64.manylinux2014_x86_64.whl (17.6 MB)\n",
            "\u001b[2K     \u001b[90m━━━━━━━━━━━━━━━━━━━━━━━━━━━━━━━━━━━━━━━━\u001b[0m \u001b[32m17.6/17.6 MB\u001b[0m \u001b[31m41.3 MB/s\u001b[0m eta \u001b[36m0:00:00\u001b[0m\n",
            "\u001b[?25hRequirement already satisfied: pandas>=1.1.5 in /usr/local/lib/python3.10/dist-packages (from transformer-lens==0.0.0) (1.5.3)\n",
            "Requirement already satisfied: rich>=12.6.0 in /usr/local/lib/python3.10/dist-packages (from transformer-lens==0.0.0) (13.4.2)\n",
            "Requirement already satisfied: torch>=1.10 in /usr/local/lib/python3.10/dist-packages (from transformer-lens==0.0.0) (2.0.1+cu118)\n",
            "Requirement already satisfied: tqdm>=4.64.1 in /usr/local/lib/python3.10/dist-packages (from transformer-lens==0.0.0) (4.65.0)\n",
            "Collecting transformers>=4.25.1 (from transformer-lens==0.0.0)\n",
            "  Downloading transformers-4.31.0-py3-none-any.whl (7.4 MB)\n",
            "\u001b[2K     \u001b[90m━━━━━━━━━━━━━━━━━━━━━━━━━━━━━━━━━━━━━━━━\u001b[0m \u001b[32m7.4/7.4 MB\u001b[0m \u001b[31m66.0 MB/s\u001b[0m eta \u001b[36m0:00:00\u001b[0m\n",
            "\u001b[?25hCollecting typeguard<4.0.0,>=3.0.2 (from transformer-lens==0.0.0)\n",
            "  Downloading typeguard-3.0.2-py3-none-any.whl (30 kB)\n",
            "Collecting wandb>=0.13.5 (from transformer-lens==0.0.0)\n",
            "  Downloading wandb-0.15.7-py3-none-any.whl (2.1 MB)\n",
            "\u001b[2K     \u001b[90m━━━━━━━━━━━━━━━━━━━━━━━━━━━━━━━━━━━━━━━━\u001b[0m \u001b[32m2.1/2.1 MB\u001b[0m \u001b[31m64.3 MB/s\u001b[0m eta \u001b[36m0:00:00\u001b[0m\n",
            "\u001b[?25hRequirement already satisfied: pyarrow>=8.0.0 in /usr/local/lib/python3.10/dist-packages (from datasets>=2.7.1->transformer-lens==0.0.0) (9.0.0)\n",
            "Collecting dill<0.3.8,>=0.3.0 (from datasets>=2.7.1->transformer-lens==0.0.0)\n",
            "  Downloading dill-0.3.7-py3-none-any.whl (115 kB)\n",
            "\u001b[2K     \u001b[90m━━━━━━━━━━━━━━━━━━━━━━━━━━━━━━━━━━━━━━\u001b[0m \u001b[32m115.3/115.3 kB\u001b[0m \u001b[31m12.1 MB/s\u001b[0m eta \u001b[36m0:00:00\u001b[0m\n",
            "\u001b[?25hRequirement already satisfied: requests>=2.19.0 in /usr/local/lib/python3.10/dist-packages (from datasets>=2.7.1->transformer-lens==0.0.0) (2.27.1)\n",
            "Collecting xxhash (from datasets>=2.7.1->transformer-lens==0.0.0)\n",
            "  Downloading xxhash-3.2.0-cp310-cp310-manylinux_2_17_x86_64.manylinux2014_x86_64.whl (212 kB)\n",
            "\u001b[2K     \u001b[90m━━━━━━━━━━━━━━━━━━━━━━━━━━━━━━━━━━━━━━\u001b[0m \u001b[32m212.5/212.5 kB\u001b[0m \u001b[31m20.6 MB/s\u001b[0m eta \u001b[36m0:00:00\u001b[0m\n",
            "\u001b[?25hCollecting multiprocess (from datasets>=2.7.1->transformer-lens==0.0.0)\n",
            "  Downloading multiprocess-0.70.15-py310-none-any.whl (134 kB)\n",
            "\u001b[2K     \u001b[90m━━━━━━━━━━━━━━━━━━━━━━━━━━━━━━━━━━━━━━\u001b[0m \u001b[32m134.8/134.8 kB\u001b[0m \u001b[31m12.0 MB/s\u001b[0m eta \u001b[36m0:00:00\u001b[0m\n",
            "\u001b[?25hRequirement already satisfied: fsspec[http]>=2021.11.1 in /usr/local/lib/python3.10/dist-packages (from datasets>=2.7.1->transformer-lens==0.0.0) (2023.6.0)\n",
            "Requirement already satisfied: aiohttp in /usr/local/lib/python3.10/dist-packages (from datasets>=2.7.1->transformer-lens==0.0.0) (3.8.5)\n",
            "Collecting huggingface-hub<1.0.0,>=0.14.0 (from datasets>=2.7.1->transformer-lens==0.0.0)\n",
            "  Downloading huggingface_hub-0.16.4-py3-none-any.whl (268 kB)\n",
            "\u001b[2K     \u001b[90m━━━━━━━━━━━━━━━━━━━━━━━━━━━━━━━━━━━━━━\u001b[0m \u001b[32m268.8/268.8 kB\u001b[0m \u001b[31m23.7 MB/s\u001b[0m eta \u001b[36m0:00:00\u001b[0m\n",
            "\u001b[?25hRequirement already satisfied: packaging in /usr/local/lib/python3.10/dist-packages (from datasets>=2.7.1->transformer-lens==0.0.0) (23.1)\n",
            "Requirement already satisfied: pyyaml>=5.1 in /usr/local/lib/python3.10/dist-packages (from datasets>=2.7.1->transformer-lens==0.0.0) (6.0.1)\n",
            "Requirement already satisfied: typing-extensions>=3.7.4.1 in /usr/local/lib/python3.10/dist-packages (from jaxtyping>=0.2.11->transformer-lens==0.0.0) (4.7.1)\n",
            "Requirement already satisfied: python-dateutil>=2.8.1 in /usr/local/lib/python3.10/dist-packages (from pandas>=1.1.5->transformer-lens==0.0.0) (2.8.2)\n",
            "Requirement already satisfied: pytz>=2020.1 in /usr/local/lib/python3.10/dist-packages (from pandas>=1.1.5->transformer-lens==0.0.0) (2022.7.1)\n",
            "Requirement already satisfied: markdown-it-py>=2.2.0 in /usr/local/lib/python3.10/dist-packages (from rich>=12.6.0->transformer-lens==0.0.0) (3.0.0)\n",
            "Requirement already satisfied: pygments<3.0.0,>=2.13.0 in /usr/local/lib/python3.10/dist-packages (from rich>=12.6.0->transformer-lens==0.0.0) (2.14.0)\n",
            "Requirement already satisfied: filelock in /usr/local/lib/python3.10/dist-packages (from torch>=1.10->transformer-lens==0.0.0) (3.12.2)\n",
            "Requirement already satisfied: sympy in /usr/local/lib/python3.10/dist-packages (from torch>=1.10->transformer-lens==0.0.0) (1.11.1)\n",
            "Requirement already satisfied: networkx in /usr/local/lib/python3.10/dist-packages (from torch>=1.10->transformer-lens==0.0.0) (3.1)\n",
            "Requirement already satisfied: jinja2 in /usr/local/lib/python3.10/dist-packages (from torch>=1.10->transformer-lens==0.0.0) (3.1.2)\n",
            "Requirement already satisfied: triton==2.0.0 in /usr/local/lib/python3.10/dist-packages (from torch>=1.10->transformer-lens==0.0.0) (2.0.0)\n",
            "Requirement already satisfied: cmake in /usr/local/lib/python3.10/dist-packages (from triton==2.0.0->torch>=1.10->transformer-lens==0.0.0) (3.25.2)\n",
            "Requirement already satisfied: lit in /usr/local/lib/python3.10/dist-packages (from triton==2.0.0->torch>=1.10->transformer-lens==0.0.0) (16.0.6)\n",
            "Requirement already satisfied: regex!=2019.12.17 in /usr/local/lib/python3.10/dist-packages (from transformers>=4.25.1->transformer-lens==0.0.0) (2022.10.31)\n",
            "Collecting tokenizers!=0.11.3,<0.14,>=0.11.1 (from transformers>=4.25.1->transformer-lens==0.0.0)\n",
            "  Downloading tokenizers-0.13.3-cp310-cp310-manylinux_2_17_x86_64.manylinux2014_x86_64.whl (7.8 MB)\n",
            "\u001b[2K     \u001b[90m━━━━━━━━━━━━━━━━━━━━━━━━━━━━━━━━━━━━━━━━\u001b[0m \u001b[32m7.8/7.8 MB\u001b[0m \u001b[31m75.0 MB/s\u001b[0m eta \u001b[36m0:00:00\u001b[0m\n",
            "\u001b[?25hCollecting safetensors>=0.3.1 (from transformers>=4.25.1->transformer-lens==0.0.0)\n",
            "  Downloading safetensors-0.3.1-cp310-cp310-manylinux_2_17_x86_64.manylinux2014_x86_64.whl (1.3 MB)\n",
            "\u001b[2K     \u001b[90m━━━━━━━━━━━━━━━━━━━━━━━━━━━━━━━━━━━━━━━━\u001b[0m \u001b[32m1.3/1.3 MB\u001b[0m \u001b[31m63.2 MB/s\u001b[0m eta \u001b[36m0:00:00\u001b[0m\n",
            "\u001b[?25hRequirement already satisfied: Click!=8.0.0,>=7.1 in /usr/local/lib/python3.10/dist-packages (from wandb>=0.13.5->transformer-lens==0.0.0) (8.1.6)\n",
            "Collecting GitPython!=3.1.29,>=1.0.0 (from wandb>=0.13.5->transformer-lens==0.0.0)\n",
            "  Downloading GitPython-3.1.32-py3-none-any.whl (188 kB)\n",
            "\u001b[2K     \u001b[90m━━━━━━━━━━━━━━━━━━━━━━━━━━━━━━━━━━━━━━\u001b[0m \u001b[32m188.5/188.5 kB\u001b[0m \u001b[31m15.5 MB/s\u001b[0m eta \u001b[36m0:00:00\u001b[0m\n",
            "\u001b[?25hRequirement already satisfied: psutil>=5.0.0 in /usr/local/lib/python3.10/dist-packages (from wandb>=0.13.5->transformer-lens==0.0.0) (5.9.5)\n",
            "Collecting sentry-sdk>=1.0.0 (from wandb>=0.13.5->transformer-lens==0.0.0)\n",
            "  Downloading sentry_sdk-1.28.1-py2.py3-none-any.whl (214 kB)\n",
            "\u001b[2K     \u001b[90m━━━━━━━━━━━━━━━━━━━━━━━━━━━━━━━━━━━━━━\u001b[0m \u001b[32m214.7/214.7 kB\u001b[0m \u001b[31m17.7 MB/s\u001b[0m eta \u001b[36m0:00:00\u001b[0m\n",
            "\u001b[?25hCollecting docker-pycreds>=0.4.0 (from wandb>=0.13.5->transformer-lens==0.0.0)\n",
            "  Downloading docker_pycreds-0.4.0-py2.py3-none-any.whl (9.0 kB)\n",
            "Collecting pathtools (from wandb>=0.13.5->transformer-lens==0.0.0)\n",
            "  Downloading pathtools-0.1.2.tar.gz (11 kB)\n",
            "  Preparing metadata (setup.py) ... \u001b[?25l\u001b[?25hdone\n",
            "Collecting setproctitle (from wandb>=0.13.5->transformer-lens==0.0.0)\n",
            "  Downloading setproctitle-1.3.2-cp310-cp310-manylinux_2_5_x86_64.manylinux1_x86_64.manylinux_2_17_x86_64.manylinux2014_x86_64.whl (30 kB)\n",
            "Requirement already satisfied: setuptools in /usr/local/lib/python3.10/dist-packages (from wandb>=0.13.5->transformer-lens==0.0.0) (67.7.2)\n",
            "Requirement already satisfied: appdirs>=1.4.3 in /usr/local/lib/python3.10/dist-packages (from wandb>=0.13.5->transformer-lens==0.0.0) (1.4.4)\n",
            "Requirement already satisfied: protobuf!=4.21.0,<5,>=3.19.0 in /usr/local/lib/python3.10/dist-packages (from wandb>=0.13.5->transformer-lens==0.0.0) (3.20.3)\n",
            "Requirement already satisfied: six>=1.4.0 in /usr/local/lib/python3.10/dist-packages (from docker-pycreds>=0.4.0->wandb>=0.13.5->transformer-lens==0.0.0) (1.16.0)\n",
            "Requirement already satisfied: attrs>=17.3.0 in /usr/local/lib/python3.10/dist-packages (from aiohttp->datasets>=2.7.1->transformer-lens==0.0.0) (23.1.0)\n",
            "Requirement already satisfied: charset-normalizer<4.0,>=2.0 in /usr/local/lib/python3.10/dist-packages (from aiohttp->datasets>=2.7.1->transformer-lens==0.0.0) (2.0.12)\n",
            "Requirement already satisfied: multidict<7.0,>=4.5 in /usr/local/lib/python3.10/dist-packages (from aiohttp->datasets>=2.7.1->transformer-lens==0.0.0) (6.0.4)\n",
            "Requirement already satisfied: async-timeout<5.0,>=4.0.0a3 in /usr/local/lib/python3.10/dist-packages (from aiohttp->datasets>=2.7.1->transformer-lens==0.0.0) (4.0.2)\n",
            "Requirement already satisfied: yarl<2.0,>=1.0 in /usr/local/lib/python3.10/dist-packages (from aiohttp->datasets>=2.7.1->transformer-lens==0.0.0) (1.9.2)\n",
            "Requirement already satisfied: frozenlist>=1.1.1 in /usr/local/lib/python3.10/dist-packages (from aiohttp->datasets>=2.7.1->transformer-lens==0.0.0) (1.4.0)\n",
            "Requirement already satisfied: aiosignal>=1.1.2 in /usr/local/lib/python3.10/dist-packages (from aiohttp->datasets>=2.7.1->transformer-lens==0.0.0) (1.3.1)\n",
            "Collecting gitdb<5,>=4.0.1 (from GitPython!=3.1.29,>=1.0.0->wandb>=0.13.5->transformer-lens==0.0.0)\n",
            "  Downloading gitdb-4.0.10-py3-none-any.whl (62 kB)\n",
            "\u001b[2K     \u001b[90m━━━━━━━━━━━━━━━━━━━━━━━━━━━━━━━━━━━━━━━━\u001b[0m \u001b[32m62.7/62.7 kB\u001b[0m \u001b[31m6.1 MB/s\u001b[0m eta \u001b[36m0:00:00\u001b[0m\n",
            "\u001b[?25hRequirement already satisfied: mdurl~=0.1 in /usr/local/lib/python3.10/dist-packages (from markdown-it-py>=2.2.0->rich>=12.6.0->transformer-lens==0.0.0) (0.1.2)\n",
            "Requirement already satisfied: urllib3<1.27,>=1.21.1 in /usr/local/lib/python3.10/dist-packages (from requests>=2.19.0->datasets>=2.7.1->transformer-lens==0.0.0) (1.26.16)\n",
            "Requirement already satisfied: certifi>=2017.4.17 in /usr/local/lib/python3.10/dist-packages (from requests>=2.19.0->datasets>=2.7.1->transformer-lens==0.0.0) (2023.7.22)\n",
            "Requirement already satisfied: idna<4,>=2.5 in /usr/local/lib/python3.10/dist-packages (from requests>=2.19.0->datasets>=2.7.1->transformer-lens==0.0.0) (3.4)\n",
            "Requirement already satisfied: MarkupSafe>=2.0 in /usr/local/lib/python3.10/dist-packages (from jinja2->torch>=1.10->transformer-lens==0.0.0) (2.1.3)\n",
            "Requirement already satisfied: mpmath>=0.19 in /usr/local/lib/python3.10/dist-packages (from sympy->torch>=1.10->transformer-lens==0.0.0) (1.3.0)\n",
            "Collecting smmap<6,>=3.0.1 (from gitdb<5,>=4.0.1->GitPython!=3.1.29,>=1.0.0->wandb>=0.13.5->transformer-lens==0.0.0)\n",
            "  Downloading smmap-5.0.0-py3-none-any.whl (24 kB)\n",
            "Building wheels for collected packages: transformer-lens, pathtools\n",
            "  Building wheel for transformer-lens (pyproject.toml) ... \u001b[?25l\u001b[?25hdone\n",
            "  Created wheel for transformer-lens: filename=transformer_lens-0.0.0-py3-none-any.whl size=105744 sha256=157f8226991853c90686839003a094a058fe34e8975e0e1d2846fa2607f7ab2f\n",
            "  Stored in directory: /tmp/pip-ephem-wheel-cache-yc3ko22u/wheels/8a/1e/37/ffb9c15454a1725b13a9d9f5e74fb91725048884ad734b8c1f\n",
            "  Building wheel for pathtools (setup.py) ... \u001b[?25l\u001b[?25hdone\n",
            "  Created wheel for pathtools: filename=pathtools-0.1.2-py3-none-any.whl size=8791 sha256=c4b206b0b45f141b6986b0da46888d27885170caf50b733a57e575cc36c35ea1\n",
            "  Stored in directory: /root/.cache/pip/wheels/e7/f3/22/152153d6eb222ee7a56ff8617d80ee5207207a8c00a7aab794\n",
            "Successfully built transformer-lens pathtools\n",
            "Installing collected packages: tokenizers, safetensors, pathtools, xxhash, typeguard, smmap, setproctitle, sentry-sdk, numpy, fancy-einsum, einops, docker-pycreds, dill, multiprocess, jaxtyping, huggingface-hub, gitdb, transformers, GitPython, wandb, datasets, transformer-lens\n",
            "  Attempting uninstall: numpy\n",
            "    Found existing installation: numpy 1.22.4\n",
            "    Uninstalling numpy-1.22.4:\n",
            "      Successfully uninstalled numpy-1.22.4\n",
            "\u001b[31mERROR: pip's dependency resolver does not currently take into account all the packages that are installed. This behaviour is the source of the following dependency conflicts.\n",
            "numba 0.56.4 requires numpy<1.24,>=1.18, but you have numpy 1.25.1 which is incompatible.\n",
            "tensorflow 2.12.0 requires numpy<1.24,>=1.22, but you have numpy 1.25.1 which is incompatible.\u001b[0m\u001b[31m\n",
            "\u001b[0mSuccessfully installed GitPython-3.1.32 datasets-2.14.0 dill-0.3.7 docker-pycreds-0.4.0 einops-0.6.1 fancy-einsum-0.0.3 gitdb-4.0.10 huggingface-hub-0.16.4 jaxtyping-0.2.20 multiprocess-0.70.15 numpy-1.25.1 pathtools-0.1.2 safetensors-0.3.1 sentry-sdk-1.28.1 setproctitle-1.3.2 smmap-5.0.0 tokenizers-0.13.3 transformer-lens-0.0.0 transformers-4.31.0 typeguard-3.0.2 wandb-0.15.7 xxhash-3.2.0\n"
          ]
        },
        {
          "data": {
            "application/vnd.colab-display-data+json": {
              "pip_warning": {
                "packages": [
                  "numpy"
                ]
              }
            }
          },
          "metadata": {},
          "output_type": "display_data"
        },
        {
          "name": "stdout",
          "output_type": "stream",
          "text": [
            "\n",
            "## Installing the NodeSource Node.js 16.x repo...\n",
            "\n",
            "\n",
            "## Populating apt-get cache...\n",
            "\n",
            "+ apt-get update\n",
            "Get:1 https://cloud.r-project.org/bin/linux/ubuntu jammy-cran40/ InRelease [3,626 B]\n",
            "Get:2 https://developer.download.nvidia.com/compute/cuda/repos/ubuntu2204/x86_64  InRelease [1,581 B]\n",
            "Hit:3 http://archive.ubuntu.com/ubuntu jammy InRelease\n",
            "Get:4 http://security.ubuntu.com/ubuntu jammy-security InRelease [110 kB]\n",
            "Get:5 http://archive.ubuntu.com/ubuntu jammy-updates InRelease [119 kB]\n",
            "Get:6 https://developer.download.nvidia.com/compute/cuda/repos/ubuntu2204/x86_64  Packages [419 kB]\n",
            "Hit:7 https://ppa.launchpadcontent.net/c2d4u.team/c2d4u4.0+/ubuntu jammy InRelease\n",
            "Get:8 http://archive.ubuntu.com/ubuntu jammy-backports InRelease [108 kB]\n",
            "Get:9 http://security.ubuntu.com/ubuntu jammy-security/main amd64 Packages [801 kB]\n",
            "Get:10 http://archive.ubuntu.com/ubuntu jammy-updates/main amd64 Packages [1,085 kB]\n",
            "Hit:11 https://ppa.launchpadcontent.net/deadsnakes/ppa/ubuntu jammy InRelease\n",
            "Get:12 http://security.ubuntu.com/ubuntu jammy-security/restricted amd64 Packages [848 kB]\n",
            "Get:13 http://security.ubuntu.com/ubuntu jammy-security/universe amd64 Packages [961 kB]\n",
            "Get:14 http://archive.ubuntu.com/ubuntu jammy-updates/universe amd64 Packages [1,219 kB]\n",
            "Get:15 https://ppa.launchpadcontent.net/graphics-drivers/ppa/ubuntu jammy InRelease [24.3 kB]\n",
            "Get:16 http://archive.ubuntu.com/ubuntu jammy-updates/restricted amd64 Packages [863 kB]\n",
            "Hit:17 https://ppa.launchpadcontent.net/ubuntugis/ppa/ubuntu jammy InRelease\n",
            "Get:18 https://ppa.launchpadcontent.net/graphics-drivers/ppa/ubuntu jammy/main amd64 Packages [35.7 kB]\n",
            "Fetched 6,598 kB in 3s (2,428 kB/s)\n",
            "Reading package lists... Done\n",
            "\n",
            "## Confirming \"jammy\" is supported...\n",
            "\n",
            "+ curl -sLf -o /dev/null 'https://deb.nodesource.com/node_16.x/dists/jammy/Release'\n",
            "\n",
            "## Adding the NodeSource signing key to your keyring...\n",
            "\n",
            "+ curl -s https://deb.nodesource.com/gpgkey/nodesource.gpg.key | gpg --dearmor | tee /usr/share/keyrings/nodesource.gpg >/dev/null\n",
            "\n",
            "## Creating apt sources list file for the NodeSource Node.js 16.x repo...\n",
            "\n",
            "+ echo 'deb [signed-by=/usr/share/keyrings/nodesource.gpg] https://deb.nodesource.com/node_16.x jammy main' > /etc/apt/sources.list.d/nodesource.list\n",
            "+ echo 'deb-src [signed-by=/usr/share/keyrings/nodesource.gpg] https://deb.nodesource.com/node_16.x jammy main' >> /etc/apt/sources.list.d/nodesource.list\n",
            "\n",
            "## Running `apt-get update` for you...\n",
            "\n",
            "+ apt-get update\n",
            "Hit:1 https://cloud.r-project.org/bin/linux/ubuntu jammy-cran40/ InRelease\n",
            "Get:2 https://deb.nodesource.com/node_16.x jammy InRelease [4,583 B]\n",
            "Hit:3 https://developer.download.nvidia.com/compute/cuda/repos/ubuntu2204/x86_64  InRelease\n",
            "Hit:4 http://archive.ubuntu.com/ubuntu jammy InRelease\n",
            "Hit:5 http://security.ubuntu.com/ubuntu jammy-security InRelease\n",
            "Hit:6 http://archive.ubuntu.com/ubuntu jammy-updates InRelease\n",
            "Get:7 https://deb.nodesource.com/node_16.x jammy/main amd64 Packages [775 B]\n",
            "Hit:8 http://archive.ubuntu.com/ubuntu jammy-backports InRelease\n",
            "Hit:9 https://ppa.launchpadcontent.net/c2d4u.team/c2d4u4.0+/ubuntu jammy InRelease\n",
            "Hit:10 https://ppa.launchpadcontent.net/deadsnakes/ppa/ubuntu jammy InRelease\n",
            "Hit:11 https://ppa.launchpadcontent.net/graphics-drivers/ppa/ubuntu jammy InRelease\n",
            "Hit:12 https://ppa.launchpadcontent.net/ubuntugis/ppa/ubuntu jammy InRelease\n",
            "Fetched 5,358 B in 2s (2,534 B/s)\n",
            "Reading package lists... Done\n",
            "\n",
            "## Run `\u001b[1msudo apt-get install -y nodejs\u001b[m` to install Node.js 16.x and npm\n",
            "## You may also need development tools to build native addons:\n",
            "     sudo apt-get install gcc g++ make\n",
            "## To install the Yarn package manager, run:\n",
            "     curl -sL https://dl.yarnpkg.com/debian/pubkey.gpg | gpg --dearmor | sudo tee /usr/share/keyrings/yarnkey.gpg >/dev/null\n",
            "     echo \"deb [signed-by=/usr/share/keyrings/yarnkey.gpg] https://dl.yarnpkg.com/debian stable main\" | sudo tee /etc/apt/sources.list.d/yarn.list\n",
            "     sudo apt-get update && sudo apt-get install yarn\n",
            "\n",
            "\n",
            "Reading package lists... Done\n",
            "Building dependency tree... Done\n",
            "Reading state information... Done\n",
            "The following NEW packages will be installed:\n",
            "  nodejs\n",
            "0 upgraded, 1 newly installed, 0 to remove and 11 not upgraded.\n",
            "Need to get 27.2 MB of archives.\n",
            "After this operation, 128 MB of additional disk space will be used.\n",
            "Get:1 https://deb.nodesource.com/node_16.x jammy/main amd64 nodejs amd64 16.20.1-deb-1nodesource1 [27.2 MB]\n",
            "Fetched 27.2 MB in 0s (68.6 MB/s)\n",
            "debconf: unable to initialize frontend: Dialog\n",
            "debconf: (No usable dialog-like program is installed, so the dialog based frontend cannot be used. at /usr/share/perl5/Debconf/FrontEnd/Dialog.pm line 78, <> line 1.)\n",
            "debconf: falling back to frontend: Readline\n",
            "debconf: unable to initialize frontend: Readline\n",
            "debconf: (This frontend requires a controlling tty.)\n",
            "debconf: falling back to frontend: Teletype\n",
            "dpkg-preconfigure: unable to re-open stdin: \n",
            "Selecting previously unselected package nodejs.\n",
            "(Reading database ... 120493 files and directories currently installed.)\n",
            "Preparing to unpack .../nodejs_16.20.1-deb-1nodesource1_amd64.deb ...\n",
            "Unpacking nodejs (16.20.1-deb-1nodesource1) ...\n",
            "Setting up nodejs (16.20.1-deb-1nodesource1) ...\n",
            "Processing triggers for man-db (2.10.2-1) ...\n",
            "Collecting git+https://github.com/neelnanda-io/PySvelte.git\n",
            "  Cloning https://github.com/neelnanda-io/PySvelte.git to /tmp/pip-req-build-9yw1l_2h\n",
            "  Running command git clone --filter=blob:none --quiet https://github.com/neelnanda-io/PySvelte.git /tmp/pip-req-build-9yw1l_2h\n",
            "  Resolved https://github.com/neelnanda-io/PySvelte.git to commit 6f5d971a148d40fb7481d400ae74551b37340e83\n",
            "  Preparing metadata (setup.py) ... \u001b[?25l\u001b[?25hdone\n",
            "Requirement already satisfied: einops in /usr/local/lib/python3.10/dist-packages (from PySvelte==1.0.0) (0.6.1)\n",
            "Requirement already satisfied: numpy in /usr/local/lib/python3.10/dist-packages (from PySvelte==1.0.0) (1.25.1)\n",
            "Requirement already satisfied: torch in /usr/local/lib/python3.10/dist-packages (from PySvelte==1.0.0) (2.0.1+cu118)\n",
            "Requirement already satisfied: datasets in /usr/local/lib/python3.10/dist-packages (from PySvelte==1.0.0) (2.14.0)\n",
            "Requirement already satisfied: transformers in /usr/local/lib/python3.10/dist-packages (from PySvelte==1.0.0) (4.31.0)\n",
            "Requirement already satisfied: tqdm in /usr/local/lib/python3.10/dist-packages (from PySvelte==1.0.0) (4.65.0)\n",
            "Requirement already satisfied: pandas in /usr/local/lib/python3.10/dist-packages (from PySvelte==1.0.0) (1.5.3)\n",
            "Collecting typeguard~=2.0 (from PySvelte==1.0.0)\n",
            "  Downloading typeguard-2.13.3-py3-none-any.whl (17 kB)\n",
            "Requirement already satisfied: pyarrow>=8.0.0 in /usr/local/lib/python3.10/dist-packages (from datasets->PySvelte==1.0.0) (9.0.0)\n",
            "Requirement already satisfied: dill<0.3.8,>=0.3.0 in /usr/local/lib/python3.10/dist-packages (from datasets->PySvelte==1.0.0) (0.3.7)\n",
            "Requirement already satisfied: requests>=2.19.0 in /usr/local/lib/python3.10/dist-packages (from datasets->PySvelte==1.0.0) (2.27.1)\n",
            "Requirement already satisfied: xxhash in /usr/local/lib/python3.10/dist-packages (from datasets->PySvelte==1.0.0) (3.2.0)\n",
            "Requirement already satisfied: multiprocess in /usr/local/lib/python3.10/dist-packages (from datasets->PySvelte==1.0.0) (0.70.15)\n",
            "Requirement already satisfied: fsspec[http]>=2021.11.1 in /usr/local/lib/python3.10/dist-packages (from datasets->PySvelte==1.0.0) (2023.6.0)\n",
            "Requirement already satisfied: aiohttp in /usr/local/lib/python3.10/dist-packages (from datasets->PySvelte==1.0.0) (3.8.5)\n",
            "Requirement already satisfied: huggingface-hub<1.0.0,>=0.14.0 in /usr/local/lib/python3.10/dist-packages (from datasets->PySvelte==1.0.0) (0.16.4)\n",
            "Requirement already satisfied: packaging in /usr/local/lib/python3.10/dist-packages (from datasets->PySvelte==1.0.0) (23.1)\n",
            "Requirement already satisfied: pyyaml>=5.1 in /usr/local/lib/python3.10/dist-packages (from datasets->PySvelte==1.0.0) (6.0.1)\n",
            "Requirement already satisfied: python-dateutil>=2.8.1 in /usr/local/lib/python3.10/dist-packages (from pandas->PySvelte==1.0.0) (2.8.2)\n",
            "Requirement already satisfied: pytz>=2020.1 in /usr/local/lib/python3.10/dist-packages (from pandas->PySvelte==1.0.0) (2022.7.1)\n",
            "Requirement already satisfied: filelock in /usr/local/lib/python3.10/dist-packages (from torch->PySvelte==1.0.0) (3.12.2)\n",
            "Requirement already satisfied: typing-extensions in /usr/local/lib/python3.10/dist-packages (from torch->PySvelte==1.0.0) (4.7.1)\n",
            "Requirement already satisfied: sympy in /usr/local/lib/python3.10/dist-packages (from torch->PySvelte==1.0.0) (1.11.1)\n",
            "Requirement already satisfied: networkx in /usr/local/lib/python3.10/dist-packages (from torch->PySvelte==1.0.0) (3.1)\n",
            "Requirement already satisfied: jinja2 in /usr/local/lib/python3.10/dist-packages (from torch->PySvelte==1.0.0) (3.1.2)\n",
            "Requirement already satisfied: triton==2.0.0 in /usr/local/lib/python3.10/dist-packages (from torch->PySvelte==1.0.0) (2.0.0)\n",
            "Requirement already satisfied: cmake in /usr/local/lib/python3.10/dist-packages (from triton==2.0.0->torch->PySvelte==1.0.0) (3.25.2)\n",
            "Requirement already satisfied: lit in /usr/local/lib/python3.10/dist-packages (from triton==2.0.0->torch->PySvelte==1.0.0) (16.0.6)\n",
            "Requirement already satisfied: regex!=2019.12.17 in /usr/local/lib/python3.10/dist-packages (from transformers->PySvelte==1.0.0) (2022.10.31)\n",
            "Requirement already satisfied: tokenizers!=0.11.3,<0.14,>=0.11.1 in /usr/local/lib/python3.10/dist-packages (from transformers->PySvelte==1.0.0) (0.13.3)\n",
            "Requirement already satisfied: safetensors>=0.3.1 in /usr/local/lib/python3.10/dist-packages (from transformers->PySvelte==1.0.0) (0.3.1)\n",
            "Requirement already satisfied: attrs>=17.3.0 in /usr/local/lib/python3.10/dist-packages (from aiohttp->datasets->PySvelte==1.0.0) (23.1.0)\n",
            "Requirement already satisfied: charset-normalizer<4.0,>=2.0 in /usr/local/lib/python3.10/dist-packages (from aiohttp->datasets->PySvelte==1.0.0) (2.0.12)\n",
            "Requirement already satisfied: multidict<7.0,>=4.5 in /usr/local/lib/python3.10/dist-packages (from aiohttp->datasets->PySvelte==1.0.0) (6.0.4)\n",
            "Requirement already satisfied: async-timeout<5.0,>=4.0.0a3 in /usr/local/lib/python3.10/dist-packages (from aiohttp->datasets->PySvelte==1.0.0) (4.0.2)\n",
            "Requirement already satisfied: yarl<2.0,>=1.0 in /usr/local/lib/python3.10/dist-packages (from aiohttp->datasets->PySvelte==1.0.0) (1.9.2)\n",
            "Requirement already satisfied: frozenlist>=1.1.1 in /usr/local/lib/python3.10/dist-packages (from aiohttp->datasets->PySvelte==1.0.0) (1.4.0)\n",
            "Requirement already satisfied: aiosignal>=1.1.2 in /usr/local/lib/python3.10/dist-packages (from aiohttp->datasets->PySvelte==1.0.0) (1.3.1)\n",
            "Requirement already satisfied: six>=1.5 in /usr/local/lib/python3.10/dist-packages (from python-dateutil>=2.8.1->pandas->PySvelte==1.0.0) (1.16.0)\n",
            "Requirement already satisfied: urllib3<1.27,>=1.21.1 in /usr/local/lib/python3.10/dist-packages (from requests>=2.19.0->datasets->PySvelte==1.0.0) (1.26.16)\n",
            "Requirement already satisfied: certifi>=2017.4.17 in /usr/local/lib/python3.10/dist-packages (from requests>=2.19.0->datasets->PySvelte==1.0.0) (2023.7.22)\n",
            "Requirement already satisfied: idna<4,>=2.5 in /usr/local/lib/python3.10/dist-packages (from requests>=2.19.0->datasets->PySvelte==1.0.0) (3.4)\n",
            "Requirement already satisfied: MarkupSafe>=2.0 in /usr/local/lib/python3.10/dist-packages (from jinja2->torch->PySvelte==1.0.0) (2.1.3)\n",
            "Requirement already satisfied: mpmath>=0.19 in /usr/local/lib/python3.10/dist-packages (from sympy->torch->PySvelte==1.0.0) (1.3.0)\n",
            "Building wheels for collected packages: PySvelte\n",
            "  Building wheel for PySvelte (setup.py) ... \u001b[?25l\u001b[?25hdone\n",
            "  Created wheel for PySvelte: filename=PySvelte-1.0.0-py3-none-any.whl size=158306 sha256=011c3ba315867c8a1bf2a35050b7363cc696e750edc83687afb0fa5b27d3a5dd\n",
            "  Stored in directory: /tmp/pip-ephem-wheel-cache-ji518i4t/wheels/fa/f6/f2/673ef7aeb78d7503b6e3e42387132822fdc38d3ee283d3e5b4\n",
            "Successfully built PySvelte\n",
            "Installing collected packages: typeguard, PySvelte\n",
            "  Attempting uninstall: typeguard\n",
            "    Found existing installation: typeguard 3.0.2\n",
            "    Uninstalling typeguard-3.0.2:\n",
            "      Successfully uninstalled typeguard-3.0.2\n",
            "\u001b[31mERROR: pip's dependency resolver does not currently take into account all the packages that are installed. This behaviour is the source of the following dependency conflicts.\n",
            "transformer-lens 0.0.0 requires typeguard<4.0.0,>=3.0.2, but you have typeguard 2.13.3 which is incompatible.\u001b[0m\u001b[31m\n",
            "\u001b[0mSuccessfully installed PySvelte-1.0.0 typeguard-2.13.3\n"
          ]
        }
      ],
      "source": [
        "try:\n",
        "    import google.colab\n",
        "    IN_COLAB = True\n",
        "    %pip install git+https://github.com/neelnanda-io/TransformerLens.git\n",
        "    !curl -fsSL https://deb.nodesource.com/setup_16.x | sudo -E bash -; sudo apt-get install -y nodejs\n",
        "    %pip install git+https://github.com/neelnanda-io/PySvelte.git\n",
        "    renderer = \"colab\"\n",
        "except:\n",
        "    IN_COLAB = False\n",
        "    print(\"Running as a Jupyter notebook - intended for development only!\")\n",
        "    from IPython import get_ipython\n",
        "    ipython = get_ipython()\n",
        "    # Code to automatically update the TransformerLens code as its edited without restarting the kernel\n",
        "    ipython.magic(\"load_ext autoreload\")\n",
        "    ipython.magic(\"autoreload 2\")\n",
        "    renderer = \"jupyterlab\""
      ]
    },
    {
      "cell_type": "code",
      "execution_count": null,
      "metadata": {
        "id": "KVPbb6IPKv4U"
      },
      "outputs": [],
      "source": [
        "from IPython import get_ipython\n",
        "ipython = get_ipython()\n",
        "# Code to automatically update the TransformerLens code as its edited without restarting the kernel\n",
        "# ipython.magic(\"load_ext autoreload\")\n",
        "# ipython.magic(\"autoreload 2\")"
      ]
    },
    {
      "cell_type": "code",
      "execution_count": null,
      "metadata": {
        "id": "SXYnmmdiKv4V"
      },
      "outputs": [],
      "source": [
        "\n",
        "# Plotly needs a different renderer for VSCode/Notebooks vs Colab argh\n",
        "import plotly.io as pio\n",
        "pio.renderers.default = renderer"
      ]
    },
    {
      "cell_type": "code",
      "execution_count": null,
      "metadata": {
        "colab": {
          "background_save": true
        },
        "id": "epoi7Cb7Kv4V"
      },
      "outputs": [],
      "source": [
        "# Import stuff\n",
        "import torch\n",
        "import torch.nn as nn\n",
        "import torch.nn.functional as F\n",
        "import torch.optim as optim\n",
        "import numpy as np\n",
        "import einops\n",
        "from fancy_einsum import einsum\n",
        "import tqdm.notebook as tqdm\n",
        "import random\n",
        "from pathlib import Path\n",
        "import plotly.express as px\n",
        "from torch.utils.data import DataLoader\n",
        "\n",
        "from jaxtyping import Float, Int\n",
        "from typing import List, Union, Optional\n",
        "from functools import partial\n",
        "import copy\n",
        "\n",
        "import itertools\n",
        "from transformers import AutoModelForCausalLM, AutoConfig, AutoTokenizer\n",
        "import dataclasses\n",
        "import datasets\n",
        "from IPython.display import HTML"
      ]
    },
    {
      "cell_type": "code",
      "execution_count": null,
      "metadata": {
        "colab": {
          "background_save": true
        },
        "id": "5MET3sC0Kv4V",
        "outputId": "789c7ce3-4c4c-4dcf-fff1-08173af7139a"
      },
      "outputs": [
        {
          "data": {
            "text/plain": [
              "False"
            ]
          },
          "execution_count": 5,
          "metadata": {},
          "output_type": "execute_result"
        }
      ],
      "source": [
        "torch.cuda.is_available()"
      ]
    },
    {
      "cell_type": "code",
      "execution_count": null,
      "metadata": {
        "colab": {
          "background_save": true
        },
        "id": "c5KcrsoJKv4W"
      },
      "outputs": [],
      "source": [
        "import pysvelte\n",
        "\n",
        "import transformer_lens\n",
        "import transformer_lens.utils as utils\n",
        "from transformer_lens.hook_points import (\n",
        "    HookedRootModule,\n",
        "    HookPoint,\n",
        ")  # Hooking utilities\n",
        "from transformer_lens import HookedTransformer, HookedTransformerConfig, FactoredMatrix, ActivationCache"
      ]
    },
    {
      "cell_type": "markdown",
      "metadata": {
        "id": "Zdw4b_oKKv4W"
      },
      "source": [
        "We turn automatic differentiation off, to save GPU memory, as this notebook focuses on model inference not model training."
      ]
    },
    {
      "cell_type": "code",
      "execution_count": null,
      "metadata": {
        "colab": {
          "background_save": true
        },
        "id": "CbmPPShhKv4W",
        "outputId": "e5968f1e-e229-411d-80c3-240b5da8cf65"
      },
      "outputs": [
        {
          "data": {
            "text/plain": [
              "<torch.autograd.grad_mode.set_grad_enabled at 0x7e2e18aa97b0>"
            ]
          },
          "execution_count": 7,
          "metadata": {},
          "output_type": "execute_result"
        }
      ],
      "source": [
        "torch.set_grad_enabled(False)"
      ]
    },
    {
      "cell_type": "markdown",
      "metadata": {
        "id": "F83ndvw3Kv4W"
      },
      "source": [
        "Plotting helper functions:"
      ]
    },
    {
      "cell_type": "code",
      "execution_count": null,
      "metadata": {
        "colab": {
          "background_save": true
        },
        "id": "9QMgUkYMKv4W"
      },
      "outputs": [],
      "source": [
        "def imshow(tensor, renderer=None, **kwargs):\n",
        "    px.imshow(utils.to_numpy(tensor), color_continuous_midpoint=0.0, color_continuous_scale=\"RdBu\", **kwargs).show(renderer)\n",
        "\n",
        "def line(tensor, renderer=None, **kwargs):\n",
        "    px.line(y=utils.to_numpy(tensor), **kwargs).show(renderer)\n",
        "\n",
        "def scatter(x, y, xaxis=\"\", yaxis=\"\", caxis=\"\", renderer=None, **kwargs):\n",
        "    x = utils.to_numpy(x)\n",
        "    y = utils.to_numpy(y)\n",
        "    px.scatter(y=y, x=x, labels={\"x\":xaxis, \"y\":yaxis, \"color\":caxis}, **kwargs).show(renderer)\n",
        "\n",
        "def cuda():\n",
        "    return torch.cuda.is_available()"
      ]
    },
    {
      "cell_type": "markdown",
      "metadata": {
        "id": "0a9fZdssKv4W"
      },
      "source": [
        "# Introduction\n",
        "\n",
        "This is a demo notebook for [TransformerLens](https://github.com/neelnanda-io/TransformerLens), a library for mechanistic interpretability of GPT-2 style transformer language models. A core design principle of the library is to enable exploratory analysis - one of the most fun parts of mechanistic interpretability compared to normal ML is the extremely short feedback loops! The point of this library is to keep the gap between having an experiment idea and seeing the results as small as possible, to make it easy for **research to feel like play** and to enter a flow state.\n",
        "\n",
        "The goal of this notebook is to demonstrate what exploratory analysis looks like in practice with the library. I use my standard toolkit of basic mechanistic interpretability techniques to try interpreting a real circuit in GPT-2 small. Check out [the main demo](https://colab.research.google.com/github/neelnanda-io/TransformerLens/blob/main/demos/Main_Demo.ipynb) for an introduction to the library and how to use it.\n",
        "\n",
        "Stylistically, I will go fairly slowly and explain in detail what I'm doing and why, aiming to help convey how to do this kind of research yourself! But the code itself is written to be simple and generic, and easy to copy and paste into your own projects for different tasks and models.\n",
        "\n",
        "Details tags contain asides, flavour + interpretability intuitions. These are more in the weeds and you don't need to read them or understand them, but they're helpful if you want to learn how to do mechanistic interpretability yourself! I star the ones I think are most important.\n",
        "<details><summary>(*) Example details tag</summary>Example aside!</details>"
      ]
    },
    {
      "cell_type": "markdown",
      "metadata": {
        "id": "z5DPTPc_Kv4X"
      },
      "source": [
        "## Sequence Identification"
      ]
    },
    {
      "cell_type": "markdown",
      "metadata": {
        "id": "PFlQPS8QKv4X"
      },
      "source": [
        "The first step is to load in our model, GPT-2 Small, a 12 layer and 80M parameter transformer with `HookedTransformer.from_pretrained`. The various flags are simplifications that preserve the model's output but simplify its internals, see [here](TODO: link) for details."
      ]
    },
    {
      "cell_type": "code",
      "execution_count": null,
      "metadata": {
        "colab": {
          "background_save": true,
          "referenced_widgets": [
            "2d96a0f23d7c43918a502a1499ad7296",
            "309ea6b85a834002b77a94d3c1fe7454",
            "2fc09b84fa784b0a80e68e989e591f05",
            "486876b0413944f9a835056ff92a51aa",
            "955696ea14d046a4ac07af66306bdde2",
            "e139838e79ff42f38494baa1a05e58e4"
          ]
        },
        "id": "sfI2jkdsKv4X",
        "outputId": "1b07a29f-db16-4106-8695-ce6424c646e0"
      },
      "outputs": [
        {
          "data": {
            "application/vnd.jupyter.widget-view+json": {
              "model_id": "2d96a0f23d7c43918a502a1499ad7296",
              "version_major": 2,
              "version_minor": 0
            },
            "text/plain": [
              "Downloading (…)lve/main/config.json:   0%|          | 0.00/665 [00:00<?, ?B/s]"
            ]
          },
          "metadata": {},
          "output_type": "display_data"
        },
        {
          "data": {
            "application/vnd.jupyter.widget-view+json": {
              "model_id": "309ea6b85a834002b77a94d3c1fe7454",
              "version_major": 2,
              "version_minor": 0
            },
            "text/plain": [
              "Downloading model.safetensors:   0%|          | 0.00/548M [00:00<?, ?B/s]"
            ]
          },
          "metadata": {},
          "output_type": "display_data"
        },
        {
          "data": {
            "application/vnd.jupyter.widget-view+json": {
              "model_id": "2fc09b84fa784b0a80e68e989e591f05",
              "version_major": 2,
              "version_minor": 0
            },
            "text/plain": [
              "Downloading (…)neration_config.json:   0%|          | 0.00/124 [00:00<?, ?B/s]"
            ]
          },
          "metadata": {},
          "output_type": "display_data"
        },
        {
          "data": {
            "application/vnd.jupyter.widget-view+json": {
              "model_id": "486876b0413944f9a835056ff92a51aa",
              "version_major": 2,
              "version_minor": 0
            },
            "text/plain": [
              "Downloading (…)olve/main/vocab.json:   0%|          | 0.00/1.04M [00:00<?, ?B/s]"
            ]
          },
          "metadata": {},
          "output_type": "display_data"
        },
        {
          "data": {
            "application/vnd.jupyter.widget-view+json": {
              "model_id": "955696ea14d046a4ac07af66306bdde2",
              "version_major": 2,
              "version_minor": 0
            },
            "text/plain": [
              "Downloading (…)olve/main/merges.txt:   0%|          | 0.00/456k [00:00<?, ?B/s]"
            ]
          },
          "metadata": {},
          "output_type": "display_data"
        },
        {
          "data": {
            "application/vnd.jupyter.widget-view+json": {
              "model_id": "e139838e79ff42f38494baa1a05e58e4",
              "version_major": 2,
              "version_minor": 0
            },
            "text/plain": [
              "Downloading (…)/main/tokenizer.json:   0%|          | 0.00/1.36M [00:00<?, ?B/s]"
            ]
          },
          "metadata": {},
          "output_type": "display_data"
        },
        {
          "name": "stderr",
          "output_type": "stream",
          "text": [
            "Using pad_token, but it is not set yet.\n"
          ]
        },
        {
          "name": "stdout",
          "output_type": "stream",
          "text": [
            "Loaded pretrained model gpt2-small into HookedTransformer\n"
          ]
        }
      ],
      "source": [
        "model = HookedTransformer.from_pretrained(\n",
        "    \"gpt2-small\",\n",
        "    center_unembed=True,\n",
        "    center_writing_weights=True,\n",
        "    fold_ln=True,\n",
        "    refactor_factored_attn_matrices=True,\n",
        ")"
      ]
    },
    {
      "cell_type": "markdown",
      "metadata": {
        "id": "rtm4AoUzKv4X"
      },
      "source": [
        "The next step is to verify that the model can *actually* do the task! Here we use `utils.test_prompt`, and see that the model is significantly better at predicting Mary than John!\n",
        "\n",
        "<details><summary>Asides:</summary>\n",
        "\n",
        "Note: If we were being careful, we'd want to run the model on a range of prompts and find the average performance\n",
        "\n",
        "`prepend_bos` is a flag to add a BOS (beginning of sequence) to the start of the prompt. GPT-2 was not trained with this, but I find that it often makes model behaviour more stable, as the first token is treated weirdly.\n",
        "</details>"
      ]
    },
    {
      "cell_type": "code",
      "execution_count": null,
      "metadata": {
        "colab": {
          "background_save": true
        },
        "id": "gpYS6Sj5Kv4X",
        "outputId": "efc3f9de-b378-419f-96e5-6233b0500cc5"
      },
      "outputs": [
        {
          "name": "stdout",
          "output_type": "stream",
          "text": [
            "Tokenized prompt: ['<|endoftext|>', 'Monday', ' Tuesday', ' Wednesday', ' Thursday']\n",
            "Tokenized answer: [' Friday']\n"
          ]
        },
        {
          "data": {
            "text/html": [
              "<pre style=\"white-space:pre;overflow-x:auto;line-height:normal;font-family:Menlo,'DejaVu Sans Mono',consolas,'Courier New',monospace\">Performance on answer token:\n",
              "<span style=\"font-weight: bold\">Rank: </span><span style=\"color: #008080; text-decoration-color: #008080; font-weight: bold\">0</span><span style=\"font-weight: bold\">        Logit: </span><span style=\"color: #008080; text-decoration-color: #008080; font-weight: bold\">21.89</span><span style=\"font-weight: bold\"> Prob: </span><span style=\"color: #008080; text-decoration-color: #008080; font-weight: bold\">97.45</span><span style=\"font-weight: bold\">% Token: | Friday|</span>\n",
              "</pre>\n"
            ],
            "text/plain": [
              "Performance on answer token:\n",
              "\u001b[1mRank: \u001b[0m\u001b[1;36m0\u001b[0m\u001b[1m        Logit: \u001b[0m\u001b[1;36m21.89\u001b[0m\u001b[1m Prob: \u001b[0m\u001b[1;36m97.45\u001b[0m\u001b[1m% Token: | Friday|\u001b[0m\n"
            ]
          },
          "metadata": {},
          "output_type": "display_data"
        },
        {
          "name": "stdout",
          "output_type": "stream",
          "text": [
            "Top 0th token. Logit: 21.89 Prob: 97.45% Token: | Friday|\n",
            "Top 1th token. Logit: 17.46 Prob:  1.16% Token: | Thursday|\n",
            "Top 2th token. Logit: 16.85 Prob:  0.63% Token: | Saturday|\n",
            "Top 3th token. Logit: 15.94 Prob:  0.26% Token: |Friday|\n",
            "Top 4th token. Logit: 14.73 Prob:  0.08% Token: | Fridays|\n",
            "Top 5th token. Logit: 14.41 Prob:  0.05% Token: | Sunday|\n",
            "Top 6th token. Logit: 14.24 Prob:  0.05% Token: | Morning|\n",
            "Top 7th token. Logit: 13.60 Prob:  0.02% Token: |\n",
            "|\n",
            "Top 8th token. Logit: 13.42 Prob:  0.02% Token: | morning|\n",
            "Top 9th token. Logit: 13.20 Prob:  0.02% Token: | 4|\n"
          ]
        },
        {
          "data": {
            "text/html": [
              "<pre style=\"white-space:pre;overflow-x:auto;line-height:normal;font-family:Menlo,'DejaVu Sans Mono',consolas,'Courier New',monospace\"><span style=\"font-weight: bold\">Ranks of the answer tokens:</span> <span style=\"font-weight: bold\">[(</span><span style=\"color: #008000; text-decoration-color: #008000\">' Friday'</span>, <span style=\"color: #008080; text-decoration-color: #008080; font-weight: bold\">0</span><span style=\"font-weight: bold\">)]</span>\n",
              "</pre>\n"
            ],
            "text/plain": [
              "\u001b[1mRanks of the answer tokens:\u001b[0m \u001b[1m[\u001b[0m\u001b[1m(\u001b[0m\u001b[32m' Friday'\u001b[0m, \u001b[1;36m0\u001b[0m\u001b[1m)\u001b[0m\u001b[1m]\u001b[0m\n"
            ]
          },
          "metadata": {},
          "output_type": "display_data"
        }
      ],
      "source": [
        "example_prompt = \"Monday Tuesday Wednesday Thursday\"\n",
        "example_answer = \" Friday\"\n",
        "utils.test_prompt(example_prompt, example_answer, model, prepend_bos=True)"
      ]
    },
    {
      "cell_type": "markdown",
      "metadata": {
        "id": "yD-aduPXKv4X"
      },
      "source": [
        "We now want to find a reference prompt to run the model on. Even though our ultimate goal is to reverse engineer how this behaviour is done in general, often the best way to start out in mechanistic interpretability is by zooming in on a concrete example and understanding it in detail, and only *then* zooming out and verifying that our analysis generalises.\n",
        "\n",
        "We'll run the model on 4 instances of this task, each prompt given twice - one with the first name as the indirect object, one with the second name. To make our lives easier, we'll carefully choose prompts with single token names and the corresponding names in the same token positions.\n",
        "\n",
        "<details> <summary>(*) <b>Aside on tokenization</b></summary>\n",
        "\n",
        "We want models that can take in arbitrary text, but models need to have a fixed vocabulary. So the solution is to define a vocabulary of **tokens** and to deterministically break up arbitrary text into tokens. Tokens are, essentially, subwords, and are determined by finding the most frequent substrings - this means that tokens vary a lot in length and frequency!\n",
        "\n",
        "Tokens are a *massive* headache and are one of the most annoying things about reverse engineering language models... Different names will be different numbers of tokens, different prompts will have the relevant tokens at different positions, different prompts will have different total numbers of tokens, etc. Language models often devote significant amounts of parameters in early layers to convert inputs from tokens to a more sensible internal format (and do the reverse in later layers). You really, really want to avoid needing to think about tokenization wherever possible when doing exploratory analysis (though, of course, it's relevant later when trying to flesh out your analysis and make it rigorous!). HookedTransformer comes with several helper methods to deal with tokens: `to_tokens, to_string, to_str_tokens, to_single_token, get_token_position`\n",
        "\n",
        "**Exercise:** I recommend using `model.to_str_tokens` to explore how the model tokenizes different strings. In particular, try adding or removing spaces at the start, or changing capitalization - these change tokenization!</details>"
      ]
    },
    {
      "cell_type": "markdown",
      "metadata": {
        "id": "DykgcncCKv4X"
      },
      "source": [
        "For some reason, GPT2 tokenizer, splits certain subwords. We don't want this in this exercise, so lets, add to the vocabulary. Check the logits though to make sure it can still effectively predict the sentence. Furthermore, interestingly, GPT2 small does not know the phonetic alphabet (alpha, bravo, charlie, delta, echo).. predicting 0.0 logits."
      ]
    },
    {
      "cell_type": "code",
      "execution_count": null,
      "metadata": {
        "colab": {
          "background_save": true
        },
        "id": "ps9RA3MBKv4X"
      },
      "outputs": [],
      "source": [
        "# og_tokenizer_dim = len(model.tokenizer)\n",
        "# custom_tokens = [\" feb\", \" bravo\", \" charlie\"]\n",
        "# model.tokenizer.add_tokens(custom_tokens)\n",
        "# assert og_tokenizer_dim+len(custom_tokens)==len(model.tokenizer)\n",
        "# model.resize_token_embeddings(len(model.tokenizer))"
      ]
    },
    {
      "cell_type": "code",
      "execution_count": null,
      "metadata": {
        "colab": {
          "background_save": true
        },
        "id": "orac7lJwKv4X"
      },
      "outputs": [],
      "source": [
        "prompt_format = [\n",
        "    \"Monday Tuesday Wednesday {}\",\n",
        "    \"one two three {}\",\n",
        "    \"January February March {}\",    #note: tokenizer tokenizes january into [jan, uaray]-> Use capitalization to avoid this\n",
        "    \"First Second Third {}\",       #same with bravo and charlie\n",
        "]\n",
        "true_prompts = [\n",
        "    \"Monday Tuesday Wednesday Thursday\",\n",
        "    \"one two three four\",\n",
        "    \"January February March April\",\n",
        "    \"First Second Third Fourth\"\n",
        "]\n",
        "names = [\n",
        "    (\" Thursday\", \" Friday\"),\n",
        "    (\" four\", \" five\"),\n",
        "    (\" April\", \" May\"),\n",
        "    (\" Fourth\", \" Fifth\"),\n",
        "]"
      ]
    },
    {
      "cell_type": "code",
      "execution_count": null,
      "metadata": {
        "colab": {
          "background_save": true
        },
        "id": "tFim8-VbCHR_",
        "outputId": "5a02a6af-318c-45b0-c86c-962043da2c1c"
      },
      "outputs": [
        {
          "name": "stdout",
          "output_type": "stream",
          "text": [
            "N tokens in real: 6 | N tokens in counterfactual: 6\n",
            "N tokens in real: 6 | N tokens in counterfactual: 6\n",
            "N tokens in real: 6 | N tokens in counterfactual: 6\n",
            "N tokens in real: 6 | N tokens in counterfactual: 6\n",
            "N tokens in real: 6 | N tokens in counterfactual: 6\n",
            "N tokens in real: 6 | N tokens in counterfactual: 6\n"
          ]
        }
      ],
      "source": [
        "incremental_prompts = [\n",
        "    (\"Monday Tuesday Wednesday Thursday\", \"Friday\", \"Saturday\"), #sequence, next element, skip element\n",
        "    (\"\\n  Tuesday Wednesday\", \"Thursday\", \"Friday\"),\n",
        "    (\"one two three four\", \"five\", \"six\"),\n",
        "    (\"\\n  four five\", \"six\", \"seven\"),\n",
        "    (\"January February March April\", \"May\", \"June\"),\n",
        "    (\"\\n  February March\", \"April\", \"May\"),\n",
        "]\n",
        "decremental_prompts = [\n",
        "    (\"Saturday Friday Thursday Wednesday\", \"Tuesday\", \"Monday\"),\n",
        "    (\"\\n Friday Thursday\", \"Wednesday\", \"Tuesday\"),\n",
        "    (\"six five four three\", \"two\", \"one\"),\n",
        "    (\"\\n  five four\", \"three\", \"two\"),\n",
        "    (\"June May April March\", \"February\", \"January\"),\n",
        "    (\"\\n  April March\", \"February\", \"January\"),\n",
        "]\n",
        "skip_prompts = [\n",
        "    (\"January March June August\", \"October\", \"December\"),\n",
        "    (\"one three five seven\", \"nine\", \"eleven\"),\n",
        "    (\"zero one one two three five\", \"eight\", \"thirteen\")\n",
        "]\n",
        "\n",
        "\n",
        "test_case = incremental_prompts\n",
        "\n",
        "prompt_formats = [p[0] for p in test_case]\n",
        "true_prompts = [p[0] + \" \" + p[1] for p in test_case]\n",
        "false_prompts = [p[0] + \" \" + p[2] for p in test_case]\n",
        "prompt_answers = [(f\" {p[1]}\", f\" {p[2]}\") for p in test_case]\n",
        "\n",
        "#checking that number of tokens is the same. Use \\n padding to make it so\n",
        "for p, pf in zip(true_prompts, false_prompts):\n",
        "    print(f\"N tokens in real: {len(model.to_str_tokens(p))} | N tokens in counterfactual: {len(model.to_str_tokens(pf))}\")\n"
      ]
    },
    {
      "cell_type": "code",
      "execution_count": null,
      "metadata": {
        "colab": {
          "background_save": true
        },
        "id": "KkEg3N_kKv4X",
        "outputId": "6f694f5f-6c12-4194-f54c-a18ea5e3e726"
      },
      "outputs": [
        {
          "name": "stdout",
          "output_type": "stream",
          "text": [
            "['Monday Tuesday Wednesday Thursday', 'Monday Tuesday Wednesday Thursday', '\\n  Tuesday Wednesday', '\\n  Tuesday Wednesday', 'one two three four', 'one two three four', '\\n  four five', '\\n  four five', 'January February March April', 'January February March April', '\\n  February March', '\\n  February March']\n",
            "['Monday Tuesday Wednesday Thursday', '\\n  Tuesday Wednesday', 'one two three four', '\\n  four five', 'January February March April', '\\n  February March']\n",
            "[(' Friday', ' Saturday'), (' Saturday', ' Friday'), (' Thursday', ' Friday'), (' Friday', ' Thursday'), (' five', ' six'), (' six', ' five'), (' six', ' seven'), (' seven', ' six'), (' May', ' June'), (' June', ' May'), (' April', ' May'), (' May', ' April')]\n"
          ]
        }
      ],
      "source": [
        "# List of prompts\n",
        "prompts = []\n",
        "# List of answers, in the format (correct, incorrect)\n",
        "answers = []\n",
        "# List of the token (ie an integer) corresponding to each answer, in the format (correct_token, incorrect_token)\n",
        "answer_tokens = []\n",
        "for i in range(len(prompt_formats)):\n",
        "    for j in range(2):\n",
        "        answers.append((prompt_answers[i][j], prompt_answers[i][1 - j]))\n",
        "        answer_tokens.append(\n",
        "            (\n",
        "                model.to_single_token(answers[-1][0]),\n",
        "                model.to_single_token(answers[-1][1]),\n",
        "            )\n",
        "        )\n",
        "        # Insert the *incorrect* answer to the prompt, making the correct answer the indirect object.\n",
        "        prompts.append(prompt_formats[i].format(answers[-1][1]))\n",
        "\n",
        "if cuda():\n",
        "    answer_tokens = torch.tensor(answer_tokens).cuda()\n",
        "else:\n",
        "    answer_tokens = torch.tensor(answer_tokens)\n",
        "print(prompts)\n",
        "print(prompt_formats)\n",
        "print(answers)"
      ]
    },
    {
      "cell_type": "code",
      "execution_count": null,
      "metadata": {
        "colab": {
          "background_save": true
        },
        "id": "HoW1zkDmG5WB",
        "outputId": "3a4362a2-9e49-4e16-b101-62c197aaf759"
      },
      "outputs": [
        {
          "name": "stdout",
          "output_type": "stream",
          "text": [
            "['Monday Tuesday Wednesday Thursday', 'Monday Tuesday Wednesday Thursday', '\\n  Tuesday Wednesday', '\\n  Tuesday Wednesday', 'one two three four', 'one two three four', '\\n  four five', '\\n  four five', 'January February March April', 'January February March April', '\\n  February March', '\\n  February March']\n",
            "[(' Friday',), (' Saturday',), (' Thursday',), (' Friday',), (' five',), (' six',), (' six',), (' seven',), (' May',), (' June',), (' April',), (' May',)]\n",
            "torch.Size([12, 1])\n"
          ]
        }
      ],
      "source": [
        "prompts = [] ; answers = [] ; answer_tokens = []\n",
        "for i,p in enumerate(prompt_formats):\n",
        "    p_answers = prompt_answers[i]\n",
        "    for ans in p_answers:\n",
        "        answers.append((ans,))\n",
        "        prompts.append(p)\n",
        "        answer_tokens.append(\n",
        "            (model.to_single_token(ans))\n",
        "        )\n",
        "answer_tokens = torch.tensor([answer_tokens]).T\n",
        "print(prompts)\n",
        "print(answers)\n",
        "print(answer_tokens.shape)"
      ]
    },
    {
      "cell_type": "markdown",
      "metadata": {
        "id": "rZOFv6ewKv4X"
      },
      "source": [
        "**Gotcha**: It's important that all of your prompts have the same number of tokens. If they're different lengths, then the position of the \"final\" logit where you can check logit difference will differ between prompts, and this will break the below code. The easiest solution is just to choose your prompts carefully to have the same number of tokens (you can eg add filler words like The, or newlines to start). There's a range of other ways of solving this, eg you can also index more intelligently to get the final logit"
      ]
    },
    {
      "cell_type": "code",
      "execution_count": null,
      "metadata": {
        "colab": {
          "background_save": true
        },
        "id": "-QeauMzXKv4Y",
        "outputId": "d1c998b1-1050-40fc-e1cc-c4217a06d788"
      },
      "outputs": [
        {
          "name": "stdout",
          "output_type": "stream",
          "text": [
            "Prompt length: 5\n",
            "Prompt as tokens: ['<|endoftext|>', 'Monday', ' Tuesday', ' Wednesday', ' Thursday']\n",
            "Prompt length: 5\n",
            "Prompt as tokens: ['<|endoftext|>', 'Monday', ' Tuesday', ' Wednesday', ' Thursday']\n",
            "Prompt length: 5\n",
            "Prompt as tokens: ['<|endoftext|>', '\\n', ' ', ' Tuesday', ' Wednesday']\n",
            "Prompt length: 5\n",
            "Prompt as tokens: ['<|endoftext|>', '\\n', ' ', ' Tuesday', ' Wednesday']\n",
            "Prompt length: 5\n",
            "Prompt as tokens: ['<|endoftext|>', 'one', ' two', ' three', ' four']\n",
            "Prompt length: 5\n",
            "Prompt as tokens: ['<|endoftext|>', 'one', ' two', ' three', ' four']\n",
            "Prompt length: 5\n",
            "Prompt as tokens: ['<|endoftext|>', '\\n', ' ', ' four', ' five']\n",
            "Prompt length: 5\n",
            "Prompt as tokens: ['<|endoftext|>', '\\n', ' ', ' four', ' five']\n",
            "Prompt length: 5\n",
            "Prompt as tokens: ['<|endoftext|>', 'January', ' February', ' March', ' April']\n",
            "Prompt length: 5\n",
            "Prompt as tokens: ['<|endoftext|>', 'January', ' February', ' March', ' April']\n",
            "Prompt length: 5\n",
            "Prompt as tokens: ['<|endoftext|>', '\\n', ' ', ' February', ' March']\n",
            "Prompt length: 5\n",
            "Prompt as tokens: ['<|endoftext|>', '\\n', ' ', ' February', ' March']\n"
          ]
        }
      ],
      "source": [
        "for prompt in prompts:\n",
        "    str_tokens = model.to_str_tokens(prompt)\n",
        "    print(\"Prompt length:\", len(str_tokens))\n",
        "    print(\"Prompt as tokens:\", str_tokens)"
      ]
    },
    {
      "cell_type": "markdown",
      "metadata": {
        "id": "SdvFTRQVKv4Y"
      },
      "source": [
        "A quick look at the logits gives"
      ]
    },
    {
      "cell_type": "code",
      "execution_count": null,
      "metadata": {
        "colab": {
          "background_save": true
        },
        "id": "Dyl6jz2-Kv4Y",
        "outputId": "0c217fc7-edab-4ff7-98e4-533a52737555"
      },
      "outputs": [
        {
          "name": "stdout",
          "output_type": "stream",
          "text": [
            "Tokenized prompt: ['<|endoftext|>', 'Monday', ' Tuesday', ' Wednesday', ' Thursday']\n",
            "Tokenized answer: [' Friday']\n"
          ]
        },
        {
          "data": {
            "text/html": [
              "<pre style=\"white-space:pre;overflow-x:auto;line-height:normal;font-family:Menlo,'DejaVu Sans Mono',consolas,'Courier New',monospace\">Performance on answer token:\n",
              "<span style=\"font-weight: bold\">Rank: </span><span style=\"color: #008080; text-decoration-color: #008080; font-weight: bold\">0</span><span style=\"font-weight: bold\">        Logit: </span><span style=\"color: #008080; text-decoration-color: #008080; font-weight: bold\">21.89</span><span style=\"font-weight: bold\"> Prob: </span><span style=\"color: #008080; text-decoration-color: #008080; font-weight: bold\">97.45</span><span style=\"font-weight: bold\">% Token: | Friday|</span>\n",
              "</pre>\n"
            ],
            "text/plain": [
              "Performance on answer token:\n",
              "\u001b[1mRank: \u001b[0m\u001b[1;36m0\u001b[0m\u001b[1m        Logit: \u001b[0m\u001b[1;36m21.89\u001b[0m\u001b[1m Prob: \u001b[0m\u001b[1;36m97.45\u001b[0m\u001b[1m% Token: | Friday|\u001b[0m\n"
            ]
          },
          "metadata": {},
          "output_type": "display_data"
        },
        {
          "name": "stdout",
          "output_type": "stream",
          "text": [
            "Top 0th token. Logit: 21.89 Prob: 97.45% Token: | Friday|\n",
            "Top 1th token. Logit: 17.46 Prob:  1.16% Token: | Thursday|\n",
            "Top 2th token. Logit: 16.85 Prob:  0.63% Token: | Saturday|\n",
            "Top 3th token. Logit: 15.94 Prob:  0.26% Token: |Friday|\n",
            "Top 4th token. Logit: 14.73 Prob:  0.08% Token: | Fridays|\n",
            "Top 5th token. Logit: 14.41 Prob:  0.05% Token: | Sunday|\n",
            "Top 6th token. Logit: 14.24 Prob:  0.05% Token: | Morning|\n",
            "Top 7th token. Logit: 13.60 Prob:  0.02% Token: |\n",
            "|\n",
            "Top 8th token. Logit: 13.42 Prob:  0.02% Token: | morning|\n",
            "Top 9th token. Logit: 13.20 Prob:  0.02% Token: | 4|\n"
          ]
        },
        {
          "data": {
            "text/html": [
              "<pre style=\"white-space:pre;overflow-x:auto;line-height:normal;font-family:Menlo,'DejaVu Sans Mono',consolas,'Courier New',monospace\"><span style=\"font-weight: bold\">Ranks of the answer tokens:</span> <span style=\"font-weight: bold\">[(</span><span style=\"color: #008000; text-decoration-color: #008000\">' Friday'</span>, <span style=\"color: #008080; text-decoration-color: #008080; font-weight: bold\">0</span><span style=\"font-weight: bold\">)]</span>\n",
              "</pre>\n"
            ],
            "text/plain": [
              "\u001b[1mRanks of the answer tokens:\u001b[0m \u001b[1m[\u001b[0m\u001b[1m(\u001b[0m\u001b[32m' Friday'\u001b[0m, \u001b[1;36m0\u001b[0m\u001b[1m)\u001b[0m\u001b[1m]\u001b[0m\n"
            ]
          },
          "metadata": {},
          "output_type": "display_data"
        },
        {
          "name": "stdout",
          "output_type": "stream",
          "text": [
            "Tokenized prompt: ['<|endoftext|>', '\\n', ' ', ' Tuesday', ' Wednesday']\n",
            "Tokenized answer: [' Thursday']\n"
          ]
        },
        {
          "data": {
            "text/html": [
              "<pre style=\"white-space:pre;overflow-x:auto;line-height:normal;font-family:Menlo,'DejaVu Sans Mono',consolas,'Courier New',monospace\">Performance on answer token:\n",
              "<span style=\"font-weight: bold\">Rank: </span><span style=\"color: #008080; text-decoration-color: #008080; font-weight: bold\">0</span><span style=\"font-weight: bold\">        Logit: </span><span style=\"color: #008080; text-decoration-color: #008080; font-weight: bold\">19.91</span><span style=\"font-weight: bold\"> Prob: </span><span style=\"color: #008080; text-decoration-color: #008080; font-weight: bold\">66.83</span><span style=\"font-weight: bold\">% Token: | Thursday|</span>\n",
              "</pre>\n"
            ],
            "text/plain": [
              "Performance on answer token:\n",
              "\u001b[1mRank: \u001b[0m\u001b[1;36m0\u001b[0m\u001b[1m        Logit: \u001b[0m\u001b[1;36m19.91\u001b[0m\u001b[1m Prob: \u001b[0m\u001b[1;36m66.83\u001b[0m\u001b[1m% Token: | Thursday|\u001b[0m\n"
            ]
          },
          "metadata": {},
          "output_type": "display_data"
        },
        {
          "name": "stdout",
          "output_type": "stream",
          "text": [
            "Top 0th token. Logit: 19.91 Prob: 66.83% Token: | Thursday|\n",
            "Top 1th token. Logit: 19.15 Prob: 31.01% Token: | Friday|\n",
            "Top 2th token. Logit: 14.74 Prob:  0.38% Token: | Saturday|\n",
            "Top 3th token. Logit: 14.55 Prob:  0.31% Token: | Wednesday|\n",
            "Top 4th token. Logit: 13.81 Prob:  0.15% Token: |Thursday|\n",
            "Top 5th token. Logit: 13.32 Prob:  0.09% Token: | Thu|\n",
            "Top 6th token. Logit: 13.11 Prob:  0.07% Token: |\n",
            "|\n",
            "Top 7th token. Logit: 12.94 Prob:  0.06% Token: |Friday|\n",
            "Top 8th token. Logit: 12.92 Prob:  0.06% Token: | 3|\n",
            "Top 9th token. Logit: 12.74 Prob:  0.05% Token: | Morning|\n"
          ]
        },
        {
          "data": {
            "text/html": [
              "<pre style=\"white-space:pre;overflow-x:auto;line-height:normal;font-family:Menlo,'DejaVu Sans Mono',consolas,'Courier New',monospace\"><span style=\"font-weight: bold\">Ranks of the answer tokens:</span> <span style=\"font-weight: bold\">[(</span><span style=\"color: #008000; text-decoration-color: #008000\">' Thursday'</span>, <span style=\"color: #008080; text-decoration-color: #008080; font-weight: bold\">0</span><span style=\"font-weight: bold\">)]</span>\n",
              "</pre>\n"
            ],
            "text/plain": [
              "\u001b[1mRanks of the answer tokens:\u001b[0m \u001b[1m[\u001b[0m\u001b[1m(\u001b[0m\u001b[32m' Thursday'\u001b[0m, \u001b[1;36m0\u001b[0m\u001b[1m)\u001b[0m\u001b[1m]\u001b[0m\n"
            ]
          },
          "metadata": {},
          "output_type": "display_data"
        },
        {
          "name": "stdout",
          "output_type": "stream",
          "text": [
            "Tokenized prompt: ['<|endoftext|>', 'one', ' two', ' three', ' four']\n",
            "Tokenized answer: [' five']\n"
          ]
        },
        {
          "data": {
            "text/html": [
              "<pre style=\"white-space:pre;overflow-x:auto;line-height:normal;font-family:Menlo,'DejaVu Sans Mono',consolas,'Courier New',monospace\">Performance on answer token:\n",
              "<span style=\"font-weight: bold\">Rank: </span><span style=\"color: #008080; text-decoration-color: #008080; font-weight: bold\">0</span><span style=\"font-weight: bold\">        Logit: </span><span style=\"color: #008080; text-decoration-color: #008080; font-weight: bold\">15.29</span><span style=\"font-weight: bold\"> Prob: </span><span style=\"color: #008080; text-decoration-color: #008080; font-weight: bold\">48.87</span><span style=\"font-weight: bold\">% Token: | five|</span>\n",
              "</pre>\n"
            ],
            "text/plain": [
              "Performance on answer token:\n",
              "\u001b[1mRank: \u001b[0m\u001b[1;36m0\u001b[0m\u001b[1m        Logit: \u001b[0m\u001b[1;36m15.29\u001b[0m\u001b[1m Prob: \u001b[0m\u001b[1;36m48.87\u001b[0m\u001b[1m% Token: | five|\u001b[0m\n"
            ]
          },
          "metadata": {},
          "output_type": "display_data"
        },
        {
          "name": "stdout",
          "output_type": "stream",
          "text": [
            "Top 0th token. Logit: 15.29 Prob: 48.87% Token: | five|\n",
            "Top 1th token. Logit: 13.46 Prob:  7.81% Token: | four|\n",
            "Top 2th token. Logit: 12.81 Prob:  4.07% Token: |\n",
            "|\n",
            "Top 3th token. Logit: 12.52 Prob:  3.05% Token: | six|\n",
            "Top 4th token. Logit: 12.24 Prob:  2.31% Token: | three|\n",
            "Top 5th token. Logit: 12.10 Prob:  2.02% Token: | seven|\n",
            "Top 6th token. Logit: 12.07 Prob:  1.95% Token: | Five|\n",
            "Top 7th token. Logit: 11.93 Prob:  1.69% Token: | one|\n",
            "Top 8th token. Logit: 11.90 Prob:  1.64% Token: |,|\n",
            "Top 9th token. Logit: 11.45 Prob:  1.04% Token: |.|\n"
          ]
        },
        {
          "data": {
            "text/html": [
              "<pre style=\"white-space:pre;overflow-x:auto;line-height:normal;font-family:Menlo,'DejaVu Sans Mono',consolas,'Courier New',monospace\"><span style=\"font-weight: bold\">Ranks of the answer tokens:</span> <span style=\"font-weight: bold\">[(</span><span style=\"color: #008000; text-decoration-color: #008000\">' five'</span>, <span style=\"color: #008080; text-decoration-color: #008080; font-weight: bold\">0</span><span style=\"font-weight: bold\">)]</span>\n",
              "</pre>\n"
            ],
            "text/plain": [
              "\u001b[1mRanks of the answer tokens:\u001b[0m \u001b[1m[\u001b[0m\u001b[1m(\u001b[0m\u001b[32m' five'\u001b[0m, \u001b[1;36m0\u001b[0m\u001b[1m)\u001b[0m\u001b[1m]\u001b[0m\n"
            ]
          },
          "metadata": {},
          "output_type": "display_data"
        },
        {
          "name": "stdout",
          "output_type": "stream",
          "text": [
            "Tokenized prompt: ['<|endoftext|>', '\\n', ' ', ' four', ' five']\n",
            "Tokenized answer: [' six']\n"
          ]
        },
        {
          "data": {
            "text/html": [
              "<pre style=\"white-space:pre;overflow-x:auto;line-height:normal;font-family:Menlo,'DejaVu Sans Mono',consolas,'Courier New',monospace\">Performance on answer token:\n",
              "<span style=\"font-weight: bold\">Rank: </span><span style=\"color: #008080; text-decoration-color: #008080; font-weight: bold\">0</span><span style=\"font-weight: bold\">        Logit: </span><span style=\"color: #008080; text-decoration-color: #008080; font-weight: bold\">13.24</span><span style=\"font-weight: bold\"> Prob: </span><span style=\"color: #008080; text-decoration-color: #008080; font-weight: bold\">22.50</span><span style=\"font-weight: bold\">% Token: | six|</span>\n",
              "</pre>\n"
            ],
            "text/plain": [
              "Performance on answer token:\n",
              "\u001b[1mRank: \u001b[0m\u001b[1;36m0\u001b[0m\u001b[1m        Logit: \u001b[0m\u001b[1;36m13.24\u001b[0m\u001b[1m Prob: \u001b[0m\u001b[1;36m22.50\u001b[0m\u001b[1m% Token: | six|\u001b[0m\n"
            ]
          },
          "metadata": {},
          "output_type": "display_data"
        },
        {
          "name": "stdout",
          "output_type": "stream",
          "text": [
            "Top 0th token. Logit: 13.24 Prob: 22.50% Token: | six|\n",
            "Top 1th token. Logit: 12.74 Prob: 13.66% Token: |\n",
            "|\n",
            "Top 2th token. Logit: 11.80 Prob:  5.30% Token: | 6|\n",
            "Top 3th token. Logit: 11.07 Prob:  2.57% Token: | seven|\n",
            "Top 4th token. Logit: 10.81 Prob:  1.97% Token: | (|\n",
            "Top 5th token. Logit: 10.30 Prob:  1.18% Token: | eight|\n",
            "Top 6th token. Logit: 10.24 Prob:  1.11% Token: | one|\n",
            "Top 7th token. Logit: 10.15 Prob:  1.02% Token: | Six|\n",
            "Top 8th token. Logit:  9.99 Prob:  0.87% Token: | ,|\n",
            "Top 9th token. Logit:  9.95 Prob:  0.84% Token: | five|\n"
          ]
        },
        {
          "data": {
            "text/html": [
              "<pre style=\"white-space:pre;overflow-x:auto;line-height:normal;font-family:Menlo,'DejaVu Sans Mono',consolas,'Courier New',monospace\"><span style=\"font-weight: bold\">Ranks of the answer tokens:</span> <span style=\"font-weight: bold\">[(</span><span style=\"color: #008000; text-decoration-color: #008000\">' six'</span>, <span style=\"color: #008080; text-decoration-color: #008080; font-weight: bold\">0</span><span style=\"font-weight: bold\">)]</span>\n",
              "</pre>\n"
            ],
            "text/plain": [
              "\u001b[1mRanks of the answer tokens:\u001b[0m \u001b[1m[\u001b[0m\u001b[1m(\u001b[0m\u001b[32m' six'\u001b[0m, \u001b[1;36m0\u001b[0m\u001b[1m)\u001b[0m\u001b[1m]\u001b[0m\n"
            ]
          },
          "metadata": {},
          "output_type": "display_data"
        },
        {
          "name": "stdout",
          "output_type": "stream",
          "text": [
            "Tokenized prompt: ['<|endoftext|>', 'January', ' February', ' March', ' April']\n",
            "Tokenized answer: [' May']\n"
          ]
        },
        {
          "data": {
            "text/html": [
              "<pre style=\"white-space:pre;overflow-x:auto;line-height:normal;font-family:Menlo,'DejaVu Sans Mono',consolas,'Courier New',monospace\">Performance on answer token:\n",
              "<span style=\"font-weight: bold\">Rank: </span><span style=\"color: #008080; text-decoration-color: #008080; font-weight: bold\">0</span><span style=\"font-weight: bold\">        Logit: </span><span style=\"color: #008080; text-decoration-color: #008080; font-weight: bold\">30.05</span><span style=\"font-weight: bold\"> Prob: </span><span style=\"color: #008080; text-decoration-color: #008080; font-weight: bold\">99.87</span><span style=\"font-weight: bold\">% Token: | May|</span>\n",
              "</pre>\n"
            ],
            "text/plain": [
              "Performance on answer token:\n",
              "\u001b[1mRank: \u001b[0m\u001b[1;36m0\u001b[0m\u001b[1m        Logit: \u001b[0m\u001b[1;36m30.05\u001b[0m\u001b[1m Prob: \u001b[0m\u001b[1;36m99.87\u001b[0m\u001b[1m% Token: | May|\u001b[0m\n"
            ]
          },
          "metadata": {},
          "output_type": "display_data"
        },
        {
          "name": "stdout",
          "output_type": "stream",
          "text": [
            "Top 0th token. Logit: 30.05 Prob: 99.87% Token: | May|\n",
            "Top 1th token. Logit: 22.47 Prob:  0.05% Token: | 5|\n",
            "Top 2th token. Logit: 21.69 Prob:  0.02% Token: | July|\n",
            "Top 3th token. Logit: 21.12 Prob:  0.01% Token: |\n",
            "|\n",
            "Top 4th token. Logit: 21.04 Prob:  0.01% Token: | June|\n",
            "Top 5th token. Logit: 19.32 Prob:  0.00% Token: | Wh|\n",
            "Top 6th token. Logit: 19.18 Prob:  0.00% Token: | If|\n",
            "Top 7th token. Logit: 18.90 Prob:  0.00% Token: | March|\n",
            "Top 8th token. Logit: 18.79 Prob:  0.00% Token: | April|\n",
            "Top 9th token. Logit: 18.69 Prob:  0.00% Token: | Please|\n"
          ]
        },
        {
          "data": {
            "text/html": [
              "<pre style=\"white-space:pre;overflow-x:auto;line-height:normal;font-family:Menlo,'DejaVu Sans Mono',consolas,'Courier New',monospace\"><span style=\"font-weight: bold\">Ranks of the answer tokens:</span> <span style=\"font-weight: bold\">[(</span><span style=\"color: #008000; text-decoration-color: #008000\">' May'</span>, <span style=\"color: #008080; text-decoration-color: #008080; font-weight: bold\">0</span><span style=\"font-weight: bold\">)]</span>\n",
              "</pre>\n"
            ],
            "text/plain": [
              "\u001b[1mRanks of the answer tokens:\u001b[0m \u001b[1m[\u001b[0m\u001b[1m(\u001b[0m\u001b[32m' May'\u001b[0m, \u001b[1;36m0\u001b[0m\u001b[1m)\u001b[0m\u001b[1m]\u001b[0m\n"
            ]
          },
          "metadata": {},
          "output_type": "display_data"
        },
        {
          "name": "stdout",
          "output_type": "stream",
          "text": [
            "Tokenized prompt: ['<|endoftext|>', '\\n', ' ', ' February', ' March']\n",
            "Tokenized answer: [' April']\n"
          ]
        },
        {
          "data": {
            "text/html": [
              "<pre style=\"white-space:pre;overflow-x:auto;line-height:normal;font-family:Menlo,'DejaVu Sans Mono',consolas,'Courier New',monospace\">Performance on answer token:\n",
              "<span style=\"font-weight: bold\">Rank: </span><span style=\"color: #008080; text-decoration-color: #008080; font-weight: bold\">0</span><span style=\"font-weight: bold\">        Logit: </span><span style=\"color: #008080; text-decoration-color: #008080; font-weight: bold\">22.41</span><span style=\"font-weight: bold\"> Prob: </span><span style=\"color: #008080; text-decoration-color: #008080; font-weight: bold\">95.00</span><span style=\"font-weight: bold\">% Token: | April|</span>\n",
              "</pre>\n"
            ],
            "text/plain": [
              "Performance on answer token:\n",
              "\u001b[1mRank: \u001b[0m\u001b[1;36m0\u001b[0m\u001b[1m        Logit: \u001b[0m\u001b[1;36m22.41\u001b[0m\u001b[1m Prob: \u001b[0m\u001b[1;36m95.00\u001b[0m\u001b[1m% Token: | April|\u001b[0m\n"
            ]
          },
          "metadata": {},
          "output_type": "display_data"
        },
        {
          "name": "stdout",
          "output_type": "stream",
          "text": [
            "Top 0th token. Logit: 22.41 Prob: 95.00% Token: | April|\n",
            "Top 1th token. Logit: 18.44 Prob:  1.79% Token: | June|\n",
            "Top 2th token. Logit: 17.67 Prob:  0.83% Token: | Apr|\n",
            "Top 3th token. Logit: 17.22 Prob:  0.53% Token: | May|\n",
            "Top 4th token. Logit: 16.59 Prob:  0.28% Token: | October|\n",
            "Top 5th token. Logit: 16.56 Prob:  0.27% Token: |\n",
            "|\n",
            "Top 6th token. Logit: 16.51 Prob:  0.26% Token: | 4|\n",
            "Top 7th token. Logit: 16.09 Prob:  0.17% Token: | March|\n",
            "Top 8th token. Logit: 15.02 Prob:  0.06% Token: | February|\n",
            "Top 9th token. Logit: 14.98 Prob:  0.06% Token: | August|\n"
          ]
        },
        {
          "data": {
            "text/html": [
              "<pre style=\"white-space:pre;overflow-x:auto;line-height:normal;font-family:Menlo,'DejaVu Sans Mono',consolas,'Courier New',monospace\"><span style=\"font-weight: bold\">Ranks of the answer tokens:</span> <span style=\"font-weight: bold\">[(</span><span style=\"color: #008000; text-decoration-color: #008000\">' April'</span>, <span style=\"color: #008080; text-decoration-color: #008080; font-weight: bold\">0</span><span style=\"font-weight: bold\">)]</span>\n",
              "</pre>\n"
            ],
            "text/plain": [
              "\u001b[1mRanks of the answer tokens:\u001b[0m \u001b[1m[\u001b[0m\u001b[1m(\u001b[0m\u001b[32m' April'\u001b[0m, \u001b[1;36m0\u001b[0m\u001b[1m)\u001b[0m\u001b[1m]\u001b[0m\n"
            ]
          },
          "metadata": {},
          "output_type": "display_data"
        }
      ],
      "source": [
        "for i, prompt in enumerate(prompt_formats):\n",
        "    utils.test_prompt(prompt, prompt_answers[i][0], model, prepend_bos=True)"
      ]
    },
    {
      "cell_type": "markdown",
      "metadata": {
        "id": "b2ym1VAoKv4Y"
      },
      "source": [
        "We now run the model on these prompts and use `run_with_cache` to get both the logits and a cache of all internal activations for later analysis"
      ]
    },
    {
      "cell_type": "code",
      "execution_count": null,
      "metadata": {
        "colab": {
          "background_save": true
        },
        "id": "XrlydtuTKv4Y"
      },
      "outputs": [],
      "source": [
        "tokens = model.to_tokens(prompts, prepend_bos=True)\n",
        "# Move the tokens to the GPU\n",
        "if cuda():\n",
        "    tokens = tokens.cuda()\n",
        "# Run the model and cache all activations\n",
        "original_logits, cache = model.run_with_cache(tokens)"
      ]
    },
    {
      "cell_type": "markdown",
      "metadata": {
        "id": "a2PfCyuyKv4Y"
      },
      "source": [
        "We'll later be evaluating how model performance differs upon performing various interventions, so it's useful to have a metric to measure model performance. Our metric here will be the **logit difference**, the difference in logit between the indirect object's name and the subject's name (eg, `logit(Mary)-logit(John)`)."
      ]
    },
    {
      "cell_type": "code",
      "execution_count": null,
      "metadata": {
        "colab": {
          "background_save": true
        },
        "id": "1x0vKIO7jNsn",
        "outputId": "91dae2a6-dd88-4b95-8ae3-a0f4a11d68be"
      },
      "outputs": [
        {
          "data": {
            "text/plain": [
              "torch.Size([12, 5, 50257])"
            ]
          },
          "execution_count": 19,
          "metadata": {},
          "output_type": "execute_result"
        }
      ],
      "source": [
        "original_logits.shape #= logits of unaltered sequence"
      ]
    },
    {
      "cell_type": "code",
      "execution_count": null,
      "metadata": {
        "colab": {
          "background_save": true
        },
        "id": "YA-7_IoLWITj",
        "outputId": "4463afcd-2c7e-45ab-ea59-d77cf5c5673a"
      },
      "outputs": [
        {
          "data": {
            "text/plain": [
              "torch.Size([12, 1])"
            ]
          },
          "execution_count": 20,
          "metadata": {},
          "output_type": "execute_result"
        }
      ],
      "source": [
        "answer_tokens.shape"
      ]
    },
    {
      "cell_type": "code",
      "execution_count": null,
      "metadata": {
        "colab": {
          "background_save": true
        },
        "id": "_K7P2G6tKv4Y",
        "outputId": "a7aed8b9-9ca8-4b69-d16b-64837ec310ad"
      },
      "outputs": [
        {
          "name": "stdout",
          "output_type": "stream",
          "text": [
            "Per prompt logit difference: tensor([[5.0362, 0.7680, 2.7753, 2.1699, 9.0104, 5.1898]])\n",
            "Average logit difference: 4.15825080871582\n",
            "Average logit difference of 4.16 : e^4.16 ≈ 63.96x higher probability of correct answer\n"
          ]
        }
      ],
      "source": [
        "def logits_to_ave_logit_diff(logits, answer_tokens, per_prompt=False):\n",
        "    # Only the final logits are relevant for the answer\n",
        "    final_logits = logits[:, -1, :]\n",
        "\n",
        "    answer_logits = final_logits.gather(dim=-1, index=answer_tokens)\n",
        "    #reshape so corresponding examples are on the same dim\n",
        "    answer_logits = answer_logits.view(len(prompt_formats), 2, -1)\n",
        "\n",
        "\n",
        "    answer_logit_diff = answer_logits[:, 0] - answer_logits[:, 1]\n",
        "    if per_prompt:\n",
        "        return answer_logit_diff.T\n",
        "    else:\n",
        "        return answer_logit_diff.mean().item()\n",
        "\n",
        "print(\"Per prompt logit difference:\", logits_to_ave_logit_diff(original_logits, answer_tokens, per_prompt=True))\n",
        "original_average_logit_diff = logits_to_ave_logit_diff(original_logits, answer_tokens)\n",
        "ave = logits_to_ave_logit_diff(original_logits, answer_tokens)\n",
        "print(\"Average logit difference:\", ave)\n",
        "print(f\"Average logit difference of {ave:.2f} : e^{ave:.2f} ≈ {np.exp(ave):.2f}x higher probability of correct answer\")"
      ]
    },
    {
      "cell_type": "markdown",
      "metadata": {
        "id": "D5A34GVtKv4Y"
      },
      "source": [
        "# Brainstorm What's Actually Going On (Optional)\n",
        "\n",
        "Before diving into running experiments, it's often useful to spend some time actually reasoning about how the behaviour in question could be implemented in the transformer. **This is optional, and you'll likely get the most out of engaging with this section if you have a decent understanding already of what a transformer is and how it works!**\n",
        "\n",
        "You don't have to do this and forming hypotheses after exploration is also reasonable, but I think it's often easier to explore and interpret results with some grounding in what you might find. In this particular case, I'm cheating somewhat, since I know the answer, but I'm trying to simulate the process of reasoning about it!\n",
        "\n",
        "Note that often your hypothesis will be wrong in some ways and often be completely off. We're doing science here, and the goal is to understand how the model *actually* works, and to form true beliefs! There are two separate traps here at two extremes that it's worth tracking:\n",
        "* Confusion: Having no hypotheses at all, getting a lot of data and not knowing what to do with it, and just floundering around\n",
        "* Dogmatism: Being overconfident in an incorrect hypothesis and being unwilling to let go of it when reality contradicts you, or flinching away from running the experiments that might disconfirm it.\n",
        "\n",
        "**Exercise:** Spend some time thinking through how you might imagine this behaviour being implemented in a transformer. Try to think through this for yourself before reading through my thoughts!\n",
        "\n",
        "<details> <summary>(*) <b>My reasoning</b></summary>\n",
        "\n",
        "<h3>Brainstorming:</h3>\n",
        "\n",
        "So, what's hard about the task? Let's focus on the concrete example of the first prompt, \"When John and Mary went to the shops, John gave the bag to\" -> \" Mary\".  \n",
        "\n",
        "A good starting point is thinking though whether a tiny model could do this, eg a <a href=\"https://transformer-circuits.pub/2021/framework/index.html\">1L Attn-Only model</a>. I'm pretty sure the answer is no! Attention is really good at the primitive operations of looking nearby, or copying information. I can believe a tiny model could figure out that at `to` it should look for names and predict that those names came next (eg the skip trigram \" John...to -> John\"). But it's much harder to tell how <i>many</i> of each previous name there are - attending 0.3 to each copy of John will look exactly the same as attending 0.6 to a single John token. So this will be pretty hard to figure out on the \" to\" token!\n",
        "\n",
        "The natural place to break this symmetry is on the second \" John\" token - telling whether there is an earlier copy of the <i>current</i> token should be a much easier task. So I might expect there to be a head which detects duplicate tokens on the second \" John\" token, and then another head which moves that information from the second \" John\" token to the \" to\" token.\n",
        "\n",
        "The model then needs to learn to predict \" Mary\" and <i>not</i> \" John\". I can see two natural ways to do this:\n",
        "1. Detect all preceding names and move this information to \" to\" and then delete the any name corresponding to the duplicate token feature. This feels easier done with a non-linearity, since precisely cancelling out vectors is hard, so I'd imagine an MLP layer deletes the \" John\" direction of the residual stream\n",
        "2. Have a head which attends to all previous names, but where the duplicate token features <i>inhibit</i> it from attending to specific names. So this only attends to Mary. And then the output of this head maps to the logits.  \n",
        "\n",
        "(Spoiler: It's the second one).\n",
        "\n",
        "<h3>Experiment Ideas</h3>\n",
        "\n",
        "A test that could distinguish these two is to look at which components of the model add directly to the logits - if it's mostly attention heads which attend to \" Mary\" and to neither \" John\" it's probably hypothesis 2, if it's mostly MLPs it's probably hypothesis 1.\n",
        "\n",
        "And we should be able to identify duplicate token heads by finding ones which attend from \" John\" to \" John\", and whose outputs are then moved to the \" to\" token by V-Composition with another head (Spoiler: It's more complicated than that!)\n",
        "\n",
        "Note that all of the above reasoning is very simplistic and could easily break in a real model! There'll be significant parts of the model that figure out whether to use this circuit at all (we don't want to inhibit duplicated names when, eg, figuring out what goes at the start of the <i>next</i> sentence), and may be parts towards the end of the model that do \"post-processing\" just before the final output. But it's a good starting point for thinking about what's going on."
      ]
    },
    {
      "cell_type": "markdown",
      "metadata": {
        "id": "WUgitF0dKv4Y"
      },
      "source": [
        "# Direct Logit Attribution"
      ]
    },
    {
      "cell_type": "markdown",
      "metadata": {
        "id": "cAnvurVOKv4Y"
      },
      "source": [
        "*Look up unfamiliar terms in the [mech interp explainer](https://neelnanda.io/glossary)*\n",
        "\n",
        "Further, the easiest part of the model to understand is the output - this is what the model is trained to optimize, and so it can always be directly interpreted! Often the right approach to reverse engineering a circuit is to start at the end, understand how the model produces the right answer, and to then work backwards. The main technique used to do this is called **direct logit attribution**\n",
        "\n",
        "**Background:** The central object of a transformer is the **residual stream**. This is the sum of the outputs of each layer and of the original token and positional embedding. Importantly, this means that any linear function of the residual stream can be perfectly decomposed into the contribution of each layer of the transformer. Further, each attention layer's output can be broken down into the sum of the output of each head (See [A Mathematical Framework for Transformer Circuits](https://transformer-circuits.pub/2021/framework/index.html) for details), and each MLP layer's output can be broken down into the sum of the output of each neuron (and a bias term for each layer).\n",
        "\n",
        "The logits of a model are `logits=Unembed(LayerNorm(final_residual_stream))`. The Unembed is a linear map, and LayerNorm is approximately a linear map, so we can decompose the logits into the sum of the contributions of each component, and look at which components contribute the most to the logit of the correct token! This is called **direct logit attribution**. Here we look at the direct attribution to the logit difference!\n",
        "\n",
        "<details> <summary>(*) <b>Background and motivation of the logit difference</b></summary>\n",
        "\n",
        "Logit difference is actually a *really* nice and elegant metric and is a particularly nice aspect of the setup of Indirect Object Identification. In general, there are two natural ways to interpret the model's outputs: the output logits, or the output log probabilities (or probabilities).\n",
        "\n",
        "The logits are much nicer and easier to understand, as noted above. However, the model is trained to optimize the cross-entropy loss (the average of log probability of the correct token). This means it does not directly optimize the logits, and indeed if the model adds an arbitrary constant to every logit, the log probabilities are unchanged.\n",
        "\n",
        "But `log_probs == logits.log_softmax(dim=-1) == logits - logsumexp(logits)`, and so `log_probs(\" Mary\") - log_probs(\" John\") = logits(\" Mary\") - logits(\" John\")` - the ability to add an arbitrary constant cancels out!\n",
        "\n",
        "Further, the metric helps us isolate the precise capability we care about - figuring out *which* name is the Indirect Object. There are many other components of the task - deciding whether to return an article (the) or pronoun (her) or name, realising that the sentence wants a person next at all, etc. By taking the logit difference we control for all of that.\n",
        "\n",
        "Our metric is further refined, because each prompt is repeated twice, for each possible indirect object. This controls for irrelevant behaviour such as the model learning that John is a more frequent token than Mary (this actually happens! The final layernorm bias increases the John logit by 1 relative to the Mary logit)\n",
        "\n",
        "</details>\n",
        "\n",
        "<details> <summary>Ignoring LayerNorm</summary>\n",
        "\n",
        "LayerNorm is an analogous normalization technique to BatchNorm (that's friendlier to massive parallelization) that transformers use. Every time a transformer layer reads information from the residual stream, it applies a LayerNorm to normalize the vector at each position (translating to set the mean to 0 and scaling to set the variance to 1) and then applying a learned vector of weights and biases to scale and translate the normalized vector. This is *almost* a linear map, apart from the scaling step, because that divides by the norm of the vector and the norm is not a linear function. (The `fold_ln` flag when loading a model factors out all the linear parts).\n",
        "\n",
        "But if we fixed the scale factor, the LayerNorm would be fully linear. And the scale of the residual stream is a global property that's a function of *all* components of the stream, while in practice there is normally just a few directions relevant to any particular component, so in practice this is an acceptable approximation. So when doing direct logit attribution we use the `apply_ln` flag on the `cache` to apply the global layernorm scaling factor to each constant. See [my clean GPT-2 implementation](https://colab.research.google.com/github/neelnanda-io/TransformerLens/blob/clean-transformer-demo/Clean_Transformer_Demo.ipynb#scrollTo=Clean_Transformer_Implementation) for more on LayerNorm.\n",
        "</details>"
      ]
    },
    {
      "cell_type": "markdown",
      "metadata": {
        "id": "tq1J4TS7Kv4Y"
      },
      "source": [
        " model.tokens_to_residual_directions(answer_tokens)Getting an output logit is equivalent to projecting onto a direction in the residual stream. We use `model.tokens_to_residual_directions` to map the answer tokens to that direction, and then convert this to a logit difference direction for each batch. Maps tokens to a tensor with the unembedding vector for those tokens, ie the vector in the residual stream that we dot with to the get the logit for that token.\n"
      ]
    },
    {
      "cell_type": "code",
      "execution_count": null,
      "metadata": {
        "colab": {
          "background_save": true
        },
        "id": "c2WM7JWOTFLK",
        "outputId": "34a0870e-12c8-45be-e06f-d5416f3eb9b2"
      },
      "outputs": [
        {
          "data": {
            "text/plain": [
              "torch.Size([768, 50257])"
            ]
          },
          "execution_count": 22,
          "metadata": {},
          "output_type": "execute_result"
        }
      ],
      "source": [
        "model.W_U.shape"
      ]
    },
    {
      "cell_type": "code",
      "execution_count": null,
      "metadata": {
        "colab": {
          "background_save": true
        },
        "id": "jRkxFCFrT3ML",
        "outputId": "9e5565af-7c8b-4157-c710-8fe96624f75e"
      },
      "outputs": [
        {
          "data": {
            "text/plain": [
              "torch.Size([12, 1])"
            ]
          },
          "execution_count": 23,
          "metadata": {},
          "output_type": "execute_result"
        }
      ],
      "source": [
        "answer_tokens.shape"
      ]
    },
    {
      "cell_type": "code",
      "execution_count": null,
      "metadata": {
        "colab": {
          "background_save": true
        },
        "id": "XswN3FESUW9e",
        "outputId": "e77e9eae-b8f1-42df-ec76-4aae59e9bfa4"
      },
      "outputs": [
        {
          "data": {
            "text/plain": [
              "[(' Friday',),\n",
              " (' Saturday',),\n",
              " (' Thursday',),\n",
              " (' Friday',),\n",
              " (' five',),\n",
              " (' six',),\n",
              " (' six',),\n",
              " (' seven',),\n",
              " (' May',),\n",
              " (' June',),\n",
              " (' April',),\n",
              " (' May',)]"
            ]
          },
          "execution_count": 24,
          "metadata": {},
          "output_type": "execute_result"
        }
      ],
      "source": [
        "answers"
      ]
    },
    {
      "cell_type": "code",
      "execution_count": null,
      "metadata": {
        "colab": {
          "background_save": true
        },
        "id": "af_hps7uV2Z_",
        "outputId": "e8765b20-db2b-49d6-9f0e-1824aad582f9"
      },
      "outputs": [
        {
          "name": "stdout",
          "output_type": "stream",
          "text": [
            "Answer residual directions shape: torch.Size([6, 2, 768])\n",
            "Logit difference directions shape: torch.Size([6, 768])\n"
          ]
        }
      ],
      "source": [
        "answer_residual_directions = model.tokens_to_residual_directions(answer_tokens)\n",
        "answer_residual_directions = answer_residual_directions.view(len(prompt_formats),2,-1)\n",
        "\n",
        "\n",
        "print(\"Answer residual directions shape:\", answer_residual_directions.shape)\n",
        "logit_diff_directions = answer_residual_directions[:, 0] - answer_residual_directions[:, 1]\n",
        "print(\"Logit difference directions shape:\", logit_diff_directions.shape)"
      ]
    },
    {
      "cell_type": "markdown",
      "metadata": {
        "id": "B-yJKDldKv4Z"
      },
      "source": [
        "To verify that this works, we can apply this to the final residual stream for our cached prompts (after applying LayerNorm scaling) and verify that we get the same answer.\n",
        "\n",
        "<details> <summary>Technical details</summary>\n",
        "\n",
        "`logits = Unembed(LayerNorm(final_residual_stream))`, so we technically need to account for the centering, and then learned translation and scaling of the layernorm, not just the variance 1 scaling.\n",
        "\n",
        "The centering is accounted for with the preprocessing flag `center_writing_weights` which ensures that every weight matrix writing to the residual stream has mean zero.\n",
        "\n",
        "The learned scaling is folded into the unembedding weights `model.unembed.W_U` via `W_U_fold = layer_norm.weights[:, None] * unembed.W_U`\n",
        "\n",
        "The learned translation is folded to `model.unembed.b_U`, a bias added to the logits (note that GPT-2 is not trained with an existing `b_U`). This roughly represents unigram statistics. But we can ignore this because each prompt occurs twice with names in the opposite order, so this perfectly cancels out.\n",
        "\n",
        "Note that rather than using layernorm scaling we could just study cache[\"ln_final.hook_normalised\"]\n",
        "\n",
        "</details>"
      ]
    },
    {
      "cell_type": "code",
      "execution_count": null,
      "metadata": {
        "colab": {
          "background_save": true
        },
        "id": "uootiHaLZjHM",
        "outputId": "cd3c8783-3190-4995-e03c-1f1461d7fb98"
      },
      "outputs": [
        {
          "name": "stdout",
          "output_type": "stream",
          "text": [
            "torch.Size([6, 768])\n"
          ]
        }
      ],
      "source": [
        "print(logit_diff_directions.shape)"
      ]
    },
    {
      "cell_type": "code",
      "execution_count": null,
      "metadata": {
        "colab": {
          "background_save": true
        },
        "id": "i2AESxQwL4-H",
        "outputId": "14e21e19-7d2a-4e23-b408-6f06910cb6ec"
      },
      "outputs": [
        {
          "name": "stdout",
          "output_type": "stream",
          "text": [
            "Final residual stream shape: torch.Size([12, 5, 768])\n",
            "Final token residual stream shape: torch.Size([12, 768])\n",
            "Scaled final token residual stream: torch.Size([12, 768])\n",
            "Scaled final residual stream shape: torch.Size([6, 768])\n",
            "torch.Size([6, 768])\n",
            "Calculated average logit diff: 4.04583740234375\n",
            "Original logit difference: 4.15825080871582\n",
            "Difference 0.11241340637207031 likely due to Layer Norm\n"
          ]
        }
      ],
      "source": [
        "# cache syntax - resid_post is the residual stream at the end of the layer, -1 gets the final layer.\n",
        "#The general syntax is [activation_name, layer_index, sub_layer_type].\n",
        "final_residual_stream = cache[\"resid_post\", -1]\n",
        "print(\"Final residual stream shape:\", final_residual_stream.shape) #batch (n_prompts) x tokens (sequence + answer) x residual_dim\n",
        "\n",
        "#index out final token\n",
        "final_token_residual_stream = final_residual_stream[:, -1, :] #batch x residual_dim\n",
        "print(\"Final token residual stream shape:\", final_token_residual_stream.shape)\n",
        "\n",
        "#not sure how this works:\n",
        "scaled_final_token_residual_stream = cache.apply_ln_to_stack(final_token_residual_stream, layer = -1, pos_slice=-1)\n",
        "print(\"Scaled final token residual stream:\", scaled_final_token_residual_stream.shape)\n",
        "\n",
        "# #reshape to prompt count (batch / 2 ) x 2 x d_model\n",
        "# #every two elements in the batch are the same as we use the same prompt, but with two different sequence endings\n",
        "scaled_final_token_residual_stream = scaled_final_token_residual_stream.view(len(prompt_formats),2,-1)\n",
        "scaled_final_token_residual_stream = scaled_final_token_residual_stream[:,0,:].squeeze()\n",
        "print(\"Scaled final residual stream shape:\", scaled_final_token_residual_stream.shape) #batch (n_prompts) x tokens (sequence + answer) x residual_dim\n",
        "\n",
        "\n",
        "print(logit_diff_directions.shape)\n",
        "\n",
        "#dot product average\n",
        "average_logit_diff = einsum(\"batch d_model, batch d_model -> \", scaled_final_token_residual_stream, logit_diff_directions)\n",
        "average_logit_diff = average_logit_diff / scaled_final_token_residual_stream.shape[0]\n",
        "\n",
        "\n",
        "print(\"Calculated average logit diff:\", average_logit_diff.item())\n",
        "print(\"Original logit difference:\", original_average_logit_diff)\n",
        "print(f\"Difference {original_average_logit_diff - average_logit_diff.item()} likely due to Layer Norm\")\n"
      ]
    },
    {
      "cell_type": "markdown",
      "metadata": {
        "id": "IlG2A8o3Kv4h"
      },
      "source": [
        "## Logit Lens"
      ]
    },
    {
      "cell_type": "markdown",
      "metadata": {
        "id": "dd0u3NQvKv4h"
      },
      "source": [
        "We can now decompose the residual stream! First we apply a technique called the [**logit lens**](https://www.alignmentforum.org/posts/AcKRB8wDpdaN6v6ru/interpreting-gpt-the-logit-lens) - this looks at the residual stream after each layer and calculates the logit difference from that. This simulates what happens if we delete all subsequence layers."
      ]
    },
    {
      "cell_type": "markdown",
      "metadata": {
        "id": "NkRydt9uKv4h"
      },
      "source": [
        "Fascinatingly, we see that the model is utterly unable to do the task until layer 7, almost all performance comes from attention layer 9, and performance actually *decreases* from there.\n",
        "\n",
        "**Note:** Hover over each data point to see what residual stream position it's from!\n",
        "\n",
        "<details> <summary>Details on `accumulated_resid`</summary>\n",
        "**Key:** `n_pre` means the residual stream at the start of layer n, `n_mid` means the residual stream after the attention part of layer n (`n_post` is the same as `n+1_pre` so is not included)\n",
        "\n",
        "* `layer` is the layer for which we input the residual stream (this is used to identify *which* layer norm scaling factor we want)\n",
        "* `incl_mid` is whether to include the residual stream in the middle of a layer, ie after attention & before MLP\n",
        "* `pos_slice` is the subset of the positions used. See `utils.Slice` for details on the syntax.\n",
        "* return_labels is whether to return the labels for each component returned (useful for plotting)\n",
        "</details>"
      ]
    },
    {
      "cell_type": "code",
      "execution_count": null,
      "metadata": {
        "colab": {
          "background_save": true
        },
        "id": "rD_YR8X6Kv4i",
        "outputId": "3f997880-fd30-4920-f5d7-401fffa98eaa"
      },
      "outputs": [
        {
          "data": {
            "text/html": [
              "<html>\n",
              "<head><meta charset=\"utf-8\" /></head>\n",
              "<body>\n",
              "    <div>            <script src=\"https://cdnjs.cloudflare.com/ajax/libs/mathjax/2.7.5/MathJax.js?config=TeX-AMS-MML_SVG\"></script><script type=\"text/javascript\">if (window.MathJax && window.MathJax.Hub && window.MathJax.Hub.Config) {window.MathJax.Hub.Config({SVG: {font: \"STIX-Web\"}});}</script>                <script type=\"text/javascript\">window.PlotlyConfig = {MathJaxConfig: 'local'};</script>\n",
              "        <script src=\"https://cdn.plot.ly/plotly-2.18.2.min.js\"></script>                <div id=\"2832f964-7b10-402e-a1d8-6db57248589c\" class=\"plotly-graph-div\" style=\"height:525px; width:100%;\"></div>            <script type=\"text/javascript\">                                    window.PLOTLYENV=window.PLOTLYENV || {};                                    if (document.getElementById(\"2832f964-7b10-402e-a1d8-6db57248589c\")) {                    Plotly.newPlot(                        \"2832f964-7b10-402e-a1d8-6db57248589c\",                        [{\"hovertemplate\":\"<b>%{hovertext}</b><br><br>x=%{x}<br>y=%{y}<extra></extra>\",\"hovertext\":[\"0_pre\",\"0_mid\",\"1_pre\",\"1_mid\",\"2_pre\",\"2_mid\",\"3_pre\",\"3_mid\",\"4_pre\",\"4_mid\",\"5_pre\",\"5_mid\",\"6_pre\",\"6_mid\",\"7_pre\",\"7_mid\",\"8_pre\",\"8_mid\",\"9_pre\",\"9_mid\",\"10_pre\",\"10_mid\",\"11_pre\",\"11_mid\",\"final_post\"],\"legendgroup\":\"\",\"line\":{\"color\":\"#636efa\",\"dash\":\"solid\"},\"marker\":{\"symbol\":\"circle\"},\"mode\":\"lines\",\"name\":\"\",\"orientation\":\"v\",\"showlegend\":false,\"x\":[0.0,0.5,1.0,1.5,2.0,2.5,3.0,3.5,4.0,4.5,5.0,5.5,6.0,6.5,7.0,7.5,8.0,8.5,9.0,9.5,10.0,10.5,11.0,11.5,12.0],\"xaxis\":\"x\",\"y\":[0.023078566417098045,0.028434179723262787,0.06529949605464935,0.06394108384847641,0.05531798675656319,0.06232389435172081,0.06881556659936905,0.05061250552535057,0.04074873402714729,0.04568642005324364,0.09823525696992874,0.038065697997808456,0.019655480980873108,0.05447356402873993,0.06734193116426468,0.275030255317688,0.22036568820476532,0.45003724098205566,0.5218384265899658,0.8115119934082031,1.8261500597000122,1.8941717147827148,2.7163050174713135,2.714660882949829,4.04583740234375],\"yaxis\":\"y\",\"type\":\"scatter\"}],                        {\"template\":{\"data\":{\"histogram2dcontour\":[{\"type\":\"histogram2dcontour\",\"colorbar\":{\"outlinewidth\":0,\"ticks\":\"\"},\"colorscale\":[[0.0,\"#0d0887\"],[0.1111111111111111,\"#46039f\"],[0.2222222222222222,\"#7201a8\"],[0.3333333333333333,\"#9c179e\"],[0.4444444444444444,\"#bd3786\"],[0.5555555555555556,\"#d8576b\"],[0.6666666666666666,\"#ed7953\"],[0.7777777777777778,\"#fb9f3a\"],[0.8888888888888888,\"#fdca26\"],[1.0,\"#f0f921\"]]}],\"choropleth\":[{\"type\":\"choropleth\",\"colorbar\":{\"outlinewidth\":0,\"ticks\":\"\"}}],\"histogram2d\":[{\"type\":\"histogram2d\",\"colorbar\":{\"outlinewidth\":0,\"ticks\":\"\"},\"colorscale\":[[0.0,\"#0d0887\"],[0.1111111111111111,\"#46039f\"],[0.2222222222222222,\"#7201a8\"],[0.3333333333333333,\"#9c179e\"],[0.4444444444444444,\"#bd3786\"],[0.5555555555555556,\"#d8576b\"],[0.6666666666666666,\"#ed7953\"],[0.7777777777777778,\"#fb9f3a\"],[0.8888888888888888,\"#fdca26\"],[1.0,\"#f0f921\"]]}],\"heatmap\":[{\"type\":\"heatmap\",\"colorbar\":{\"outlinewidth\":0,\"ticks\":\"\"},\"colorscale\":[[0.0,\"#0d0887\"],[0.1111111111111111,\"#46039f\"],[0.2222222222222222,\"#7201a8\"],[0.3333333333333333,\"#9c179e\"],[0.4444444444444444,\"#bd3786\"],[0.5555555555555556,\"#d8576b\"],[0.6666666666666666,\"#ed7953\"],[0.7777777777777778,\"#fb9f3a\"],[0.8888888888888888,\"#fdca26\"],[1.0,\"#f0f921\"]]}],\"heatmapgl\":[{\"type\":\"heatmapgl\",\"colorbar\":{\"outlinewidth\":0,\"ticks\":\"\"},\"colorscale\":[[0.0,\"#0d0887\"],[0.1111111111111111,\"#46039f\"],[0.2222222222222222,\"#7201a8\"],[0.3333333333333333,\"#9c179e\"],[0.4444444444444444,\"#bd3786\"],[0.5555555555555556,\"#d8576b\"],[0.6666666666666666,\"#ed7953\"],[0.7777777777777778,\"#fb9f3a\"],[0.8888888888888888,\"#fdca26\"],[1.0,\"#f0f921\"]]}],\"contourcarpet\":[{\"type\":\"contourcarpet\",\"colorbar\":{\"outlinewidth\":0,\"ticks\":\"\"}}],\"contour\":[{\"type\":\"contour\",\"colorbar\":{\"outlinewidth\":0,\"ticks\":\"\"},\"colorscale\":[[0.0,\"#0d0887\"],[0.1111111111111111,\"#46039f\"],[0.2222222222222222,\"#7201a8\"],[0.3333333333333333,\"#9c179e\"],[0.4444444444444444,\"#bd3786\"],[0.5555555555555556,\"#d8576b\"],[0.6666666666666666,\"#ed7953\"],[0.7777777777777778,\"#fb9f3a\"],[0.8888888888888888,\"#fdca26\"],[1.0,\"#f0f921\"]]}],\"surface\":[{\"type\":\"surface\",\"colorbar\":{\"outlinewidth\":0,\"ticks\":\"\"},\"colorscale\":[[0.0,\"#0d0887\"],[0.1111111111111111,\"#46039f\"],[0.2222222222222222,\"#7201a8\"],[0.3333333333333333,\"#9c179e\"],[0.4444444444444444,\"#bd3786\"],[0.5555555555555556,\"#d8576b\"],[0.6666666666666666,\"#ed7953\"],[0.7777777777777778,\"#fb9f3a\"],[0.8888888888888888,\"#fdca26\"],[1.0,\"#f0f921\"]]}],\"mesh3d\":[{\"type\":\"mesh3d\",\"colorbar\":{\"outlinewidth\":0,\"ticks\":\"\"}}],\"scatter\":[{\"fillpattern\":{\"fillmode\":\"overlay\",\"size\":10,\"solidity\":0.2},\"type\":\"scatter\"}],\"parcoords\":[{\"type\":\"parcoords\",\"line\":{\"colorbar\":{\"outlinewidth\":0,\"ticks\":\"\"}}}],\"scatterpolargl\":[{\"type\":\"scatterpolargl\",\"marker\":{\"colorbar\":{\"outlinewidth\":0,\"ticks\":\"\"}}}],\"bar\":[{\"error_x\":{\"color\":\"#2a3f5f\"},\"error_y\":{\"color\":\"#2a3f5f\"},\"marker\":{\"line\":{\"color\":\"#E5ECF6\",\"width\":0.5},\"pattern\":{\"fillmode\":\"overlay\",\"size\":10,\"solidity\":0.2}},\"type\":\"bar\"}],\"scattergeo\":[{\"type\":\"scattergeo\",\"marker\":{\"colorbar\":{\"outlinewidth\":0,\"ticks\":\"\"}}}],\"scatterpolar\":[{\"type\":\"scatterpolar\",\"marker\":{\"colorbar\":{\"outlinewidth\":0,\"ticks\":\"\"}}}],\"histogram\":[{\"marker\":{\"pattern\":{\"fillmode\":\"overlay\",\"size\":10,\"solidity\":0.2}},\"type\":\"histogram\"}],\"scattergl\":[{\"type\":\"scattergl\",\"marker\":{\"colorbar\":{\"outlinewidth\":0,\"ticks\":\"\"}}}],\"scatter3d\":[{\"type\":\"scatter3d\",\"line\":{\"colorbar\":{\"outlinewidth\":0,\"ticks\":\"\"}},\"marker\":{\"colorbar\":{\"outlinewidth\":0,\"ticks\":\"\"}}}],\"scattermapbox\":[{\"type\":\"scattermapbox\",\"marker\":{\"colorbar\":{\"outlinewidth\":0,\"ticks\":\"\"}}}],\"scatterternary\":[{\"type\":\"scatterternary\",\"marker\":{\"colorbar\":{\"outlinewidth\":0,\"ticks\":\"\"}}}],\"scattercarpet\":[{\"type\":\"scattercarpet\",\"marker\":{\"colorbar\":{\"outlinewidth\":0,\"ticks\":\"\"}}}],\"carpet\":[{\"aaxis\":{\"endlinecolor\":\"#2a3f5f\",\"gridcolor\":\"white\",\"linecolor\":\"white\",\"minorgridcolor\":\"white\",\"startlinecolor\":\"#2a3f5f\"},\"baxis\":{\"endlinecolor\":\"#2a3f5f\",\"gridcolor\":\"white\",\"linecolor\":\"white\",\"minorgridcolor\":\"white\",\"startlinecolor\":\"#2a3f5f\"},\"type\":\"carpet\"}],\"table\":[{\"cells\":{\"fill\":{\"color\":\"#EBF0F8\"},\"line\":{\"color\":\"white\"}},\"header\":{\"fill\":{\"color\":\"#C8D4E3\"},\"line\":{\"color\":\"white\"}},\"type\":\"table\"}],\"barpolar\":[{\"marker\":{\"line\":{\"color\":\"#E5ECF6\",\"width\":0.5},\"pattern\":{\"fillmode\":\"overlay\",\"size\":10,\"solidity\":0.2}},\"type\":\"barpolar\"}],\"pie\":[{\"automargin\":true,\"type\":\"pie\"}]},\"layout\":{\"autotypenumbers\":\"strict\",\"colorway\":[\"#636efa\",\"#EF553B\",\"#00cc96\",\"#ab63fa\",\"#FFA15A\",\"#19d3f3\",\"#FF6692\",\"#B6E880\",\"#FF97FF\",\"#FECB52\"],\"font\":{\"color\":\"#2a3f5f\"},\"hovermode\":\"closest\",\"hoverlabel\":{\"align\":\"left\"},\"paper_bgcolor\":\"white\",\"plot_bgcolor\":\"#E5ECF6\",\"polar\":{\"bgcolor\":\"#E5ECF6\",\"angularaxis\":{\"gridcolor\":\"white\",\"linecolor\":\"white\",\"ticks\":\"\"},\"radialaxis\":{\"gridcolor\":\"white\",\"linecolor\":\"white\",\"ticks\":\"\"}},\"ternary\":{\"bgcolor\":\"#E5ECF6\",\"aaxis\":{\"gridcolor\":\"white\",\"linecolor\":\"white\",\"ticks\":\"\"},\"baxis\":{\"gridcolor\":\"white\",\"linecolor\":\"white\",\"ticks\":\"\"},\"caxis\":{\"gridcolor\":\"white\",\"linecolor\":\"white\",\"ticks\":\"\"}},\"coloraxis\":{\"colorbar\":{\"outlinewidth\":0,\"ticks\":\"\"}},\"colorscale\":{\"sequential\":[[0.0,\"#0d0887\"],[0.1111111111111111,\"#46039f\"],[0.2222222222222222,\"#7201a8\"],[0.3333333333333333,\"#9c179e\"],[0.4444444444444444,\"#bd3786\"],[0.5555555555555556,\"#d8576b\"],[0.6666666666666666,\"#ed7953\"],[0.7777777777777778,\"#fb9f3a\"],[0.8888888888888888,\"#fdca26\"],[1.0,\"#f0f921\"]],\"sequentialminus\":[[0.0,\"#0d0887\"],[0.1111111111111111,\"#46039f\"],[0.2222222222222222,\"#7201a8\"],[0.3333333333333333,\"#9c179e\"],[0.4444444444444444,\"#bd3786\"],[0.5555555555555556,\"#d8576b\"],[0.6666666666666666,\"#ed7953\"],[0.7777777777777778,\"#fb9f3a\"],[0.8888888888888888,\"#fdca26\"],[1.0,\"#f0f921\"]],\"diverging\":[[0,\"#8e0152\"],[0.1,\"#c51b7d\"],[0.2,\"#de77ae\"],[0.3,\"#f1b6da\"],[0.4,\"#fde0ef\"],[0.5,\"#f7f7f7\"],[0.6,\"#e6f5d0\"],[0.7,\"#b8e186\"],[0.8,\"#7fbc41\"],[0.9,\"#4d9221\"],[1,\"#276419\"]]},\"xaxis\":{\"gridcolor\":\"white\",\"linecolor\":\"white\",\"ticks\":\"\",\"title\":{\"standoff\":15},\"zerolinecolor\":\"white\",\"automargin\":true,\"zerolinewidth\":2},\"yaxis\":{\"gridcolor\":\"white\",\"linecolor\":\"white\",\"ticks\":\"\",\"title\":{\"standoff\":15},\"zerolinecolor\":\"white\",\"automargin\":true,\"zerolinewidth\":2},\"scene\":{\"xaxis\":{\"backgroundcolor\":\"#E5ECF6\",\"gridcolor\":\"white\",\"linecolor\":\"white\",\"showbackground\":true,\"ticks\":\"\",\"zerolinecolor\":\"white\",\"gridwidth\":2},\"yaxis\":{\"backgroundcolor\":\"#E5ECF6\",\"gridcolor\":\"white\",\"linecolor\":\"white\",\"showbackground\":true,\"ticks\":\"\",\"zerolinecolor\":\"white\",\"gridwidth\":2},\"zaxis\":{\"backgroundcolor\":\"#E5ECF6\",\"gridcolor\":\"white\",\"linecolor\":\"white\",\"showbackground\":true,\"ticks\":\"\",\"zerolinecolor\":\"white\",\"gridwidth\":2}},\"shapedefaults\":{\"line\":{\"color\":\"#2a3f5f\"}},\"annotationdefaults\":{\"arrowcolor\":\"#2a3f5f\",\"arrowhead\":0,\"arrowwidth\":1},\"geo\":{\"bgcolor\":\"white\",\"landcolor\":\"#E5ECF6\",\"subunitcolor\":\"white\",\"showland\":true,\"showlakes\":true,\"lakecolor\":\"white\"},\"title\":{\"x\":0.05},\"mapbox\":{\"style\":\"light\"}}},\"xaxis\":{\"anchor\":\"y\",\"domain\":[0.0,1.0],\"title\":{\"text\":\"x\"}},\"yaxis\":{\"anchor\":\"x\",\"domain\":[0.0,1.0],\"title\":{\"text\":\"y\"}},\"legend\":{\"tracegroupgap\":0},\"title\":{\"text\":\"Logit Difference From Accumulate Residual Stream\"}},                        {\"responsive\": true}                    ).then(function(){\n",
              "                            \n",
              "var gd = document.getElementById('2832f964-7b10-402e-a1d8-6db57248589c');\n",
              "var x = new MutationObserver(function (mutations, observer) {{\n",
              "        var display = window.getComputedStyle(gd).display;\n",
              "        if (!display || display === 'none') {{\n",
              "            console.log([gd, 'removed!']);\n",
              "            Plotly.purge(gd);\n",
              "            observer.disconnect();\n",
              "        }}\n",
              "}});\n",
              "\n",
              "// Listen for the removal of the full notebook cells\n",
              "var notebookContainer = gd.closest('#notebook-container');\n",
              "if (notebookContainer) {{\n",
              "    x.observe(notebookContainer, {childList: true});\n",
              "}}\n",
              "\n",
              "// Listen for the clearing of the current output cell\n",
              "var outputEl = gd.closest('.output');\n",
              "if (outputEl) {{\n",
              "    x.observe(outputEl, {childList: true});\n",
              "}}\n",
              "\n",
              "                        })                };                            </script>        </div>\n",
              "</body>\n",
              "</html>"
            ]
          },
          "metadata": {},
          "output_type": "display_data"
        }
      ],
      "source": [
        "def residual_stack_to_logit_diff(residual_stack: Float[torch.Tensor, \"components batch d_model\"],\n",
        "                                 cache: ActivationCache) -> float:\n",
        "    scaled_residual_stack = cache.apply_ln_to_stack(residual_stack, layer = -1, pos_slice=-1)\n",
        "    n_layers, batch_size, d_model = scaled_residual_stack.shape\n",
        "    assert batch_size%2 == 0\n",
        "    scaled_residual_stack = scaled_residual_stack.view(n_layers, int(batch_size/2), 2, d_model)\n",
        "\n",
        "    #same deal as above. We have activations for each layer and for each prompt but every two prompts are the same\n",
        "    #so we index out so that we can dot product with the logit_difference\n",
        "    scaled_residual_stack = scaled_residual_stack[:,:,0,:]\n",
        "\n",
        "    layer_logit_difference = einsum(\"... batch d_model, batch d_model -> ...\", scaled_residual_stack, logit_diff_directions)\n",
        "    avg_layer_logit_difference = layer_logit_difference / (batch_size/2)\n",
        "\n",
        "    return avg_layer_logit_difference\n",
        "\n",
        "#the accumulation of residuals is the residual stream value at the final layer\n",
        "accumulated_residual, labels = cache.accumulated_resid(layer=-1, incl_mid=True, pos_slice=-1, return_labels=True)\n",
        "logit_lens_logit_diffs = residual_stack_to_logit_diff(accumulated_residual, cache)\n",
        "\n",
        "\n",
        "\n",
        "\n",
        "\n",
        "line(logit_lens_logit_diffs, x=np.arange(model.cfg.n_layers*2+1)/2, hover_name=labels, title=\"Logit Difference From Accumulate Residual Stream\")"
      ]
    },
    {
      "cell_type": "markdown",
      "metadata": {
        "id": "Tmyvujw2Kv4i"
      },
      "source": [
        "## Layer Attribution"
      ]
    },
    {
      "cell_type": "markdown",
      "metadata": {
        "id": "RIwpHuCSKv4i"
      },
      "source": [
        "We can repeat the above analysis but for each layer (this is equivalent to the differences between adjacent residual streams)\n",
        "\n",
        "Note: Annoying terminology overload - layer k of a transformer means the kth **transformer block**, but each block consists of an **attention layer** (to move information around) *and* an **MLP layer** (to process information).\n",
        "\n",
        "We see that only attention layers matter, which makes sense! The IOI task is about moving information around (ie moving the correct name and not the incorrect name), and less about processing it. And again we note that attention layer 9 improves things a lot, while attention 10 and attention 11 *decrease* performance"
      ]
    },
    {
      "cell_type": "markdown",
      "metadata": {
        "id": "jbzFlOfkpN_a"
      },
      "source": [
        "Sequences appear to be processed by MLP heads, with attention heads actively making performance worse."
      ]
    },
    {
      "cell_type": "code",
      "execution_count": null,
      "metadata": {
        "colab": {
          "background_save": true
        },
        "id": "EYOKBlcPKv4i",
        "outputId": "86b2265f-2e25-4c25-d7ab-ea5b21010ac6"
      },
      "outputs": [
        {
          "data": {
            "text/html": [
              "<html>\n",
              "<head><meta charset=\"utf-8\" /></head>\n",
              "<body>\n",
              "    <div>            <script src=\"https://cdnjs.cloudflare.com/ajax/libs/mathjax/2.7.5/MathJax.js?config=TeX-AMS-MML_SVG\"></script><script type=\"text/javascript\">if (window.MathJax && window.MathJax.Hub && window.MathJax.Hub.Config) {window.MathJax.Hub.Config({SVG: {font: \"STIX-Web\"}});}</script>                <script type=\"text/javascript\">window.PlotlyConfig = {MathJaxConfig: 'local'};</script>\n",
              "        <script src=\"https://cdn.plot.ly/plotly-2.18.2.min.js\"></script>                <div id=\"4e548ea8-edf2-4cba-9622-a44a07c4b9c1\" class=\"plotly-graph-div\" style=\"height:525px; width:100%;\"></div>            <script type=\"text/javascript\">                                    window.PLOTLYENV=window.PLOTLYENV || {};                                    if (document.getElementById(\"4e548ea8-edf2-4cba-9622-a44a07c4b9c1\")) {                    Plotly.newPlot(                        \"4e548ea8-edf2-4cba-9622-a44a07c4b9c1\",                        [{\"hovertemplate\":\"<b>%{hovertext}</b><br><br>x=%{x}<br>y=%{y}<extra></extra>\",\"hovertext\":[\"embed\",\"pos_embed\",\"0_attn_out\",\"0_mlp_out\",\"1_attn_out\",\"1_mlp_out\",\"2_attn_out\",\"2_mlp_out\",\"3_attn_out\",\"3_mlp_out\",\"4_attn_out\",\"4_mlp_out\",\"5_attn_out\",\"5_mlp_out\",\"6_attn_out\",\"6_mlp_out\",\"7_attn_out\",\"7_mlp_out\",\"8_attn_out\",\"8_mlp_out\",\"9_attn_out\",\"9_mlp_out\",\"10_attn_out\",\"10_mlp_out\",\"11_attn_out\",\"11_mlp_out\"],\"legendgroup\":\"\",\"line\":{\"color\":\"#636efa\",\"dash\":\"solid\"},\"marker\":{\"symbol\":\"circle\"},\"mode\":\"lines\",\"name\":\"\",\"orientation\":\"v\",\"showlegend\":false,\"x\":[0,1,2,3,4,5,6,7,8,9,10,11,12,13,14,15,16,17,18,19,20,21,22,23,24,25],\"xaxis\":\"x\",\"y\":[0.026538720354437828,-0.0034601560328155756,0.0053555928170681,0.03686531260609627,-0.0013583929976448417,-0.008623063564300537,0.007005906198173761,0.0064916363917291164,-0.018203064799308777,-0.009863752871751785,0.004937668796628714,0.05254889652132988,-0.06016954779624939,-0.01841025985777378,0.03481807932257652,0.012868412770330906,0.20768828690052032,-0.0546644926071167,0.22967155277729034,0.07180124521255493,0.2896735668182373,1.0146384239196777,0.06802133470773697,0.8221338391304016,-0.001644610776565969,1.3311761617660522],\"yaxis\":\"y\",\"type\":\"scatter\"}],                        {\"template\":{\"data\":{\"histogram2dcontour\":[{\"type\":\"histogram2dcontour\",\"colorbar\":{\"outlinewidth\":0,\"ticks\":\"\"},\"colorscale\":[[0.0,\"#0d0887\"],[0.1111111111111111,\"#46039f\"],[0.2222222222222222,\"#7201a8\"],[0.3333333333333333,\"#9c179e\"],[0.4444444444444444,\"#bd3786\"],[0.5555555555555556,\"#d8576b\"],[0.6666666666666666,\"#ed7953\"],[0.7777777777777778,\"#fb9f3a\"],[0.8888888888888888,\"#fdca26\"],[1.0,\"#f0f921\"]]}],\"choropleth\":[{\"type\":\"choropleth\",\"colorbar\":{\"outlinewidth\":0,\"ticks\":\"\"}}],\"histogram2d\":[{\"type\":\"histogram2d\",\"colorbar\":{\"outlinewidth\":0,\"ticks\":\"\"},\"colorscale\":[[0.0,\"#0d0887\"],[0.1111111111111111,\"#46039f\"],[0.2222222222222222,\"#7201a8\"],[0.3333333333333333,\"#9c179e\"],[0.4444444444444444,\"#bd3786\"],[0.5555555555555556,\"#d8576b\"],[0.6666666666666666,\"#ed7953\"],[0.7777777777777778,\"#fb9f3a\"],[0.8888888888888888,\"#fdca26\"],[1.0,\"#f0f921\"]]}],\"heatmap\":[{\"type\":\"heatmap\",\"colorbar\":{\"outlinewidth\":0,\"ticks\":\"\"},\"colorscale\":[[0.0,\"#0d0887\"],[0.1111111111111111,\"#46039f\"],[0.2222222222222222,\"#7201a8\"],[0.3333333333333333,\"#9c179e\"],[0.4444444444444444,\"#bd3786\"],[0.5555555555555556,\"#d8576b\"],[0.6666666666666666,\"#ed7953\"],[0.7777777777777778,\"#fb9f3a\"],[0.8888888888888888,\"#fdca26\"],[1.0,\"#f0f921\"]]}],\"heatmapgl\":[{\"type\":\"heatmapgl\",\"colorbar\":{\"outlinewidth\":0,\"ticks\":\"\"},\"colorscale\":[[0.0,\"#0d0887\"],[0.1111111111111111,\"#46039f\"],[0.2222222222222222,\"#7201a8\"],[0.3333333333333333,\"#9c179e\"],[0.4444444444444444,\"#bd3786\"],[0.5555555555555556,\"#d8576b\"],[0.6666666666666666,\"#ed7953\"],[0.7777777777777778,\"#fb9f3a\"],[0.8888888888888888,\"#fdca26\"],[1.0,\"#f0f921\"]]}],\"contourcarpet\":[{\"type\":\"contourcarpet\",\"colorbar\":{\"outlinewidth\":0,\"ticks\":\"\"}}],\"contour\":[{\"type\":\"contour\",\"colorbar\":{\"outlinewidth\":0,\"ticks\":\"\"},\"colorscale\":[[0.0,\"#0d0887\"],[0.1111111111111111,\"#46039f\"],[0.2222222222222222,\"#7201a8\"],[0.3333333333333333,\"#9c179e\"],[0.4444444444444444,\"#bd3786\"],[0.5555555555555556,\"#d8576b\"],[0.6666666666666666,\"#ed7953\"],[0.7777777777777778,\"#fb9f3a\"],[0.8888888888888888,\"#fdca26\"],[1.0,\"#f0f921\"]]}],\"surface\":[{\"type\":\"surface\",\"colorbar\":{\"outlinewidth\":0,\"ticks\":\"\"},\"colorscale\":[[0.0,\"#0d0887\"],[0.1111111111111111,\"#46039f\"],[0.2222222222222222,\"#7201a8\"],[0.3333333333333333,\"#9c179e\"],[0.4444444444444444,\"#bd3786\"],[0.5555555555555556,\"#d8576b\"],[0.6666666666666666,\"#ed7953\"],[0.7777777777777778,\"#fb9f3a\"],[0.8888888888888888,\"#fdca26\"],[1.0,\"#f0f921\"]]}],\"mesh3d\":[{\"type\":\"mesh3d\",\"colorbar\":{\"outlinewidth\":0,\"ticks\":\"\"}}],\"scatter\":[{\"fillpattern\":{\"fillmode\":\"overlay\",\"size\":10,\"solidity\":0.2},\"type\":\"scatter\"}],\"parcoords\":[{\"type\":\"parcoords\",\"line\":{\"colorbar\":{\"outlinewidth\":0,\"ticks\":\"\"}}}],\"scatterpolargl\":[{\"type\":\"scatterpolargl\",\"marker\":{\"colorbar\":{\"outlinewidth\":0,\"ticks\":\"\"}}}],\"bar\":[{\"error_x\":{\"color\":\"#2a3f5f\"},\"error_y\":{\"color\":\"#2a3f5f\"},\"marker\":{\"line\":{\"color\":\"#E5ECF6\",\"width\":0.5},\"pattern\":{\"fillmode\":\"overlay\",\"size\":10,\"solidity\":0.2}},\"type\":\"bar\"}],\"scattergeo\":[{\"type\":\"scattergeo\",\"marker\":{\"colorbar\":{\"outlinewidth\":0,\"ticks\":\"\"}}}],\"scatterpolar\":[{\"type\":\"scatterpolar\",\"marker\":{\"colorbar\":{\"outlinewidth\":0,\"ticks\":\"\"}}}],\"histogram\":[{\"marker\":{\"pattern\":{\"fillmode\":\"overlay\",\"size\":10,\"solidity\":0.2}},\"type\":\"histogram\"}],\"scattergl\":[{\"type\":\"scattergl\",\"marker\":{\"colorbar\":{\"outlinewidth\":0,\"ticks\":\"\"}}}],\"scatter3d\":[{\"type\":\"scatter3d\",\"line\":{\"colorbar\":{\"outlinewidth\":0,\"ticks\":\"\"}},\"marker\":{\"colorbar\":{\"outlinewidth\":0,\"ticks\":\"\"}}}],\"scattermapbox\":[{\"type\":\"scattermapbox\",\"marker\":{\"colorbar\":{\"outlinewidth\":0,\"ticks\":\"\"}}}],\"scatterternary\":[{\"type\":\"scatterternary\",\"marker\":{\"colorbar\":{\"outlinewidth\":0,\"ticks\":\"\"}}}],\"scattercarpet\":[{\"type\":\"scattercarpet\",\"marker\":{\"colorbar\":{\"outlinewidth\":0,\"ticks\":\"\"}}}],\"carpet\":[{\"aaxis\":{\"endlinecolor\":\"#2a3f5f\",\"gridcolor\":\"white\",\"linecolor\":\"white\",\"minorgridcolor\":\"white\",\"startlinecolor\":\"#2a3f5f\"},\"baxis\":{\"endlinecolor\":\"#2a3f5f\",\"gridcolor\":\"white\",\"linecolor\":\"white\",\"minorgridcolor\":\"white\",\"startlinecolor\":\"#2a3f5f\"},\"type\":\"carpet\"}],\"table\":[{\"cells\":{\"fill\":{\"color\":\"#EBF0F8\"},\"line\":{\"color\":\"white\"}},\"header\":{\"fill\":{\"color\":\"#C8D4E3\"},\"line\":{\"color\":\"white\"}},\"type\":\"table\"}],\"barpolar\":[{\"marker\":{\"line\":{\"color\":\"#E5ECF6\",\"width\":0.5},\"pattern\":{\"fillmode\":\"overlay\",\"size\":10,\"solidity\":0.2}},\"type\":\"barpolar\"}],\"pie\":[{\"automargin\":true,\"type\":\"pie\"}]},\"layout\":{\"autotypenumbers\":\"strict\",\"colorway\":[\"#636efa\",\"#EF553B\",\"#00cc96\",\"#ab63fa\",\"#FFA15A\",\"#19d3f3\",\"#FF6692\",\"#B6E880\",\"#FF97FF\",\"#FECB52\"],\"font\":{\"color\":\"#2a3f5f\"},\"hovermode\":\"closest\",\"hoverlabel\":{\"align\":\"left\"},\"paper_bgcolor\":\"white\",\"plot_bgcolor\":\"#E5ECF6\",\"polar\":{\"bgcolor\":\"#E5ECF6\",\"angularaxis\":{\"gridcolor\":\"white\",\"linecolor\":\"white\",\"ticks\":\"\"},\"radialaxis\":{\"gridcolor\":\"white\",\"linecolor\":\"white\",\"ticks\":\"\"}},\"ternary\":{\"bgcolor\":\"#E5ECF6\",\"aaxis\":{\"gridcolor\":\"white\",\"linecolor\":\"white\",\"ticks\":\"\"},\"baxis\":{\"gridcolor\":\"white\",\"linecolor\":\"white\",\"ticks\":\"\"},\"caxis\":{\"gridcolor\":\"white\",\"linecolor\":\"white\",\"ticks\":\"\"}},\"coloraxis\":{\"colorbar\":{\"outlinewidth\":0,\"ticks\":\"\"}},\"colorscale\":{\"sequential\":[[0.0,\"#0d0887\"],[0.1111111111111111,\"#46039f\"],[0.2222222222222222,\"#7201a8\"],[0.3333333333333333,\"#9c179e\"],[0.4444444444444444,\"#bd3786\"],[0.5555555555555556,\"#d8576b\"],[0.6666666666666666,\"#ed7953\"],[0.7777777777777778,\"#fb9f3a\"],[0.8888888888888888,\"#fdca26\"],[1.0,\"#f0f921\"]],\"sequentialminus\":[[0.0,\"#0d0887\"],[0.1111111111111111,\"#46039f\"],[0.2222222222222222,\"#7201a8\"],[0.3333333333333333,\"#9c179e\"],[0.4444444444444444,\"#bd3786\"],[0.5555555555555556,\"#d8576b\"],[0.6666666666666666,\"#ed7953\"],[0.7777777777777778,\"#fb9f3a\"],[0.8888888888888888,\"#fdca26\"],[1.0,\"#f0f921\"]],\"diverging\":[[0,\"#8e0152\"],[0.1,\"#c51b7d\"],[0.2,\"#de77ae\"],[0.3,\"#f1b6da\"],[0.4,\"#fde0ef\"],[0.5,\"#f7f7f7\"],[0.6,\"#e6f5d0\"],[0.7,\"#b8e186\"],[0.8,\"#7fbc41\"],[0.9,\"#4d9221\"],[1,\"#276419\"]]},\"xaxis\":{\"gridcolor\":\"white\",\"linecolor\":\"white\",\"ticks\":\"\",\"title\":{\"standoff\":15},\"zerolinecolor\":\"white\",\"automargin\":true,\"zerolinewidth\":2},\"yaxis\":{\"gridcolor\":\"white\",\"linecolor\":\"white\",\"ticks\":\"\",\"title\":{\"standoff\":15},\"zerolinecolor\":\"white\",\"automargin\":true,\"zerolinewidth\":2},\"scene\":{\"xaxis\":{\"backgroundcolor\":\"#E5ECF6\",\"gridcolor\":\"white\",\"linecolor\":\"white\",\"showbackground\":true,\"ticks\":\"\",\"zerolinecolor\":\"white\",\"gridwidth\":2},\"yaxis\":{\"backgroundcolor\":\"#E5ECF6\",\"gridcolor\":\"white\",\"linecolor\":\"white\",\"showbackground\":true,\"ticks\":\"\",\"zerolinecolor\":\"white\",\"gridwidth\":2},\"zaxis\":{\"backgroundcolor\":\"#E5ECF6\",\"gridcolor\":\"white\",\"linecolor\":\"white\",\"showbackground\":true,\"ticks\":\"\",\"zerolinecolor\":\"white\",\"gridwidth\":2}},\"shapedefaults\":{\"line\":{\"color\":\"#2a3f5f\"}},\"annotationdefaults\":{\"arrowcolor\":\"#2a3f5f\",\"arrowhead\":0,\"arrowwidth\":1},\"geo\":{\"bgcolor\":\"white\",\"landcolor\":\"#E5ECF6\",\"subunitcolor\":\"white\",\"showland\":true,\"showlakes\":true,\"lakecolor\":\"white\"},\"title\":{\"x\":0.05},\"mapbox\":{\"style\":\"light\"}}},\"xaxis\":{\"anchor\":\"y\",\"domain\":[0.0,1.0],\"title\":{\"text\":\"x\"}},\"yaxis\":{\"anchor\":\"x\",\"domain\":[0.0,1.0],\"title\":{\"text\":\"y\"}},\"legend\":{\"tracegroupgap\":0},\"title\":{\"text\":\"Logit Difference From Each Layer\"}},                        {\"responsive\": true}                    ).then(function(){\n",
              "                            \n",
              "var gd = document.getElementById('4e548ea8-edf2-4cba-9622-a44a07c4b9c1');\n",
              "var x = new MutationObserver(function (mutations, observer) {{\n",
              "        var display = window.getComputedStyle(gd).display;\n",
              "        if (!display || display === 'none') {{\n",
              "            console.log([gd, 'removed!']);\n",
              "            Plotly.purge(gd);\n",
              "            observer.disconnect();\n",
              "        }}\n",
              "}});\n",
              "\n",
              "// Listen for the removal of the full notebook cells\n",
              "var notebookContainer = gd.closest('#notebook-container');\n",
              "if (notebookContainer) {{\n",
              "    x.observe(notebookContainer, {childList: true});\n",
              "}}\n",
              "\n",
              "// Listen for the clearing of the current output cell\n",
              "var outputEl = gd.closest('.output');\n",
              "if (outputEl) {{\n",
              "    x.observe(outputEl, {childList: true});\n",
              "}}\n",
              "\n",
              "                        })                };                            </script>        </div>\n",
              "</body>\n",
              "</html>"
            ]
          },
          "metadata": {},
          "output_type": "display_data"
        }
      ],
      "source": [
        "per_layer_residual, labels = cache.decompose_resid(layer=-1, pos_slice=-1, return_labels=True)\n",
        "per_layer_logit_diffs = residual_stack_to_logit_diff(per_layer_residual, cache)\n",
        "line(per_layer_logit_diffs, hover_name=labels, title=\"Logit Difference From Each Layer\")"
      ]
    },
    {
      "cell_type": "code",
      "execution_count": null,
      "metadata": {
        "colab": {
          "background_save": true
        },
        "id": "p-AfvfAajmb4",
        "outputId": "902d8fcc-675f-4ddc-8fa1-ca0f9d14edd5"
      },
      "outputs": [
        {
          "data": {
            "text/plain": [
              "tensor(4.0458)"
            ]
          },
          "execution_count": 30,
          "metadata": {},
          "output_type": "execute_result"
        }
      ],
      "source": [
        "per_layer_logit_diffs.sum()"
      ]
    },
    {
      "cell_type": "markdown",
      "metadata": {
        "id": "JgWyyzaUKv4i"
      },
      "source": [
        "## Head Attribution"
      ]
    },
    {
      "cell_type": "markdown",
      "metadata": {
        "id": "mcJUuukeKv4i"
      },
      "source": [
        "We can further break down the output of each attention layer into the sum of the outputs of each attention head. Each attention layer consists of 12 heads, which each act independently and additively.\n",
        "\n",
        "<details> <summary>Decomposing attention output into sums of heads</summary>\n",
        "The standard way to compute the output of an attention layer is by concatenating the mixed values of each head, and multiplying by a big output weight matrix. But as described in [A Mathematical Framework](https://transformer-circuits.pub/2021/framework/index.html) this is equivalent to splitting the output weight matrix into a per-head output (here `model.blocks[k].attn.W_O`) and adding them up (including an overall bias term for the entire layer)\n",
        "</details>\n",
        "\n",
        "We see that only a few heads really matter - heads L9H6 and L9H9 contribute a lot positively (explaining why attention layer 9 is so important), while heads L10H7 and L11H10 contribute a lot negatively (explaining why attention layer 10 and layer 11 are actively harmful). These correspond to (some of) the name movers and negative name movers discussed in the paper. There are also several heads that matter positively or negatively but less strongly (other name movers and backu name movers)\n",
        "\n",
        "There are a few meta observations worth making here - our model has 144 heads, yet we could localise this behaviour to a handful of specific heads, using straightforward, general techniques. This supports the claim in [A Mathematical Framework](https://transformer-circuits.pub/2021/framework/index.html) that attention heads are the right level of abstraction to understand attention. It also really surprising that there are *negative* heads - eg L10H7 makes the incorrect logit 7x *more* likely. I'm not sure what's going on there, though the paper discusses some possibilities."
      ]
    },
    {
      "cell_type": "code",
      "execution_count": null,
      "metadata": {
        "colab": {
          "background_save": true
        },
        "id": "kGQxVqlNKv4i",
        "outputId": "06fa5251-3b8f-4918-ce73-3a83a21b31b3"
      },
      "outputs": [
        {
          "name": "stdout",
          "output_type": "stream",
          "text": [
            "Tried to stack head results when they weren't cached. Computing head results now\n"
          ]
        },
        {
          "data": {
            "text/html": [
              "<html>\n",
              "<head><meta charset=\"utf-8\" /></head>\n",
              "<body>\n",
              "    <div>            <script src=\"https://cdnjs.cloudflare.com/ajax/libs/mathjax/2.7.5/MathJax.js?config=TeX-AMS-MML_SVG\"></script><script type=\"text/javascript\">if (window.MathJax && window.MathJax.Hub && window.MathJax.Hub.Config) {window.MathJax.Hub.Config({SVG: {font: \"STIX-Web\"}});}</script>                <script type=\"text/javascript\">window.PlotlyConfig = {MathJaxConfig: 'local'};</script>\n",
              "        <script src=\"https://cdn.plot.ly/plotly-2.18.2.min.js\"></script>                <div id=\"4824986c-a6f8-4d52-b2a4-a86e06f3e832\" class=\"plotly-graph-div\" style=\"height:525px; width:100%;\"></div>            <script type=\"text/javascript\">                                    window.PLOTLYENV=window.PLOTLYENV || {};                                    if (document.getElementById(\"4824986c-a6f8-4d52-b2a4-a86e06f3e832\")) {                    Plotly.newPlot(                        \"4824986c-a6f8-4d52-b2a4-a86e06f3e832\",                        [{\"coloraxis\":\"coloraxis\",\"name\":\"0\",\"z\":[[-0.0037085581570863724,0.02971731685101986,-0.005792616400867701,0.00146602897439152,-0.0003663188253995031,-0.005331505089998245,0.0061751301400363445,0.002071149880066514,-0.014926367439329624,-0.002317111473530531,-0.0026249883230775595,-0.022978588938713074],[-0.00010561788076302037,0.013253137469291687,0.02639894373714924,-0.014863037504255772,-0.025921812281012535,-0.007523918524384499,0.011201075278222561,0.0003975536674261093,0.0126891965046525,-0.010454363189637661,0.02360285073518753,-0.011548388749361038],[0.014133114367723465,-0.003637665882706642,0.001216194243170321,0.006660271901637316,0.004068360198289156,-0.0023476567585021257,-0.020414255559444427,0.01384149119257927,-0.0011818570783361793,-0.010197483003139496,0.0051071010529994965,-0.0015009306371212006],[0.005655383225530386,-0.00610712543129921,0.0005998114938847721,0.0018263362580910325,-0.014876767061650753,-0.0016565100522711873,0.010561446659266949,-0.01010968815535307,-0.010230429470539093,0.0027349330484867096,0.005200766492635012,-0.0015920201549306512],[0.0026258546859025955,0.003426971612498164,-0.0014440534869208932,0.0020110399927943945,-0.01059830654412508,-0.0015104273334145546,-0.005334859248250723,-0.011917352676391602,-0.01264545600861311,0.00568765914067626,0.026423191651701927,0.0014474588679149747],[-0.05114009976387024,-0.0033205270301550627,-0.011739670298993587,-0.010549116879701614,0.00626847380772233,0.009060007520020008,0.006658514495939016,0.00525713199749589,0.0005343332886695862,-0.011881592683494091,0.017581060528755188,-0.014244098216295242],[0.0012991299154236913,0.017647042870521545,-0.007382235024124384,-0.010225466452538967,0.0026436885818839073,0.01222491730004549,-0.0031534943263977766,0.006446267943829298,-0.030892854556441307,0.05449479818344116,-0.01177835464477539,-0.0028351135551929474],[0.00813645962625742,0.0036024737637490034,0.01810583285987377,0.006782654207199812,-0.008086602203547955,0.01162155345082283,-0.0229599941521883,0.05661974474787712,-0.0007321282173506916,0.0014528223546221852,0.16645513474941254,-0.03731244429945946],[0.0019411100074648857,0.04364515468478203,0.005192325916141272,0.002704479731619358,-0.0003852707741316408,-0.0013662101700901985,-0.04609869793057442,-0.004103994462639093,0.056210946291685104,-0.017545288428664207,-0.018026551231741905,0.2049238234758377],[-0.0027900945860892534,0.3154188096523285,1.7727104932419024e-05,-0.002343449043110013,0.0030719509813934565,-0.03234918788075447,-0.000552771205548197,0.005618838593363762,0.005021428223699331,0.003362467512488365,-0.0058579458855092525,-0.0020111575722694397],[-0.002841576933860779,-0.004343886394053698,0.0020872801542282104,0.12325161695480347,0.00597691535949707,0.0004941239021718502,-0.004883264657109976,-0.11826404184103012,0.0029819284100085497,0.008820281364023685,0.019819116219878197,0.021884893998503685],[0.013031590729951859,0.015384502708911896,-0.0010461871279403567,0.009656992740929127,-0.013838331215083599,-0.006189029663801193,0.010488246567547321,0.00526611739769578,-0.019699687138199806,-0.003037934424355626,-0.005918750073760748,0.008807011879980564]],\"type\":\"heatmap\",\"xaxis\":\"x\",\"yaxis\":\"y\",\"hovertemplate\":\"Head: %{x}<br>Layer: %{y}<br>color: %{z}<extra></extra>\"}],                        {\"template\":{\"data\":{\"histogram2dcontour\":[{\"type\":\"histogram2dcontour\",\"colorbar\":{\"outlinewidth\":0,\"ticks\":\"\"},\"colorscale\":[[0.0,\"#0d0887\"],[0.1111111111111111,\"#46039f\"],[0.2222222222222222,\"#7201a8\"],[0.3333333333333333,\"#9c179e\"],[0.4444444444444444,\"#bd3786\"],[0.5555555555555556,\"#d8576b\"],[0.6666666666666666,\"#ed7953\"],[0.7777777777777778,\"#fb9f3a\"],[0.8888888888888888,\"#fdca26\"],[1.0,\"#f0f921\"]]}],\"choropleth\":[{\"type\":\"choropleth\",\"colorbar\":{\"outlinewidth\":0,\"ticks\":\"\"}}],\"histogram2d\":[{\"type\":\"histogram2d\",\"colorbar\":{\"outlinewidth\":0,\"ticks\":\"\"},\"colorscale\":[[0.0,\"#0d0887\"],[0.1111111111111111,\"#46039f\"],[0.2222222222222222,\"#7201a8\"],[0.3333333333333333,\"#9c179e\"],[0.4444444444444444,\"#bd3786\"],[0.5555555555555556,\"#d8576b\"],[0.6666666666666666,\"#ed7953\"],[0.7777777777777778,\"#fb9f3a\"],[0.8888888888888888,\"#fdca26\"],[1.0,\"#f0f921\"]]}],\"heatmap\":[{\"type\":\"heatmap\",\"colorbar\":{\"outlinewidth\":0,\"ticks\":\"\"},\"colorscale\":[[0.0,\"#0d0887\"],[0.1111111111111111,\"#46039f\"],[0.2222222222222222,\"#7201a8\"],[0.3333333333333333,\"#9c179e\"],[0.4444444444444444,\"#bd3786\"],[0.5555555555555556,\"#d8576b\"],[0.6666666666666666,\"#ed7953\"],[0.7777777777777778,\"#fb9f3a\"],[0.8888888888888888,\"#fdca26\"],[1.0,\"#f0f921\"]]}],\"heatmapgl\":[{\"type\":\"heatmapgl\",\"colorbar\":{\"outlinewidth\":0,\"ticks\":\"\"},\"colorscale\":[[0.0,\"#0d0887\"],[0.1111111111111111,\"#46039f\"],[0.2222222222222222,\"#7201a8\"],[0.3333333333333333,\"#9c179e\"],[0.4444444444444444,\"#bd3786\"],[0.5555555555555556,\"#d8576b\"],[0.6666666666666666,\"#ed7953\"],[0.7777777777777778,\"#fb9f3a\"],[0.8888888888888888,\"#fdca26\"],[1.0,\"#f0f921\"]]}],\"contourcarpet\":[{\"type\":\"contourcarpet\",\"colorbar\":{\"outlinewidth\":0,\"ticks\":\"\"}}],\"contour\":[{\"type\":\"contour\",\"colorbar\":{\"outlinewidth\":0,\"ticks\":\"\"},\"colorscale\":[[0.0,\"#0d0887\"],[0.1111111111111111,\"#46039f\"],[0.2222222222222222,\"#7201a8\"],[0.3333333333333333,\"#9c179e\"],[0.4444444444444444,\"#bd3786\"],[0.5555555555555556,\"#d8576b\"],[0.6666666666666666,\"#ed7953\"],[0.7777777777777778,\"#fb9f3a\"],[0.8888888888888888,\"#fdca26\"],[1.0,\"#f0f921\"]]}],\"surface\":[{\"type\":\"surface\",\"colorbar\":{\"outlinewidth\":0,\"ticks\":\"\"},\"colorscale\":[[0.0,\"#0d0887\"],[0.1111111111111111,\"#46039f\"],[0.2222222222222222,\"#7201a8\"],[0.3333333333333333,\"#9c179e\"],[0.4444444444444444,\"#bd3786\"],[0.5555555555555556,\"#d8576b\"],[0.6666666666666666,\"#ed7953\"],[0.7777777777777778,\"#fb9f3a\"],[0.8888888888888888,\"#fdca26\"],[1.0,\"#f0f921\"]]}],\"mesh3d\":[{\"type\":\"mesh3d\",\"colorbar\":{\"outlinewidth\":0,\"ticks\":\"\"}}],\"scatter\":[{\"fillpattern\":{\"fillmode\":\"overlay\",\"size\":10,\"solidity\":0.2},\"type\":\"scatter\"}],\"parcoords\":[{\"type\":\"parcoords\",\"line\":{\"colorbar\":{\"outlinewidth\":0,\"ticks\":\"\"}}}],\"scatterpolargl\":[{\"type\":\"scatterpolargl\",\"marker\":{\"colorbar\":{\"outlinewidth\":0,\"ticks\":\"\"}}}],\"bar\":[{\"error_x\":{\"color\":\"#2a3f5f\"},\"error_y\":{\"color\":\"#2a3f5f\"},\"marker\":{\"line\":{\"color\":\"#E5ECF6\",\"width\":0.5},\"pattern\":{\"fillmode\":\"overlay\",\"size\":10,\"solidity\":0.2}},\"type\":\"bar\"}],\"scattergeo\":[{\"type\":\"scattergeo\",\"marker\":{\"colorbar\":{\"outlinewidth\":0,\"ticks\":\"\"}}}],\"scatterpolar\":[{\"type\":\"scatterpolar\",\"marker\":{\"colorbar\":{\"outlinewidth\":0,\"ticks\":\"\"}}}],\"histogram\":[{\"marker\":{\"pattern\":{\"fillmode\":\"overlay\",\"size\":10,\"solidity\":0.2}},\"type\":\"histogram\"}],\"scattergl\":[{\"type\":\"scattergl\",\"marker\":{\"colorbar\":{\"outlinewidth\":0,\"ticks\":\"\"}}}],\"scatter3d\":[{\"type\":\"scatter3d\",\"line\":{\"colorbar\":{\"outlinewidth\":0,\"ticks\":\"\"}},\"marker\":{\"colorbar\":{\"outlinewidth\":0,\"ticks\":\"\"}}}],\"scattermapbox\":[{\"type\":\"scattermapbox\",\"marker\":{\"colorbar\":{\"outlinewidth\":0,\"ticks\":\"\"}}}],\"scatterternary\":[{\"type\":\"scatterternary\",\"marker\":{\"colorbar\":{\"outlinewidth\":0,\"ticks\":\"\"}}}],\"scattercarpet\":[{\"type\":\"scattercarpet\",\"marker\":{\"colorbar\":{\"outlinewidth\":0,\"ticks\":\"\"}}}],\"carpet\":[{\"aaxis\":{\"endlinecolor\":\"#2a3f5f\",\"gridcolor\":\"white\",\"linecolor\":\"white\",\"minorgridcolor\":\"white\",\"startlinecolor\":\"#2a3f5f\"},\"baxis\":{\"endlinecolor\":\"#2a3f5f\",\"gridcolor\":\"white\",\"linecolor\":\"white\",\"minorgridcolor\":\"white\",\"startlinecolor\":\"#2a3f5f\"},\"type\":\"carpet\"}],\"table\":[{\"cells\":{\"fill\":{\"color\":\"#EBF0F8\"},\"line\":{\"color\":\"white\"}},\"header\":{\"fill\":{\"color\":\"#C8D4E3\"},\"line\":{\"color\":\"white\"}},\"type\":\"table\"}],\"barpolar\":[{\"marker\":{\"line\":{\"color\":\"#E5ECF6\",\"width\":0.5},\"pattern\":{\"fillmode\":\"overlay\",\"size\":10,\"solidity\":0.2}},\"type\":\"barpolar\"}],\"pie\":[{\"automargin\":true,\"type\":\"pie\"}]},\"layout\":{\"autotypenumbers\":\"strict\",\"colorway\":[\"#636efa\",\"#EF553B\",\"#00cc96\",\"#ab63fa\",\"#FFA15A\",\"#19d3f3\",\"#FF6692\",\"#B6E880\",\"#FF97FF\",\"#FECB52\"],\"font\":{\"color\":\"#2a3f5f\"},\"hovermode\":\"closest\",\"hoverlabel\":{\"align\":\"left\"},\"paper_bgcolor\":\"white\",\"plot_bgcolor\":\"#E5ECF6\",\"polar\":{\"bgcolor\":\"#E5ECF6\",\"angularaxis\":{\"gridcolor\":\"white\",\"linecolor\":\"white\",\"ticks\":\"\"},\"radialaxis\":{\"gridcolor\":\"white\",\"linecolor\":\"white\",\"ticks\":\"\"}},\"ternary\":{\"bgcolor\":\"#E5ECF6\",\"aaxis\":{\"gridcolor\":\"white\",\"linecolor\":\"white\",\"ticks\":\"\"},\"baxis\":{\"gridcolor\":\"white\",\"linecolor\":\"white\",\"ticks\":\"\"},\"caxis\":{\"gridcolor\":\"white\",\"linecolor\":\"white\",\"ticks\":\"\"}},\"coloraxis\":{\"colorbar\":{\"outlinewidth\":0,\"ticks\":\"\"}},\"colorscale\":{\"sequential\":[[0.0,\"#0d0887\"],[0.1111111111111111,\"#46039f\"],[0.2222222222222222,\"#7201a8\"],[0.3333333333333333,\"#9c179e\"],[0.4444444444444444,\"#bd3786\"],[0.5555555555555556,\"#d8576b\"],[0.6666666666666666,\"#ed7953\"],[0.7777777777777778,\"#fb9f3a\"],[0.8888888888888888,\"#fdca26\"],[1.0,\"#f0f921\"]],\"sequentialminus\":[[0.0,\"#0d0887\"],[0.1111111111111111,\"#46039f\"],[0.2222222222222222,\"#7201a8\"],[0.3333333333333333,\"#9c179e\"],[0.4444444444444444,\"#bd3786\"],[0.5555555555555556,\"#d8576b\"],[0.6666666666666666,\"#ed7953\"],[0.7777777777777778,\"#fb9f3a\"],[0.8888888888888888,\"#fdca26\"],[1.0,\"#f0f921\"]],\"diverging\":[[0,\"#8e0152\"],[0.1,\"#c51b7d\"],[0.2,\"#de77ae\"],[0.3,\"#f1b6da\"],[0.4,\"#fde0ef\"],[0.5,\"#f7f7f7\"],[0.6,\"#e6f5d0\"],[0.7,\"#b8e186\"],[0.8,\"#7fbc41\"],[0.9,\"#4d9221\"],[1,\"#276419\"]]},\"xaxis\":{\"gridcolor\":\"white\",\"linecolor\":\"white\",\"ticks\":\"\",\"title\":{\"standoff\":15},\"zerolinecolor\":\"white\",\"automargin\":true,\"zerolinewidth\":2},\"yaxis\":{\"gridcolor\":\"white\",\"linecolor\":\"white\",\"ticks\":\"\",\"title\":{\"standoff\":15},\"zerolinecolor\":\"white\",\"automargin\":true,\"zerolinewidth\":2},\"scene\":{\"xaxis\":{\"backgroundcolor\":\"#E5ECF6\",\"gridcolor\":\"white\",\"linecolor\":\"white\",\"showbackground\":true,\"ticks\":\"\",\"zerolinecolor\":\"white\",\"gridwidth\":2},\"yaxis\":{\"backgroundcolor\":\"#E5ECF6\",\"gridcolor\":\"white\",\"linecolor\":\"white\",\"showbackground\":true,\"ticks\":\"\",\"zerolinecolor\":\"white\",\"gridwidth\":2},\"zaxis\":{\"backgroundcolor\":\"#E5ECF6\",\"gridcolor\":\"white\",\"linecolor\":\"white\",\"showbackground\":true,\"ticks\":\"\",\"zerolinecolor\":\"white\",\"gridwidth\":2}},\"shapedefaults\":{\"line\":{\"color\":\"#2a3f5f\"}},\"annotationdefaults\":{\"arrowcolor\":\"#2a3f5f\",\"arrowhead\":0,\"arrowwidth\":1},\"geo\":{\"bgcolor\":\"white\",\"landcolor\":\"#E5ECF6\",\"subunitcolor\":\"white\",\"showland\":true,\"showlakes\":true,\"lakecolor\":\"white\"},\"title\":{\"x\":0.05},\"mapbox\":{\"style\":\"light\"}}},\"xaxis\":{\"anchor\":\"y\",\"domain\":[0.0,1.0],\"scaleanchor\":\"y\",\"constrain\":\"domain\",\"title\":{\"text\":\"Head\"}},\"yaxis\":{\"anchor\":\"x\",\"domain\":[0.0,1.0],\"autorange\":\"reversed\",\"constrain\":\"domain\",\"title\":{\"text\":\"Layer\"}},\"coloraxis\":{\"colorscale\":[[0.0,\"rgb(103,0,31)\"],[0.1,\"rgb(178,24,43)\"],[0.2,\"rgb(214,96,77)\"],[0.3,\"rgb(244,165,130)\"],[0.4,\"rgb(253,219,199)\"],[0.5,\"rgb(247,247,247)\"],[0.6,\"rgb(209,229,240)\"],[0.7,\"rgb(146,197,222)\"],[0.8,\"rgb(67,147,195)\"],[0.9,\"rgb(33,102,172)\"],[1.0,\"rgb(5,48,97)\"]],\"cmid\":0.0},\"title\":{\"text\":\"Logit Difference From Each Head\"}},                        {\"responsive\": true}                    ).then(function(){\n",
              "                            \n",
              "var gd = document.getElementById('4824986c-a6f8-4d52-b2a4-a86e06f3e832');\n",
              "var x = new MutationObserver(function (mutations, observer) {{\n",
              "        var display = window.getComputedStyle(gd).display;\n",
              "        if (!display || display === 'none') {{\n",
              "            console.log([gd, 'removed!']);\n",
              "            Plotly.purge(gd);\n",
              "            observer.disconnect();\n",
              "        }}\n",
              "}});\n",
              "\n",
              "// Listen for the removal of the full notebook cells\n",
              "var notebookContainer = gd.closest('#notebook-container');\n",
              "if (notebookContainer) {{\n",
              "    x.observe(notebookContainer, {childList: true});\n",
              "}}\n",
              "\n",
              "// Listen for the clearing of the current output cell\n",
              "var outputEl = gd.closest('.output');\n",
              "if (outputEl) {{\n",
              "    x.observe(outputEl, {childList: true});\n",
              "}}\n",
              "\n",
              "                        })                };                            </script>        </div>\n",
              "</body>\n",
              "</html>"
            ]
          },
          "metadata": {},
          "output_type": "display_data"
        }
      ],
      "source": [
        "per_head_residual, labels = cache.stack_head_results(layer=-1, pos_slice=-1, return_labels=True)\n",
        "per_head_logit_diffs = residual_stack_to_logit_diff(per_head_residual, cache)\n",
        "per_head_logit_diffs = einops.rearrange(per_head_logit_diffs, \"(layer head_index) -> layer head_index\", layer=model.cfg.n_layers, head_index=model.cfg.n_heads)\n",
        "imshow(per_head_logit_diffs, labels={\"x\":\"Head\", \"y\":\"Layer\"}, title=\"Logit Difference From Each Head\")"
      ]
    },
    {
      "cell_type": "code",
      "execution_count": null,
      "metadata": {
        "colab": {
          "background_save": true
        },
        "id": "g38PTvdXjcK4",
        "outputId": "6acf3232-91fd-4103-c21d-3e46dde60c18"
      },
      "outputs": [
        {
          "data": {
            "text/plain": [
              "tensor(0.7407)"
            ]
          },
          "execution_count": 32,
          "metadata": {},
          "output_type": "execute_result"
        }
      ],
      "source": [
        "per_head_logit_diffs.sum()"
      ]
    },
    {
      "cell_type": "code",
      "execution_count": null,
      "metadata": {
        "colab": {
          "background_save": true
        },
        "id": "r3wxIxY7jepl",
        "outputId": "ba618a67-72ff-4984-a8ff-2f1ed3851bdc"
      },
      "outputs": [
        {
          "data": {
            "text/plain": [
              "tensor([-0.0138,  0.4247,  0.0262,  0.1164, -0.0520, -0.0249, -0.0583, -0.0489,\n",
              "        -0.0129,  0.0211,  0.2200,  0.1430])"
            ]
          },
          "execution_count": 33,
          "metadata": {},
          "output_type": "execute_result"
        }
      ],
      "source": [
        "einsum(\"head layer -> layer\", per_head_logit_diffs)"
      ]
    },
    {
      "cell_type": "code",
      "execution_count": null,
      "metadata": {
        "colab": {
          "background_save": true
        },
        "id": "rVAbJZoPyvsF",
        "outputId": "23a434c4-a754-4f4e-f15d-eaf2d6bfe744"
      },
      "outputs": [
        {
          "ename": "SyntaxError",
          "evalue": "ignored",
          "output_type": "error",
          "traceback": [
            "\u001b[0;36m  File \u001b[0;32m\"<ipython-input-34-7680e908d6c5>\"\u001b[0;36m, line \u001b[0;32m1\u001b[0m\n\u001b[0;31m    ˜\u001b[0m\n\u001b[0m    ^\u001b[0m\n\u001b[0;31mSyntaxError\u001b[0m\u001b[0;31m:\u001b[0m invalid character '˜' (U+02DC)\n"
          ]
        }
      ],
      "source": [
        "˜"
      ]
    },
    {
      "cell_type": "code",
      "execution_count": null,
      "metadata": {
        "colab": {
          "background_save": true
        },
        "id": "Nj8jG--HgypD"
      },
      "outputs": [],
      "source": [
        "plot_svd(layer=9, head=1, matrix=\"w_out\")"
      ]
    },
    {
      "cell_type": "code",
      "execution_count": null,
      "metadata": {
        "colab": {
          "background_save": true
        },
        "id": "vCc9mhVLgyri"
      },
      "outputs": [],
      "source": [
        "plot_svd(layer=10, head=7, matrix=\"OV\")"
      ]
    },
    {
      "cell_type": "code",
      "execution_count": null,
      "metadata": {
        "colab": {
          "background_save": true
        },
        "id": "3iqyRbEEgyu6"
      },
      "outputs": [],
      "source": []
    },
    {
      "cell_type": "markdown",
      "metadata": {
        "id": "3lgxRpH-Kv4i"
      },
      "source": [
        "## Attention Analysis"
      ]
    },
    {
      "cell_type": "markdown",
      "metadata": {
        "id": "uZmSLpI7Kv4i"
      },
      "source": [
        "Attention heads are particularly easy to study because we can look directly at their attention patterns and study from what positions they move information from and two. This is particularly easy here as we're looking at the direct effect on the logits so we need only look at the attention patterns from the final token.\n",
        "\n",
        "We use Anthropic's PySvelte library to visualize the attention patterns! We visualize the top 3 positive and negative heads by direct logit attribution, and show these for the first prompt (as an illustration).\n",
        "\n",
        "<details> <summary>Interpreting Attention Patterns</summary>\n",
        "An easy mistake to make when looking at attention patterns is thinking that they must convey information about the <i>token</i> looked at (maybe accounting for the context of the token). But actually, all we can confidently say is that it moves information from the *residual stream position* corresponding to that input token. Especially later on in the model, there may be components in the residual stream that are nothing to do with the input token! Eg the period at the end of a sentence may contain summary information for that sentence, and the head may solely move that, rather than caring about whether it ends in \".\", \"!\" or \"?\"\n",
        "</details>"
      ]
    },
    {
      "cell_type": "code",
      "execution_count": null,
      "metadata": {
        "id": "9mrLvbU6Kv4i"
      },
      "outputs": [],
      "source": [
        "def visualize_attention_patterns(\n",
        "    heads: Union[List[int], int, Float[torch.Tensor, \"heads\"]],\n",
        "    local_cache: Optional[ActivationCache]=None,\n",
        "    local_tokens: Optional[torch.Tensor]=None,\n",
        "    title: str=\"\"):\n",
        "    # Heads are given as a list of integers or a single integer in [0, n_layers * n_heads)\n",
        "    if isinstance(heads, int):\n",
        "        heads = [heads]\n",
        "    elif isinstance(heads, list) or isinstance(heads, torch.Tensor):\n",
        "        heads = utils.to_numpy(heads)\n",
        "    # Cache defaults to the original activation cache\n",
        "    if local_cache is None:\n",
        "        local_cache = cache\n",
        "    # Tokens defaults to the tokenization of the first prompt (including the BOS token)\n",
        "    if local_tokens is None:\n",
        "        # The tokens of the first prompt\n",
        "        local_tokens = tokens[0]\n",
        "\n",
        "    labels = []\n",
        "    patterns = []\n",
        "    batch_index = 0\n",
        "    for head in heads:\n",
        "        layer = head // model.cfg.n_heads\n",
        "        head_index = head % model.cfg.n_heads\n",
        "        # Get the attention patterns for the head\n",
        "        # Attention patterns have shape [batch, head_index, query_pos, key_pos]\n",
        "        patterns.append(local_cache[\"attn\", layer][batch_index, head_index])\n",
        "        labels.append(f\"L{layer}H{head_index}\")\n",
        "    str_tokens = model.to_str_tokens(local_tokens)\n",
        "    patterns = torch.stack(patterns, dim=-1)\n",
        "    # Plot the attention patterns\n",
        "    attention_vis = pysvelte.AttentionMulti(attention=patterns, tokens=str_tokens, head_labels=labels)\n",
        "    display(HTML(f\"<h3>{title}</h3>\"))\n",
        "    attention_vis.show()"
      ]
    },
    {
      "cell_type": "markdown",
      "metadata": {
        "id": "dwzD7ve1Kv4i"
      },
      "source": [
        "Inspecting the patterns, we can see that both types of name movers attend to the indirect object - this suggests they're simply copying the name attended to (with the OV circuit) and that the interesting part is the circuit behind the attention pattern that calculates *where* to move information from (the QK circuit)\n",
        "\n",
        "**Instructions for using the attention visualization**:\n",
        "* Hover over a token to see what tokens it attends to (ie which previous tokens it copies information from) and click on a token to lock focus onto it\n",
        "* By default, colors are the max attention over all tokens, mixed together for each head and its colour.\n",
        "* Each head has its own colour. Hover over a head to just show that head's colour and click to lock.\n",
        "* The grid in the top left shows the attention patterns as a heat map (it's a lower triangular grid because GPT-2 has causal attention - tokens can only attend backwards!). Y axis is the destination token, X axis is the source token.\n",
        "* Click the tick box to flip the direction - now hovering over a token shows which tokens *attend to it* (ie which tokens it copies information to)."
      ]
    },
    {
      "cell_type": "markdown",
      "metadata": {
        "id": "IZnvc65xp9k6"
      },
      "source": [
        "Important heads\n",
        "- Layer 10, head 5 -> considerable performance increase\n",
        "- Layer 11, head 8 -> considerable perfomance decrease"
      ]
    },
    {
      "cell_type": "code",
      "execution_count": null,
      "metadata": {
        "colab": {
          "background_save": true
        },
        "id": "VIlpLmHFKv4j"
      },
      "outputs": [],
      "source": [
        "top_k = 6\n",
        "top_positive_logit_attr_heads = torch.topk(per_head_logit_diffs.flatten(), k=top_k).indices\n",
        "visualize_attention_patterns(top_positive_logit_attr_heads, title=f\"Top {top_k} Positive Logit Attribution Heads\")\n",
        "top_negative_logit_attr_heads = torch.topk(-per_head_logit_diffs.flatten(), k=top_k).indices\n",
        "visualize_attention_patterns(top_negative_logit_attr_heads, title=f\"Top {top_k} Negative Logit Attribution Heads\")"
      ]
    },
    {
      "cell_type": "markdown",
      "metadata": {
        "id": "m-My2vyGKv4j"
      },
      "source": [
        "# Activation Patching"
      ]
    },
    {
      "cell_type": "markdown",
      "metadata": {
        "id": "MNWXUgM5Kv4j"
      },
      "source": [
        "**This section explains how to do activation patching conceptually by implementing it from scratch. To use it in practice with TransformerLens, see [this demonstration instead](https://colab.research.google.com/github/neelnanda-io/TransformerLens/blob/main/demos/Activation_Patching_in_TL_Demo.ipynb)**.\n",
        "\n",
        "The obvious limitation to the techniques used above is that they only look at the very end of the circuit - the parts that directly affect the logits. Clearly this is not sufficient to understand the circuit! We want to understand how things compose together to produce this final output, and ideally to produce an end-to-end circuit fully explaining this behaviour.\n",
        "\n",
        "The technique we'll use to investigate this is called **activation patching**. This was first introduced in [David Bau and Kevin Meng's excellent ROME paper](https://rome.baulab.info/), there called causal tracing.\n",
        "\n",
        "The setup of activation patching is to take two runs of the model on two different inputs, the clean run and the corrupted run. The clean run outputs the correct answer and the corrupted run does not. The key idea is that we give the model the corrupted input, but then **intervene** on a specific activation and **patch** in the corresponding activation from the clean run (ie replace the corrupted activation with the clean activation), and then continue the run. And we then measure how much the output has updated towards the correct answer.\n",
        "\n",
        "We can then iterate over many possible activations and look at how much they affect the corrupted run. If patching in an activation significantly increases the probability of the correct answer, this allows us to *localise* which activations matter.\n",
        "\n",
        "The ability to localise is a key move in mechanistic interpretability - if the computation is diffuse and spread across the entire model, it is likely much harder to form a clean mechanistic story for what's going on. But if we can identify precisely which parts of the model matter, we can then zoom in and determine what they represent and how they connect up with each other, and ultimately reverse engineer the underlying circuit that they represent.\n",
        "\n",
        "Here's an animation from the ROME paper demonstrating this technique (they studied factual recall, and use stars to represent corruption applied to the subject of the sentence, but the same principles apply):\n",
        "\n",
        "![](https://rome.baulab.info/images/small-ct-animation.gif)\n",
        "\n",
        "See also [the explanation in a mech interp explainer](https://dynalist.io/d/n2ZWtnoYHrU1s4vnFSAQ519J#z=qeWBvs-R-taFfcCq-S_hgMqx) and [this piece](https://www.neelnanda.io/mechanistic-interpretability/attribution-patching#how-to-think-about-activation-patching) describing how to think about patching on a conceptual level"
      ]
    },
    {
      "cell_type": "markdown",
      "metadata": {
        "id": "Ng_W_mbEKv4j"
      },
      "source": [
        "The above was all fairly abstract, so let's zoom in and lay out a concrete example to understand Indirect Object Identification.\n",
        "\n",
        "Here our clean input will be eg \"After John and Mary went to the store, **John** gave a bottle of milk to\" and our corrupted input will be eg \"After John and Mary went to the store, **Mary** gave a bottle of milk to\". These prompts are identical except for the name of the indirect object, and so patching is a causal intervention which will allow us to understand precisely which parts of the network are identifying the indirect object.\n",
        "\n",
        "One natural thing to patch in is the residual stream at a specific layer and specific position. For example, the model is likely intitially doing some processing on the second subject token to realise that it's a duplicate, but then uses attention to move that information to the \" to\" token. So patching in the residual stream at the \" to\" token will likely matter a lot in later layers but not at all in early layers.\n",
        "\n",
        "We can zoom in much further and patch in specific activations from specific layers. For example, we think that the output of head L9H9 on the final token is significant for directly connecting to the logits\n",
        "\n",
        "We can patch in specific activations, and can zoom in as far as seems reasonable. For example, if we patch in the output of head L9H9 on the final token, we would predict that it will significantly affect performance.\n",
        "\n",
        "Note that this technique does *not* tell us how the components of the circuit connect up, just what they are.\n",
        "\n",
        "<details> <summary>Technical details</summary>\n",
        "The choice of clean and corrupted prompt has both pros and cons. By carefully setting up the counterfactual, that <i>only</i> differs in the second subject, we avoid detecting the parts of the model doing irrelevant computation like detecting that the indirect object task is relevant at all or that it should be outputting a name rather than an article or pronoun. Or even context like that John and Mary are names at all.\n",
        "\n",
        "However, it *also* bakes in some details that *are* relevant to the task. Such as finding the location of the second subject, and of the names in the first clause. Or that the name mover heads have learned to copy whatever they look at.\n",
        "\n",
        "Some of these could be patched by also changing up the order of the names in the original sentence - patching in \"After <b>John and Mary</b> went to the store, John gave a bottle of milk to\" vs \"After <b>Mary and John</b> went to the store, John gave a bottle of milk to\".\n",
        "\n",
        "In the ROME paper they take a different tack. Rather than carefully setting up counterfactuals between two different but related inputs, they **corrupt** the clean input by adding Gaussian noise to the token embedding for the subject. This is in some ways much lower effort (you don't need to set up a similar but different prompt) but can also introduce some issues, such as ways this noise might break things. In practice, you should take care about how you choose your counterfactuals and try out several. Try to reason beforehand about what they will and will not tell you, and compare the results between different counterfactuals.\n",
        "\n",
        "I discuss some of these limitations and how the author's solved them with much more refined usage of these techniques <a href=\"https://www.youtube.com/watch?v=gzwj0jWbvbo\">in our interview</a>\n",
        "</details>"
      ]
    },
    {
      "cell_type": "markdown",
      "metadata": {
        "id": "S-VjM-YbKv4j"
      },
      "source": [
        "## Residual Stream"
      ]
    },
    {
      "cell_type": "markdown",
      "metadata": {
        "id": "wwEjBt6AKv4j"
      },
      "source": [
        "Lets begin by patching in the residual stream at the start of each layer and for each token position."
      ]
    },
    {
      "cell_type": "markdown",
      "metadata": {
        "id": "sMQzD0P9Kv4j"
      },
      "source": [
        "We first create a set of corrupted tokens - where we swap each pair of prompts to have the opposite answer."
      ]
    },
    {
      "cell_type": "code",
      "execution_count": null,
      "metadata": {
        "colab": {
          "background_save": true
        },
        "id": "HrnNFTqmyFYR"
      },
      "outputs": [],
      "source": [
        "answers"
      ]
    },
    {
      "cell_type": "code",
      "execution_count": null,
      "metadata": {
        "colab": {
          "background_save": true
        },
        "id": "0SDkv1kJycma"
      },
      "outputs": [],
      "source": [
        "skip_tokens = [\"\\n\", \" \",'<|endoftext|>']\n",
        "corrupted_prompt_formats = []\n",
        "for p,(good_ans,bad_ans) in zip(prompt_formats, prompt_answers):\n",
        "    p = p.split(\" \")\n",
        "    p.append(good_ans)\n",
        "    for token in p:\n",
        "        if token not in skip_tokens:\n",
        "            p.remove(token)\n",
        "            break\n",
        "    corrupted_prompt_formats.append(\n",
        "        \" \".join(p)\n",
        "    )\n",
        "\n",
        "\n",
        "# #checking that number of tokens is the same. Use \\n padding to make it so\n",
        "for p in corrupted_prompt_formats:\n",
        "    print(f\"N tokens: {len(model.to_str_tokens(p))}\")\n",
        "\n",
        "print(corrupted_prompt_formats)"
      ]
    },
    {
      "cell_type": "code",
      "execution_count": null,
      "metadata": {
        "colab": {
          "background_save": true
        },
        "id": "guv0jjYA2h2x"
      },
      "outputs": [],
      "source": [
        "corrupted_prompts = [] ; corrupted_answers = [] ; corrupted_answer_tokens = []\n",
        "for i,p in enumerate(corrupted_prompt_formats):\n",
        "    p_answers = prompt_answers[i]\n",
        "    for ans in p_answers:\n",
        "        corrupted_answers.append((ans,))\n",
        "        corrupted_prompts.append(p)\n",
        "        corrupted_answer_tokens.append(\n",
        "            (model.to_single_token(ans))\n",
        "        )\n",
        "corrupted_answer_tokens = torch.tensor([corrupted_answer_tokens]).T\n",
        "print(corrupted_prompts)\n",
        "print(corrupted_answers)\n",
        "print(corrupted_answer_tokens.shape)"
      ]
    },
    {
      "cell_type": "code",
      "execution_count": null,
      "metadata": {
        "colab": {
          "background_save": true
        },
        "id": "HxaQsStAyQwH"
      },
      "outputs": [],
      "source": [
        "#here we create a prompt that would produce highest logit for the bad answer"
      ]
    },
    {
      "cell_type": "code",
      "execution_count": null,
      "metadata": {
        "colab": {
          "background_save": true
        },
        "id": "rDmkCaRA2Kdq"
      },
      "outputs": [],
      "source": [
        "def logits_to_ave_logit_diff2(logits, answer_tokens, per_prompt=False):\n",
        "    # Only the final logits are relevant for the answer\n",
        "    final_logits = logits[:, -1, :]\n",
        "\n",
        "    answer_logits = final_logits.gather(dim=-1, index=answer_tokens)\n",
        "    #reshape so corresponding examples are on the same dim\n",
        "    answer_logits = answer_logits.view(len(prompt_formats), 2, -1)\n",
        "\n",
        "\n",
        "    answer_logit_diff = answer_logits[:, 0] - answer_logits[:, 1]\n",
        "    if per_prompt:\n",
        "        return answer_logit_diff.T\n",
        "    else:\n",
        "        return answer_logit_diff.mean().item()"
      ]
    },
    {
      "cell_type": "code",
      "execution_count": null,
      "metadata": {
        "colab": {
          "background_save": true
        },
        "id": "mnJIZNiVKv4j"
      },
      "outputs": [],
      "source": [
        "\n",
        "corrupted_tokens = model.to_tokens(corrupted_prompts, prepend_bos=True)\n",
        "corrupted_logits, corrupted_cache = model.run_with_cache(corrupted_tokens, return_type=\"logits\")\n",
        "corrupted_average_logit_diff = logits_to_ave_logit_diff2(corrupted_logits, answer_tokens)\n",
        "print(\"Corrupted Average Logit Diff\", corrupted_average_logit_diff)\n",
        "print(\"Clean Average Logit Diff\", original_average_logit_diff)"
      ]
    },
    {
      "cell_type": "markdown",
      "metadata": {
        "id": "9zyO8cGZKv4j"
      },
      "source": [
        "We now intervene on the corrupted run and patch in the clean residual stream at a specific layer and position.\n",
        "\n",
        "We do the intervention using TransformerLens's `HookPoint` feature. We can design a hook function that takes in a specific activation and returns an edited copy, and temporarily add it in with `model.run_with_hooks`."
      ]
    },
    {
      "cell_type": "code",
      "execution_count": null,
      "metadata": {
        "colab": {
          "background_save": true
        },
        "id": "cyZ_mTf_qg2N"
      },
      "outputs": [],
      "source": [
        "def get_device():\n",
        "    return \"cuda\" if torch.cuda.is_available() else \"cpu\""
      ]
    },
    {
      "cell_type": "code",
      "execution_count": null,
      "metadata": {
        "colab": {
          "background_save": true
        },
        "id": "GK1FcCmqKv4j"
      },
      "outputs": [],
      "source": [
        "def patch_residual_component(\n",
        "    corrupted_residual_component: Float[torch.Tensor, \"batch pos d_model\"],\n",
        "    hook,\n",
        "    pos,\n",
        "    clean_cache):\n",
        "    corrupted_residual_component[:, pos, :] = clean_cache[hook.name][:, pos, :]\n",
        "    return corrupted_residual_component\n",
        "\n",
        "def normalize_patched_logit_diff(patched_logit_diff):\n",
        "    # Subtract corrupted logit diff to measure the improvement, divide by the total improvement from clean to corrupted to normalise\n",
        "    # 0 means zero change, negative means actively made worse, 1 means totally recovered clean performance, >1 means actively *improved* on clean performance\n",
        "    return (patched_logit_diff - corrupted_average_logit_diff)/(original_average_logit_diff - corrupted_average_logit_diff)\n",
        "\n",
        "\n",
        "patched_residual_stream_diff = torch.zeros(model.cfg.n_layers, tokens.shape[1], device=get_device(), dtype=torch.float32)\n",
        "for layer in range(model.cfg.n_layers):\n",
        "    for position in range(tokens.shape[1]):\n",
        "        hook_fn = partial(patch_residual_component, pos=position, clean_cache=cache)\n",
        "        patched_logits = model.run_with_hooks(\n",
        "            corrupted_tokens,\n",
        "            fwd_hooks = [(utils.get_act_name(\"resid_pre\", layer),\n",
        "                hook_fn)],\n",
        "            return_type=\"logits\"\n",
        "        )\n",
        "        patched_logit_diff = logits_to_ave_logit_diff(patched_logits, answer_tokens)\n",
        "\n",
        "        patched_residual_stream_diff[layer, position] = normalize_patched_logit_diff(patched_logit_diff)"
      ]
    },
    {
      "cell_type": "markdown",
      "metadata": {
        "id": "yyAaCiLSKv4k"
      },
      "source": [
        "We can immediately see that, exactly as predicted, originally all relevant computation happens on the second subject token, and at layers 7 and 8, the information is moved to the final token. Moving the residual stream at the correct position near *exactly* recovers performance!\n",
        "\n",
        "For reference, tokens and their index from the first prompt are on the x-axis. In an abuse of notation, note that the difference here is averaged over *all* 8 prompts, while the labels only come from the *first* prompt.\n",
        "\n",
        "To be easier to interpret, we normalise the logit difference, by subtracting the corrupted logit difference, and dividing by the total improvement from clean to corrupted to normalise\n",
        "0 means zero change, negative means actively made worse, 1 means totally recovered clean performance, >1 means actively *improved* on clean performance"
      ]
    },
    {
      "cell_type": "code",
      "execution_count": null,
      "metadata": {
        "colab": {
          "background_save": true
        },
        "id": "HYR_hfUoKv4k"
      },
      "outputs": [],
      "source": [
        "prompt_position_labels = [f\"{tok}_{i}\" for i, tok in enumerate(model.to_str_tokens(tokens[0]))]\n",
        "imshow(patched_residual_stream_diff, x=prompt_position_labels, title=\"Logit Difference From Patched Residual Stream\", labels={\"x\":\"Position\", \"y\":\"Layer\"})"
      ]
    },
    {
      "cell_type": "markdown",
      "metadata": {
        "id": "L8W_S8mQKv4k"
      },
      "source": [
        "## Layers"
      ]
    },
    {
      "cell_type": "markdown",
      "metadata": {
        "id": "gRVMUg8LKv4k"
      },
      "source": [
        "We can apply exactly the same idea, but this time patching in attention or MLP layers. These are also residual components with identical shapes to the residual stream terms, so we can reuse the same hooks."
      ]
    },
    {
      "cell_type": "code",
      "execution_count": null,
      "metadata": {
        "colab": {
          "background_save": true
        },
        "id": "KEUUBZi1Kv4k"
      },
      "outputs": [],
      "source": [
        "patched_attn_diff = torch.zeros(model.cfg.n_layers, tokens.shape[1], device=get_device(), dtype=torch.float32)\n",
        "patched_mlp_diff = torch.zeros(model.cfg.n_layers, tokens.shape[1], device=get_device(), dtype=torch.float32)\n",
        "for layer in range(model.cfg.n_layers):\n",
        "    for position in range(tokens.shape[1]):\n",
        "        hook_fn = partial(patch_residual_component, pos=position, clean_cache=cache)\n",
        "        patched_attn_logits = model.run_with_hooks(\n",
        "            corrupted_tokens,\n",
        "            fwd_hooks = [(utils.get_act_name(\"attn_out\", layer),\n",
        "                hook_fn)],\n",
        "            return_type=\"logits\"\n",
        "        )\n",
        "        patched_attn_logit_diff = logits_to_ave_logit_diff(patched_attn_logits, answer_tokens)\n",
        "        patched_mlp_logits = model.run_with_hooks(\n",
        "            corrupted_tokens,\n",
        "            fwd_hooks = [(utils.get_act_name(\"mlp_out\", layer),\n",
        "                hook_fn)],\n",
        "            return_type=\"logits\"\n",
        "        )\n",
        "        patched_mlp_logit_diff = logits_to_ave_logit_diff(patched_mlp_logits, answer_tokens)\n",
        "\n",
        "        patched_attn_diff[layer, position] = normalize_patched_logit_diff(patched_attn_logit_diff)\n",
        "        patched_mlp_diff[layer, position] = normalize_patched_logit_diff(patched_mlp_logit_diff)"
      ]
    },
    {
      "cell_type": "markdown",
      "metadata": {
        "id": "SUAH24vMKv4k"
      },
      "source": [
        "We see that several attention layers are significant but that, matching the residual stream results, early layers matter on the second subject token, and later layers matter on the final token, and layers essentially don't matter on any other token. Extremely localised! As with direct logit attribution, layer 9 is positive and layers 10 and 11 are not, suggesting that the late layers only matter for direct logit effects, but we also see that layers 7 and 8 matter significantly. Presumably these are the heads that move information about which name is duplicated from the second subject token to the final token."
      ]
    },
    {
      "cell_type": "code",
      "execution_count": null,
      "metadata": {
        "colab": {
          "background_save": true
        },
        "id": "pQTpeEJLKv4k"
      },
      "outputs": [],
      "source": [
        "imshow(patched_attn_diff, x=prompt_position_labels, title=\"Logit Difference From Patched Attention Layer\", labels={\"x\":\"Position\", \"y\":\"Layer\"})"
      ]
    },
    {
      "cell_type": "markdown",
      "metadata": {
        "id": "Yji0Qr5fKv4k"
      },
      "source": [
        "In contrast, the MLP layers do not matter much. This makes sense, since this is more a task about moving information than about processing it, and the MLP layers specialise in processing information.\n",
        "\n",
        "The one exception is MLP 0, which matters a lot, but I think this is misleading and just a generally true statement about MLP 0 rather than being about the circuit on this task.\n",
        "\n",
        "<details> <summary>My takes on MLP0</summary>\n",
        "It's often observed on GPT-2 Small that MLP0 matters a lot, and that ablating it utterly destroys performance. My current best guess is that the first MLP layer is essentially acting as an extension of the embedding (for whatever reason) and that when later layers want to access the input tokens they mostly read in the output of the first MLP layer, rather than the token embeddings. Within this frame, the first attention layer doesn't do much.\n",
        "\n",
        "In this framing, it makes sense that MLP0 matters on the second subject token, because that's the one position with a different input token!\n",
        "\n",
        "I'm not entirely sure why this happens, but I would guess that it's because the embedding and unembedding matrices in GPT-2 Small are the same. This is pretty unprincipled, as the tasks of embedding and unembedding tokens are <i>not</i> inverses, but this is common practice, and plausibly models want to dedicate some parameters to overcoming this.\n",
        "\n",
        "I only have suggestive evidence of this, and would love to see someone look into this properly!\n",
        "</details>"
      ]
    },
    {
      "cell_type": "code",
      "execution_count": null,
      "metadata": {
        "colab": {
          "background_save": true
        },
        "id": "oWjXf0moKv4k"
      },
      "outputs": [],
      "source": [
        "imshow(patched_mlp_diff, x=prompt_position_labels, title=\"Logit Difference From Patched MLP Layer\", labels={\"x\":\"Position\", \"y\":\"Layer\"})"
      ]
    },
    {
      "cell_type": "markdown",
      "metadata": {
        "id": "fJvjMvb4Kv4k"
      },
      "source": [
        "## Heads\n",
        "\n",
        "We can refine the above analysis by patching in individual heads! This is somewhat more annoying, because there are now three dimensions (head_index, position and layer), so for now lets patch in a head's output across all positions.\n",
        "\n",
        "The easiest way to do this is to patch in the activation `z`, the \"mixed value\" of the attention head. That is, the average of all previous values weighted by the attention pattern, ie the activation that is then multiplied by `W_O`, the output weights."
      ]
    },
    {
      "cell_type": "code",
      "execution_count": null,
      "metadata": {
        "colab": {
          "background_save": true
        },
        "id": "PlCgjhxKKv4k"
      },
      "outputs": [],
      "source": [
        "def patch_head_vector(\n",
        "    corrupted_head_vector: Float[torch.Tensor, \"batch pos head_index d_head\"],\n",
        "    hook,\n",
        "    head_index,\n",
        "    clean_cache):\n",
        "    corrupted_head_vector[:, :, head_index, :] = clean_cache[hook.name][:, :, head_index, :]\n",
        "    return corrupted_head_vector\n",
        "\n",
        "\n",
        "patched_head_z_diff = torch.zeros(model.cfg.n_layers, model.cfg.n_heads, device=get_device(), dtype=torch.float32)\n",
        "for layer in range(model.cfg.n_layers):\n",
        "    for head_index in range(model.cfg.n_heads):\n",
        "        hook_fn = partial(patch_head_vector, head_index=head_index, clean_cache=cache)\n",
        "        patched_logits = model.run_with_hooks(\n",
        "            corrupted_tokens,\n",
        "            fwd_hooks = [(utils.get_act_name(\"z\", layer, \"attn\"),\n",
        "                hook_fn)],\n",
        "            return_type=\"logits\"\n",
        "        )\n",
        "        patched_logit_diff = logits_to_ave_logit_diff(patched_logits, answer_tokens)\n",
        "\n",
        "        patched_head_z_diff[layer, head_index] = normalize_patched_logit_diff(patched_logit_diff)"
      ]
    },
    {
      "cell_type": "markdown",
      "metadata": {
        "id": "3HpA8iBbKv4l"
      },
      "source": [
        "We can now see that, in addition to the name mover heads identified before, in mid-late layers the heads L8H6, L8H10, L7H9 matter and are presumably responsible for moving information from the second subject to the final token. And heads L5H5, L6H9, L3H0 also matter a lot, and are presumably involved in detecting duplicated tokens."
      ]
    },
    {
      "cell_type": "code",
      "execution_count": null,
      "metadata": {
        "colab": {
          "background_save": true
        },
        "id": "EGNX-FPeKv4l"
      },
      "outputs": [],
      "source": [
        "imshow(patched_head_z_diff, title=\"Logit Difference From Patched Head Output\", labels={\"x\":\"Head\", \"y\":\"Layer\"})"
      ]
    },
    {
      "cell_type": "code",
      "execution_count": null,
      "metadata": {
        "colab": {
          "background_save": true
        },
        "id": "_R4irpuI0jEQ"
      },
      "outputs": [],
      "source": [
        "plot_svd(layer=10, head=7, matrix=\"w_out\")"
      ]
    },
    {
      "cell_type": "markdown",
      "metadata": {
        "id": "fTO1f1BfKv4l"
      },
      "source": [
        "## Decomposing Heads"
      ]
    },
    {
      "cell_type": "markdown",
      "metadata": {
        "id": "di3I-JcBKv4l"
      },
      "source": [
        "Decomposing attention layers into patching in individual heads has already helped us localise the behaviour a lot. But we can understand it further by decomposing heads. An attention head consists of two semi-independent operations - calculating *where* to move information from and to (represented by the attention pattern and implemented via the QK-circuit) and calculating *what* information to move (represented by the value vectors and implemented by the OV circuit). We can disentangle which of these is important by patching in just the attention pattern *or* the value vectors. (See [A Mathematical Framework](https://transformer-circuits.pub/2021/framework/index.html) or [my walkthrough video](https://www.youtube.com/watch?v=KV5gbOmHbjU) for more on this decomposition. If you're not familiar with the details of how attention is implemented, I recommend checking out [my clean transformer implementation](https://colab.research.google.com/github/neelnanda-io/TransformerLens/blob/clean-transformer-demo/Clean_Transformer_Demo.ipynb#scrollTo=3Pb0NYbZ900e) to see how the code works))"
      ]
    },
    {
      "cell_type": "markdown",
      "metadata": {
        "id": "tPRDP-5fKv4l"
      },
      "source": [
        "First let's patch in the value vectors, to measure when figuring out what to move is important. . This has the same shape as z ([batch, pos, head_index, d_head]) so we can reuse the same hook."
      ]
    },
    {
      "cell_type": "code",
      "execution_count": null,
      "metadata": {
        "colab": {
          "background_save": true
        },
        "id": "sGfxzP3aKv4l"
      },
      "outputs": [],
      "source": [
        "patched_head_v_diff = torch.zeros(model.cfg.n_layers, model.cfg.n_heads, device=get_device(), dtype=torch.float32)\n",
        "for layer in range(model.cfg.n_layers):\n",
        "    for head_index in range(model.cfg.n_heads):\n",
        "        hook_fn = partial(patch_head_vector, head_index=head_index, clean_cache=cache)\n",
        "        patched_logits = model.run_with_hooks(\n",
        "            corrupted_tokens,\n",
        "            fwd_hooks = [(utils.get_act_name(\"v\", layer, \"attn\"),\n",
        "                hook_fn)],\n",
        "            return_type=\"logits\"\n",
        "        )\n",
        "        patched_logit_diff = logits_to_ave_logit_diff(patched_logits, answer_tokens)\n",
        "\n",
        "        patched_head_v_diff[layer, head_index] = normalize_patched_logit_diff(patched_logit_diff)"
      ]
    },
    {
      "cell_type": "markdown",
      "metadata": {
        "id": "1bIpdBqEKv4l"
      },
      "source": [
        "We can plot this as a heatmap and it's initially hard to interpret."
      ]
    },
    {
      "cell_type": "code",
      "execution_count": null,
      "metadata": {
        "colab": {
          "background_save": true
        },
        "id": "yP7u0S5yKv4l"
      },
      "outputs": [],
      "source": [
        "imshow(patched_head_v_diff, title=\"Logit Difference From Patched Head Value\", labels={\"x\":\"Head\", \"y\":\"Layer\"})"
      ]
    },
    {
      "cell_type": "code",
      "execution_count": null,
      "metadata": {
        "colab": {
          "background_save": true
        },
        "id": "3ahrjzv00ydF"
      },
      "outputs": [],
      "source": [
        "plot_svd(layer=10, head=7, matrix=\"OV\")"
      ]
    },
    {
      "cell_type": "markdown",
      "metadata": {
        "id": "zvKzrcQkKv4l"
      },
      "source": [
        "But it's very easy to interpret if we plot a scatter plot against patching head outputs. Here we see that the earlier heads (L5H5, L6H9, L3H0) and late name movers (L9H9, L10H7, L11H10) don't matter at all now, while the mid-late heads (L8H6, L8H10, L7H9) do.\n",
        "\n",
        "Meta lesson: Plot things early, often and in diverse ways as you explore a model's internals!"
      ]
    },
    {
      "cell_type": "code",
      "execution_count": null,
      "metadata": {
        "colab": {
          "background_save": true
        },
        "id": "bHivuXM2Kv4l"
      },
      "outputs": [],
      "source": [
        "head_labels = [f\"L{l}H{h}\" for l in range(model.cfg.n_layers) for h in range(model.cfg.n_heads)]\n",
        "scatter(\n",
        "    x=utils.to_numpy(patched_head_v_diff.flatten()),\n",
        "    y=utils.to_numpy(patched_head_z_diff.flatten()),\n",
        "    xaxis=\"Value Patch\",\n",
        "    yaxis=\"Output Patch\",\n",
        "    caxis=\"Layer\",\n",
        "    hover_name = head_labels,\n",
        "    color=einops.repeat(np.arange(model.cfg.n_layers), \"layer -> (layer head)\", head=model.cfg.n_heads),\n",
        "    range_x=(-0.5, 0.5),\n",
        "    range_y=(-0.5, 0.5),\n",
        "    title=\"Scatter plot of output patching vs value patching\")"
      ]
    },
    {
      "cell_type": "markdown",
      "metadata": {
        "id": "dHpCcDNjKv4l"
      },
      "source": [
        "When we patch in attention patterns, we see the opposite effect - early and late heads matter a lot, middle heads don't. (In fact, the sum of value patching and pattern patching is approx the same as output patching)"
      ]
    },
    {
      "cell_type": "code",
      "execution_count": null,
      "metadata": {
        "colab": {
          "background_save": true
        },
        "id": "-NNgvhADwcZf"
      },
      "outputs": [],
      "source": []
    },
    {
      "cell_type": "code",
      "execution_count": null,
      "metadata": {
        "colab": {
          "background_save": true
        },
        "id": "J3FKn7osKv4l"
      },
      "outputs": [],
      "source": [
        "def patch_head_pattern(\n",
        "    corrupted_head_pattern: Float[torch.Tensor, \"batch head_index query_pos d_head\"],\n",
        "    hook,\n",
        "    head_index,\n",
        "    clean_cache):\n",
        "    corrupted_head_pattern[:, head_index, :, :] = clean_cache[hook.name][:, head_index, :, :]\n",
        "    return corrupted_head_pattern\n",
        "\n",
        "patched_head_attn_diff = torch.zeros(model.cfg.n_layers, model.cfg.n_heads, device=get_device(), dtype=torch.float32)\n",
        "for layer in range(model.cfg.n_layers):\n",
        "    for head_index in range(model.cfg.n_heads):\n",
        "        hook_fn = partial(patch_head_pattern, head_index=head_index, clean_cache=cache)\n",
        "        patched_logits = model.run_with_hooks(\n",
        "            corrupted_tokens,\n",
        "            fwd_hooks = [(utils.get_act_name(\"attn\", layer, \"attn\"),\n",
        "                hook_fn)],\n",
        "            return_type=\"logits\"\n",
        "        )\n",
        "        patched_logit_diff = logits_to_ave_logit_diff(patched_logits, answer_tokens)\n",
        "\n",
        "        patched_head_attn_diff[layer, head_index] = normalize_patched_logit_diff(patched_logit_diff)\n"
      ]
    },
    {
      "cell_type": "code",
      "execution_count": null,
      "metadata": {
        "colab": {
          "background_save": true
        },
        "id": "yqNnUA3iKv4l"
      },
      "outputs": [],
      "source": [
        "imshow(patched_head_attn_diff, title=\"Logit Difference From Patched Head Pattern\", labels={\"x\":\"Head\", \"y\":\"Layer\"})\n",
        "head_labels = [f\"L{l}H{h}\" for l in range(model.cfg.n_layers) for h in range(model.cfg.n_heads)]\n",
        "scatter(\n",
        "    x=utils.to_numpy(patched_head_attn_diff.flatten()),\n",
        "    y=utils.to_numpy(patched_head_z_diff.flatten()),\n",
        "    hover_name = head_labels,\n",
        "    xaxis=\"Attention Patch\",\n",
        "    yaxis=\"Output Patch\",\n",
        "    title=\"Scatter plot of output patching vs attention patching\")"
      ]
    },
    {
      "cell_type": "markdown",
      "metadata": {
        "id": "tFipm82nKv4m"
      },
      "source": [
        "# Consolidating Understanding\n",
        "\n",
        "OK, let's zoom out and reconsolidate. At a high-level, we find that all the action is on the second subject token until layer 7 and then transitions to the final token. And that attention layers matter a lot, MLP layers not so much (apart from MLP0, likely as an extended embedding).\n",
        "\n",
        "We've further localised important behaviour to several categories of heads. We've found 3 categories of heads that matter a lot - early heads (L5H5, L6H9, L3H0) whose output matters on the second subject and whose behaviour is determined by their attention patterns, mid-late heads (L8H6, L8H10, L7H9, L7H3) whose output matters on the final token and whose behaviour is determined by their value vectors, and late heads (L9H9, L10H7, L11H10) whose output matters on the final token and whose behaviour is determined by their attention patterns.\n",
        "\n",
        "A natural speculation is that early heads detect both that the second subject is a repeated token and *which* is repeated (ie the \" John\" token is repeated), middle heads compose with this and move this duplicated token information from the second subject token to the final token, and the late heads compose with this to *inhibit* their attention to the duplicated token, and then attend to the correct indirect object name and copy that directly to the logits."
      ]
    },
    {
      "cell_type": "markdown",
      "metadata": {
        "id": "5qTR7B-SKv4m"
      },
      "source": [
        "## Visualizing Attention Patterns\n",
        "\n",
        "We can validate this by looking at the attention patterns of these heads! Let's take the top 10 heads by output patching (in absolute value) and split it into early, middle and late.\n",
        "\n",
        "We see that middle heads attend from the final token to the second subject, and late heads attend from the final token to the indirect object, which is completely consistent with the above speculation! But weirdly, while *one* early head attends from the second subject to its first copy, the other two mysteriously attend to the word *after* the first copy."
      ]
    },
    {
      "cell_type": "code",
      "execution_count": null,
      "metadata": {
        "colab": {
          "background_save": true
        },
        "id": "rkZOMMCuKv4m"
      },
      "outputs": [],
      "source": [
        "top_k = 10\n",
        "top_heads_by_output_patch = torch.topk(patched_head_z_diff.abs().flatten(), k=top_k).indices\n",
        "first_mid_layer = 7\n",
        "first_late_layer = 9\n",
        "early_heads = top_heads_by_output_patch[top_heads_by_output_patch<model.cfg.n_heads * first_mid_layer]\n",
        "mid_heads = top_heads_by_output_patch[torch.logical_and(model.cfg.n_heads * first_mid_layer<=top_heads_by_output_patch, top_heads_by_output_patch<model.cfg.n_heads * first_late_layer)]\n",
        "late_heads = top_heads_by_output_patch[model.cfg.n_heads * first_late_layer<=top_heads_by_output_patch]\n",
        "visualize_attention_patterns(early_heads, title=f\"Top Early Heads\")\n",
        "visualize_attention_patterns(mid_heads, title=f\"Top Middle Heads\")\n",
        "visualize_attention_patterns(late_heads, title=f\"Top Late Heads\")"
      ]
    },
    {
      "cell_type": "markdown",
      "metadata": {
        "id": "mwakOc20Kv4m"
      },
      "source": [
        "## Comparing to the Paper\n",
        "\n",
        "We can now refer to the (far, far more rigorous and detailed) analysis in the paper to compare our results! Here's the diagram they give of their results.\n",
        "\n",
        "![](https://pbs.twimg.com/media/FghGkTAWAAAmkhm.jpg)\n",
        "\n",
        "(Head 1.2 in their notation is L1H2 in my notation etc. And note - in the [latest version of the paper](https://arxiv.org/pdf/2211.00593.pdf) they add 9.0 as a backup name mover, and remove 11.3)\n",
        "\n",
        "The heads form three categories corresponding to the early, middle and late categhories we found and we did fairly well! Definitely not perfect, but with some fairly generic techniques and some a priori reasoning, we found the broad strokes of the circuit and what it looks like. We focused on the most important heads, so we didn't find all relevant heads in each category (especially not the heads in brackets, which are more minor), but this serves as a good base for doing more rigorous and involved analysis, especially for finding the *complete* circuit (ie all of the parts of the model which participate in this behaviour) rather than just a partial and suggestive circuit. Go check out [their paper](https://arxiv.org/abs/2211.00593) or [our interview](https://www.youtube.com/watch?v=gzwj0jWbvbo) to learn more about what they did and what they found!\n",
        "\n",
        "Breaking down their categories:\n",
        "\n",
        "* Early: The duplicate token heads, previous token heads and induction heads. These serve the purpose of detecting that the second subject is duplicated and which earlier name is the duplicate.\n",
        "    * We found a direct duplicate token head which behaves exactly as expected, L3H0. Heads L5H0 and L6H9 are induction heads, which explains why they don't attend directly to the earlier copy of John!\n",
        "    * Note that the duplicate token heads and induction heads do not compose with each other - both directly add to the S-Inhibition heads. The diagram is somewhat misleading.\n",
        "* Middle: They call these S-Inhibition heads - they copy the information about the duplicate token from the second subject to the to token, and their output is used to *inhibit* the attention paid from the name movers to the first subject copy. We found all these heads, and had a decent guess for what they did.\n",
        "    * In either case they attend to the second subject, so the patch that mattered was their value vectors!\n",
        "* Late: They call these name movers, and we found some of them. They attend from the final token to the indirect object name and copy that to the logits, using the S-Inhibition heads to inhibit attention to the first copy of the subject token.\n",
        "    * We did find their surprising result of *negative* name movers - name movers that inhibit the correct answer!\n",
        "    * They have an entire category of heads we missed called backup name movers - we'll get to these later.\n",
        "\n",
        "So, now, let's dig into the two anomalies we missed - induction heads and backup name mover heads"
      ]
    },
    {
      "cell_type": "markdown",
      "metadata": {
        "id": "KCogzdv6Kv4m"
      },
      "source": [
        "# Bonus: Exploring Anomalies"
      ]
    },
    {
      "cell_type": "markdown",
      "metadata": {
        "id": "XQKe0xEuKv4m"
      },
      "source": [
        "## Early Heads are Induction Heads(?!)\n",
        "\n",
        "A really weird observation is that some of the early heads detecting duplicated tokens are induction heads, not just direct duplicate token heads. This is very weird! What's up with that?\n",
        "\n",
        "First off, what's an induction head? An induction head is an important type of attention head that can detect and continue repeated sequences. It is the second head in a two head induction circuit, which looks for previous copies of the current token and attends to the token *after* it, and then copies that to the current position and predicts that it will come next. They're enough of a big deal that [we wrote a whole paper on them](https://transformer-circuits.pub/2022/in-context-learning-and-induction-heads/index.html).\n",
        "\n",
        "![](https://pbs.twimg.com/media/FNWAzXjVEAEOGRe.jpg)\n",
        "\n",
        "Second, why is it surprising that they come up here? It's surprising because it feels like overkill. The model doesn't care about *what* token comes after the first copy of the subject, just that it's duplicated. And it already has simpler duplicate token heads. My best guess is that it just already had induction heads around and that, in addition to their main function, they *also* only activate on duplicated tokens. So it was useful to repurpose this existing machinery.\n",
        "\n",
        "This suggests that as we look for circuits in larger models life may get more and more complicated, as components in simpler circuits get repurposed and built upon."
      ]
    },
    {
      "cell_type": "markdown",
      "metadata": {
        "id": "ZPHvRyWnKv4m"
      },
      "source": [
        "We can verify that these are induction heads by running the model on repeated text and plotting the heads."
      ]
    },
    {
      "cell_type": "code",
      "execution_count": null,
      "metadata": {
        "colab": {
          "background_save": true
        },
        "id": "aTw1Ps9TKv4m"
      },
      "outputs": [],
      "source": [
        "example_text = \"Research in mechanistic interpretability seeks to explain behaviors of machine learning models in terms of their internal components.\"\n",
        "example_repeated_text = example_text + example_text\n",
        "example_repeated_tokens = model.to_tokens(example_repeated_text, prepend_bos=True)\n",
        "example_repeated_logits, example_repeated_cache = model.run_with_cache(example_repeated_tokens)\n",
        "induction_head_labels = [81, 65]\n",
        "visualize_attention_patterns(induction_head_labels, example_repeated_cache, example_repeated_tokens, title=\"Induction Heads\")"
      ]
    },
    {
      "cell_type": "markdown",
      "metadata": {
        "id": "RIfMxIBcKv4n"
      },
      "source": [
        "One implication of this is that it's useful to categories heads according to whether they occur in simpler circuits, so that as we look for more complex circuits we can easily look for them. This is easy to do here! An interesting fact about induction heads is that they work on a sequence of repeated random tokens - notable for being wildly off distribution from the natural language GPT-2 was trained on. Being able to predict a model's behaviour off distribution is a good mark of success for mechanistic interpretability! This is a good sanity check for whether a head is an induction head or not.\n",
        "\n",
        "We can characterise an induction head by just giving a sequence of random tokens repeated once, and measuring the average attention paid from the second copy of a token to the token after the first copy. At the same time, we can also measure the average attention paid from the second copy of a token to the first copy of the token, which is the attention that the induction head would pay if it were a duplicate token head, and the average attention paid to the previous token to find previous token heads.\n",
        "\n",
        "Note that this is a superficial study of whether something is an induction head - we totally ignore the question of whether it actually does boost the correct token or whether it composes with a single previous head and how. In particular, we sometimes get anti-induction heads which suppress the induction-y token (no clue why!), and this technique will find those too . But given the previous rigorous analysis, we can be pretty confident that this picks up on some true signal about induction heads.\n",
        "\n",
        "<details> <summary>Technical Implementation Details</summary>\n",
        "We can do this again by using hooks, this time just to access the attention patterns rather than to intervene on them.\n",
        "\n",
        "Our hook function acts on the attention pattern activation. This has the name \"blocks.{layer}.{layer_type}.hook_{activation_name}\" in general, here it's \"blocks.{layer}.attn.hook_attn\". And it has shape [batch, head_index, query_pos, token_pos]. Our hook function takes in the attention pattern activation, calculates the score for the relevant type of head, and write it to an external cache.\n",
        "\n",
        "We add in hooks using `model.run_with_hooks(tokens, fwd_hooks=[(names_filter, hook_fn)])` to temporarily add in the hooks and run the model, getting the resulting output. Previously names_filter was the name of the activation, but here it's a boolean function mapping activation names to whether we want to hook them or not. Here it's just whether the name ends with hook_attn. hook_fn must take in the two inputs activation (the activation tensor) and hook (the HookPoint object, which contains the name of the activation and some metadata such as the current layer).\n",
        "\n",
        "Internally our hooks use the function `tensor.diagonal`, this takes the diagonal between two dimensions, and allows an arbitrary offset - offset by 1 to get previous tokens, seq_len to get duplicate tokens (the distance to earlier copies) and seq_len-1 to get induction heads (the distance to the token *after* earlier copies). Different offsets give a different length of output tensor, and we can now just average to get a score in [0, 1] for each head\n",
        "</details>"
      ]
    },
    {
      "cell_type": "code",
      "execution_count": null,
      "metadata": {
        "colab": {
          "background_save": true
        },
        "id": "Y0T6WHz7Kv4n"
      },
      "outputs": [],
      "source": [
        "seq_len = 100\n",
        "batch_size = 2\n",
        "\n",
        "prev_token_scores = torch.zeros((model.cfg.n_layers, model.cfg.n_heads), device=\"cuda\")\n",
        "def prev_token_hook(pattern, hook):\n",
        "    layer = hook.layer()\n",
        "    diagonal = pattern.diagonal(offset=1, dim1=-1, dim2=-2)\n",
        "    # print(diagonal)\n",
        "    # print(pattern)\n",
        "    prev_token_scores[layer] = einops.reduce(diagonal, \"batch head_index diagonal -> head_index\", \"mean\")\n",
        "duplicate_token_scores = torch.zeros((model.cfg.n_layers, model.cfg.n_heads), device=\"cuda\")\n",
        "def duplicate_token_hook(pattern, hook):\n",
        "    layer = hook.layer()\n",
        "    diagonal = pattern.diagonal(offset=seq_len, dim1=-1, dim2=-2)\n",
        "    duplicate_token_scores[layer] = einops.reduce(diagonal, \"batch head_index diagonal -> head_index\", \"mean\")\n",
        "induction_scores = torch.zeros((model.cfg.n_layers, model.cfg.n_heads), device=\"cuda\")\n",
        "def induction_hook(pattern, hook):\n",
        "    layer = hook.layer()\n",
        "    diagonal = pattern.diagonal(offset=seq_len-1, dim1=-1, dim2=-2)\n",
        "    induction_scores[layer] = einops.reduce(diagonal, \"batch head_index diagonal -> head_index\", \"mean\")\n",
        "original_tokens = torch.randint(100, 20000, size=(batch_size, seq_len))\n",
        "repeated_tokens = einops.repeat(original_tokens, \"batch seq_len -> batch (2 seq_len)\").cuda()\n",
        "\n",
        "pattern_filter = lambda act_name: act_name.endswith(\"hook_attn\")\n",
        "loss = model.run_with_hooks(repeated_tokens, return_type=\"loss\", fwd_hooks=[(pattern_filter, prev_token_hook), (pattern_filter, duplicate_token_hook), (pattern_filter, induction_hook)])\n",
        "print(utils.get_corner(prev_token_scores))\n",
        "print(utils.get_corner(duplicate_token_scores))\n",
        "print(utils.get_corner(induction_scores))"
      ]
    },
    {
      "cell_type": "markdown",
      "metadata": {
        "id": "EOV0sC6zKv4n"
      },
      "source": [
        "We can now plot the head scores, and instantly see that the relevant early heads are induction heads or duplicate token heads (though also that there's a lot of induction heads that are *not* use - I have no idea why!)."
      ]
    },
    {
      "cell_type": "code",
      "execution_count": null,
      "metadata": {
        "colab": {
          "background_save": true
        },
        "id": "pKey78q3Kv4n"
      },
      "outputs": [],
      "source": [
        "\n",
        "imshow(prev_token_scores, labels={\"x\":\"Head\", \"y\":\"Layer\"}, title=\"Previous Token Scores\")\n",
        "imshow(duplicate_token_scores, labels={\"x\":\"Head\", \"y\":\"Layer\"}, title=\"Duplicate Token Scores\")\n",
        "imshow(induction_scores, labels={\"x\":\"Head\", \"y\":\"Layer\"}, title=\"Induction Head Scores\")"
      ]
    },
    {
      "cell_type": "markdown",
      "metadata": {
        "id": "kRnYILEyKv4n"
      },
      "source": [
        "The above suggests that it would be a useful bit of infrastructure to have a \"wiki\" for the heads of a model, giving their scores according to some metrics re head functions, like the ones we've seen here. TransformerLens makes this easy to make, as just changing the name input to `HookedTransformer.from_pretrained` gives a different model but in the same architecture, so the same code should work. If you want to make this, I'd love to see it!\n",
        "\n",
        "As a proof of concept, [I made a mosaic of all induction heads across the 40 models then in TransformerLens](https://www.neelnanda.io/mosaic).\n",
        "\n",
        "![](https://firebasestorage.googleapis.com/v0/b/firescript-577a2.appspot.com/o/imgs%2Fapp%2FNeelNanda%2F5vtuFmdzt_.png?alt=media&token=4d613de4-9d14-48d6-ba9d-e591c562d429)"
      ]
    },
    {
      "cell_type": "markdown",
      "metadata": {
        "id": "kYZu10UEKv4n"
      },
      "source": [
        "## Backup Name Mover Heads"
      ]
    },
    {
      "cell_type": "markdown",
      "metadata": {
        "id": "fuO53J4GKv4n"
      },
      "source": [
        "Another fascinating anomaly is that of the **backup name mover heads**. A standard technique to apply when interpreting model internals is ablations, or knock-out. If we run the model but intervene to set a specific head to zero, what happens? If the model is robust to this intervention, then naively we can be confident that the head is not doing anything important, and conversely if the model is much worse at the task this suggests that head was important. There are several conceptual flaws with this approach, making the evidence only suggestive, eg that the average output of the head may be far from zero and so the knockout may send it far from expected activations, breaking internals on *any* task. But it's still an easy technique to apply to give some data.\n",
        "\n",
        "But a wild finding in the paper is that models have **built in redundancy**. If we knock out one of the name movers, then there are some backup name movers in later layers that *change their behaviour* and do (some of) the job of the original name mover head. This means that naive knock-out will significantly underestimate the importance of the name movers.\n"
      ]
    },
    {
      "cell_type": "markdown",
      "metadata": {
        "id": "T2VaeR8QKv4n"
      },
      "source": [
        "Let's test this! Let's ablate the most important name mover (head L9H9) on just the final token using a custom ablation hook and then cache all new activations and compared performance. We focus on the final position because we want to specifically ablate the direct logit effect. When we do this, we see that naively, removing the top name mover should reduce the logit diff massively, from 3.55 to 0.57. **But actually, it only goes down to 2.99!**\n",
        "\n",
        "<details> <summary>Implementation Details</summary>\n",
        "Ablating heads is really easy in TransformerLens! We can just define a hook on the z activation in the relevant attention layer (recall, z is the mixed values, and comes immediately before multiplying by the output weights $W_O$). z has a head_index axis, so we can set the component for the relevant head and for position -1 to zero, and return it. (Technically we could just edit in place without returning it, but by convention we always return an edited activation).\n",
        "\n",
        "We now want to compare all internal activations with a hook, which is hard to do with the nice `run_with_hooks` API. So we can directly access the hook on the z activation with `model.blocks[layer].attn.hook_z` and call its `add_hook` method. This adds in the hook to the *global state* of the model. We can now use run_with_cache, and don't need to care about the global state, because run_with_cache internally adds a bunch of caching hooks, and then removes all hooks after the run, *including* the previously added ablation hook. This can be disabled with the reset_hooks_end flag, but here it's useful!\n",
        "</details>"
      ]
    },
    {
      "cell_type": "code",
      "execution_count": null,
      "metadata": {
        "colab": {
          "background_save": true
        },
        "id": "l7Tvt1_HKv4n"
      },
      "outputs": [],
      "source": [
        "top_name_mover = per_head_logit_diffs.flatten().argmax().item()\n",
        "top_name_mover_layer = top_name_mover//model.cfg.n_heads\n",
        "top_name_mover_head = top_name_mover % model.cfg.n_heads\n",
        "print(f\"Top Name Mover to ablate: L{top_name_mover_layer}H{top_name_mover_head}\")\n",
        "def ablate_top_head_hook(z: Float[torch.Tensor, \"batch pos head_index d_head\"], hook):\n",
        "    z[:, -1, top_name_mover_head, :] = 0\n",
        "    return z\n",
        "# Adds a hook into global model state\n",
        "model.blocks[top_name_mover_layer].attn.hook_z.add_hook(ablate_top_head_hook)\n",
        "# Runs the model, temporarily adds caching hooks and then removes *all* hooks after running, including the ablation hook.\n",
        "ablated_logits, ablated_cache = model.run_with_cache(tokens)\n",
        "print(f\"Original logit diff: {original_average_logit_diff}\")\n",
        "print(f\"Post ablation logit diff: {logits_to_ave_logit_diff(ablated_logits, answer_tokens).item()}\")\n",
        "print(f\"Direct Logit Attribution of top name mover head: {per_head_logit_diffs.flatten()[top_name_mover].item()}\")\n",
        "print(f\"Naive prediction of post ablation logit diff: {original_average_logit_diff - per_head_logit_diffs.flatten()[top_name_mover].item()}\")"
      ]
    },
    {
      "cell_type": "markdown",
      "metadata": {
        "id": "CvBmeE0oKv4o"
      },
      "source": [
        "So what's up with this? As before, we can look at the direct logit attribution of each head to see what's going on. It's easiest to interpret if plotted as a scatter plot against the initial per head logit difference.\n",
        "\n",
        "And we can see a *really* big difference in a few heads! (Hover to see labels) In particular the negative name mover L10H7 decreases its negative effect a lot, adding +1 to the logit diff, and the backup name mover L10H10 adjusts its effect to be more positive, adding +0.8 to the logit diff (with several other marginal changes). (And obviously the ablated head has gone down to zero!)"
      ]
    },
    {
      "cell_type": "code",
      "execution_count": null,
      "metadata": {
        "colab": {
          "background_save": true
        },
        "id": "-CIhUap8Kv4o"
      },
      "outputs": [],
      "source": [
        "per_head_ablated_residual, labels = ablated_cache.stack_head_results(layer=-1, pos_slice=-1, return_labels=True)\n",
        "per_head_ablated_logit_diffs = residual_stack_to_logit_diff(per_head_ablated_residual, ablated_cache)\n",
        "per_head_ablated_logit_diffs = per_head_ablated_logit_diffs.reshape(model.cfg.n_layers, model.cfg.n_heads)\n",
        "imshow(per_head_ablated_logit_diffs, labels={\"x\":\"Head\", \"y\":\"Layer\"})\n",
        "scatter(y=per_head_logit_diffs.flatten(), x=per_head_ablated_logit_diffs.flatten(), hover_name=head_labels, range_x=(-3, 3), range_y=(-3, 3), xaxis=\"Ablated\", yaxis=\"Original\", title=\"Original vs Post-Ablation Direct Logit Attribution of Heads\")"
      ]
    },
    {
      "cell_type": "markdown",
      "metadata": {
        "id": "dRx713LsKv4o"
      },
      "source": [
        "One natural hypothesis is that this is because the final LayerNorm scaling has changed, which can scale up or down the final residual stream. This is slightly true, and we can see that the typical head is a bit off from the x=y line. But the average LN scaling ratio is 1.04, and this should uniformly change *all* heads by the same factor, so this can't be sufficient"
      ]
    },
    {
      "cell_type": "code",
      "execution_count": null,
      "metadata": {
        "colab": {
          "background_save": true
        },
        "id": "om3RWVQEKv4o"
      },
      "outputs": [],
      "source": [
        "print(\"Average LN scaling ratio:\", (cache[\"ln_final.hook_scale\"][:, -1]/ablated_cache[\"ln_final.hook_scale\"][:, -1]).mean().item())\n",
        "print(\"Ablation LN scale\", ablated_cache[\"ln_final.hook_scale\"][:, -1])\n",
        "print(\"Original LN scale\", cache[\"ln_final.hook_scale\"][:, -1])"
      ]
    },
    {
      "cell_type": "markdown",
      "metadata": {
        "id": "-ixB6uCrKv4o"
      },
      "source": [
        "**Exercise to the reader:** Can you finish off this analysis? What's going on here? Why are the backup name movers changing their behaviour? Why is one negative name mover becoming significantly less important?"
      ]
    }
  ],
  "metadata": {
    "colab": {
      "provenance": []
    },
    "kernelspec": {
      "display_name": "Python 3",
      "name": "python3"
    },
    "language_info": {
      "name": "python"
    },
    "vscode": {
      "interpreter": {
        "hash": "eb812820b5094695c8a581672e17220e30dd2c15d704c018326e3cc2e1a566f1"
      }
    }
  },
  "nbformat": 4,
  "nbformat_minor": 0
}