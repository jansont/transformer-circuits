{
 "cells": [
  {
   "cell_type": "code",
   "execution_count": 1,
   "id": "c6e35b8b-510d-478f-983d-afabbba35c90",
   "metadata": {
    "tags": []
   },
   "outputs": [],
   "source": [
    "import pandas as pd"
   ]
  },
  {
   "cell_type": "code",
   "execution_count": 25,
   "id": "d25c4485-5bbc-41ac-be43-a939b3c7aaaf",
   "metadata": {
    "tags": []
   },
   "outputs": [],
   "source": [
    "examples = {\"sentence_1\" :  \"{subject_1} is the capital of {object_1}\", \n",
    "\"subject_1\" : \"Paris\", \n",
    "\"object_1\" : \"France\", \n",
    "\"counter_factual_1\": \"Italy\",\n",
    "\"sentence_2\" :  \"The capital of {subject_2} is {object_2}\",\n",
    "\"subject_2\" : \"France\", \n",
    "\"object_2\" : \"Paris\", \n",
    "\"counter_factual_1\": \"Rome\"\n",
    "}\n",
    "\n"
   ]
  },
  {
   "cell_type": "code",
   "execution_count": 23,
   "id": "5bdf7967-a01c-4b02-b61d-a6f752630c70",
   "metadata": {
    "tags": []
   },
   "outputs": [],
   "source": [
    "df = df.rename({\"string_number\" : \"count\"}, axis=1)\n",
    "\n",
    "path = \"data/three_item_prompts.csv\"\n",
    "df.to_csv(path, index=False)"
   ]
  },
  {
   "cell_type": "code",
   "execution_count": null,
   "id": "aefeaf97-32bb-4757-b98e-2f639c9db64d",
   "metadata": {},
   "outputs": [],
   "source": []
  },
  {
   "cell_type": "code",
   "execution_count": 24,
   "id": "b5998ab2-a630-4774-8aff-c5934f42c436",
   "metadata": {},
   "outputs": [
    {
     "name": "stdout",
     "output_type": "stream",
     "text": [
      "[{'sentence_1': 'Amsterdam is the capital of England.', 'subject_1': 'Amsterdam', 'object_1': 'England', 'counter_factual_1': 'Rome', 'sentence_2': 'The capital of Amsterdam is England.', 'subject_2': 'England', 'object_2': 'Amsterdam', 'counter_factual_2': 'Italy'}, {'sentence_1': 'The capital of England is Amsterdam.', 'subject_1': 'England', 'object_1': 'Amsterdam', 'counter_factual_1': 'Washington', 'sentence_2': 'Amsterdam is the capital of England.', 'subject_2': 'England', 'object_2': 'Amsterdam', 'counter_factual_2': 'USA'}, {'sentence_1': 'Rome is the capital of England.', 'subject_1': 'Rome', 'object_1': 'England', 'counter_factual_1': 'Madrid', 'sentence_2': 'The capital of Rome is England.', 'subject_2': 'England', 'object_2': 'Rome', 'counter_factual_2': 'England'}, {'sentence_1': 'The capital of England is Rome.', 'subject_1': 'England', 'object_1': 'Rome', 'counter_factual_1': 'Madrid', 'sentence_2': 'Rome is the capital of England.', 'subject_2': 'England', 'object_2': 'Rome', 'counter_factual_2': 'Germany'}, {'sentence_1': 'London is the capital of Netherlands.', 'subject_1': 'London', 'object_1': 'Netherlands', 'counter_factual_1': 'London', 'sentence_2': 'The capital of London is Netherlands.', 'subject_2': 'Netherlands', 'object_2': 'London', 'counter_factual_2': 'Germany'}, {'sentence_1': 'The capital of Netherlands is London.', 'subject_1': 'Netherlands', 'object_1': 'London', 'counter_factual_1': 'Madrid', 'sentence_2': 'London is the capital of Netherlands.', 'subject_2': 'Netherlands', 'object_2': 'London', 'counter_factual_2': 'Spain'}, {'sentence_1': 'Amsterdam is the capital of England.', 'subject_1': 'Amsterdam', 'object_1': 'England', 'counter_factual_1': 'Madrid', 'sentence_2': 'The capital of Amsterdam is England.', 'subject_2': 'England', 'object_2': 'Amsterdam', 'counter_factual_2': 'Spain'}, {'sentence_1': 'The capital of England is Amsterdam.', 'subject_1': 'England', 'object_1': 'Amsterdam', 'counter_factual_1': 'Madrid', 'sentence_2': 'Amsterdam is the capital of England.', 'subject_2': 'England', 'object_2': 'Amsterdam', 'counter_factual_2': 'Germany'}, {'sentence_1': 'Madrid is the capital of France.', 'subject_1': 'Madrid', 'object_1': 'France', 'counter_factual_1': 'Rome', 'sentence_2': 'The capital of Madrid is France.', 'subject_2': 'France', 'object_2': 'Madrid', 'counter_factual_2': 'England'}, {'sentence_1': 'The capital of France is Madrid.', 'subject_1': 'France', 'object_1': 'Madrid', 'counter_factual_1': 'London', 'sentence_2': 'Madrid is the capital of France.', 'subject_2': 'France', 'object_2': 'Madrid', 'counter_factual_2': 'Italy'}, {'sentence_1': 'Amsterdam is the capital of Italy.', 'subject_1': 'Amsterdam', 'object_1': 'Italy', 'counter_factual_1': 'Madrid', 'sentence_2': 'The capital of Amsterdam is Italy.', 'subject_2': 'Italy', 'object_2': 'Amsterdam', 'counter_factual_2': 'England'}, {'sentence_1': 'The capital of Italy is Amsterdam.', 'subject_1': 'Italy', 'object_1': 'Amsterdam', 'counter_factual_1': 'Madrid', 'sentence_2': 'Amsterdam is the capital of Italy.', 'subject_2': 'Italy', 'object_2': 'Amsterdam', 'counter_factual_2': 'USA'}, {'sentence_1': 'Berlin is the capital of Germany.', 'subject_1': 'Berlin', 'object_1': 'Germany', 'counter_factual_1': 'Rome', 'sentence_2': 'The capital of Berlin is Germany.', 'subject_2': 'Germany', 'object_2': 'Berlin', 'counter_factual_2': 'Italy'}, {'sentence_1': 'The capital of Germany is Berlin.', 'subject_1': 'Germany', 'object_1': 'Berlin', 'counter_factual_1': 'Washington', 'sentence_2': 'Berlin is the capital of Germany.', 'subject_2': 'Germany', 'object_2': 'Berlin', 'counter_factual_2': 'USA'}, {'sentence_1': 'Berlin is the capital of Netherlands.', 'subject_1': 'Berlin', 'object_1': 'Netherlands', 'counter_factual_1': 'Madrid', 'sentence_2': 'The capital of Berlin is Netherlands.', 'subject_2': 'Netherlands', 'object_2': 'Berlin', 'counter_factual_2': 'England'}, {'sentence_1': 'The capital of Netherlands is Berlin.', 'subject_1': 'Netherlands', 'object_1': 'Berlin', 'counter_factual_1': 'Berlin', 'sentence_2': 'Berlin is the capital of Netherlands.', 'subject_2': 'Netherlands', 'object_2': 'Berlin', 'counter_factual_2': 'Spain'}, {'sentence_1': 'Amsterdam is the capital of France.', 'subject_1': 'Amsterdam', 'object_1': 'France', 'counter_factual_1': 'Berlin', 'sentence_2': 'The capital of Amsterdam is France.', 'subject_2': 'France', 'object_2': 'Amsterdam', 'counter_factual_2': 'Germany'}, {'sentence_1': 'The capital of France is Amsterdam.', 'subject_1': 'France', 'object_1': 'Amsterdam', 'counter_factual_1': 'Berlin', 'sentence_2': 'Amsterdam is the capital of France.', 'subject_2': 'France', 'object_2': 'Amsterdam', 'counter_factual_2': 'USA'}, {'sentence_1': 'Paris is the capital of Italy.', 'subject_1': 'Paris', 'object_1': 'Italy', 'counter_factual_1': 'London', 'sentence_2': 'The capital of Paris is Italy.', 'subject_2': 'Italy', 'object_2': 'Paris', 'counter_factual_2': 'England'}, {'sentence_1': 'The capital of Italy is Paris.', 'subject_1': 'Italy', 'object_1': 'Paris', 'counter_factual_1': 'Berlin', 'sentence_2': 'Paris is the capital of Italy.', 'subject_2': 'Italy', 'object_2': 'Paris', 'counter_factual_2': 'Italy'}, {'sentence_1': 'Rome is the capital of Spain.', 'subject_1': 'Rome', 'object_1': 'Spain', 'counter_factual_1': 'London', 'sentence_2': 'The capital of Rome is Spain.', 'subject_2': 'Spain', 'object_2': 'Rome', 'counter_factual_2': 'Spain'}, {'sentence_1': 'The capital of Spain is Rome.', 'subject_1': 'Spain', 'object_1': 'Rome', 'counter_factual_1': 'Berlin', 'sentence_2': 'Rome is the capital of Spain.', 'subject_2': 'Spain', 'object_2': 'Rome', 'counter_factual_2': 'USA'}, {'sentence_1': 'Amsterdam is the capital of France.', 'subject_1': 'Amsterdam', 'object_1': 'France', 'counter_factual_1': 'Berlin', 'sentence_2': 'The capital of Amsterdam is France.', 'subject_2': 'France', 'object_2': 'Amsterdam', 'counter_factual_2': 'Spain'}, {'sentence_1': 'The capital of France is Amsterdam.', 'subject_1': 'France', 'object_1': 'Amsterdam', 'counter_factual_1': 'Washington', 'sentence_2': 'Amsterdam is the capital of France.', 'subject_2': 'France', 'object_2': 'Amsterdam', 'counter_factual_2': 'USA'}, {'sentence_1': 'Madrid is the capital of Italy.', 'subject_1': 'Madrid', 'object_1': 'Italy', 'counter_factual_1': 'Rome', 'sentence_2': 'The capital of Madrid is Italy.', 'subject_2': 'Italy', 'object_2': 'Madrid', 'counter_factual_2': 'Germany'}, {'sentence_1': 'The capital of Italy is Madrid.', 'subject_1': 'Italy', 'object_1': 'Madrid', 'counter_factual_1': 'Washington', 'sentence_2': 'Madrid is the capital of Italy.', 'subject_2': 'Italy', 'object_2': 'Madrid', 'counter_factual_2': 'USA'}, {'sentence_1': 'London is the capital of Germany.', 'subject_1': 'London', 'object_1': 'Germany', 'counter_factual_1': 'London', 'sentence_2': 'The capital of London is Germany.', 'subject_2': 'Germany', 'object_2': 'London', 'counter_factual_2': 'England'}, {'sentence_1': 'The capital of Germany is London.', 'subject_1': 'Germany', 'object_1': 'London', 'counter_factual_1': 'Washington', 'sentence_2': 'London is the capital of Germany.', 'subject_2': 'Germany', 'object_2': 'London', 'counter_factual_2': 'Germany'}, {'sentence_1': 'Amsterdam is the capital of Spain.', 'subject_1': 'Amsterdam', 'object_1': 'Spain', 'counter_factual_1': 'Rome', 'sentence_2': 'The capital of Amsterdam is Spain.', 'subject_2': 'Spain', 'object_2': 'Amsterdam', 'counter_factual_2': 'Germany'}, {'sentence_1': 'The capital of Spain is Amsterdam.', 'subject_1': 'Spain', 'object_1': 'Amsterdam', 'counter_factual_1': 'Washington', 'sentence_2': 'Amsterdam is the capital of Spain.', 'subject_2': 'Spain', 'object_2': 'Amsterdam', 'counter_factual_2': 'Germany'}, {'sentence_1': 'Berlin is the capital of France.', 'subject_1': 'Berlin', 'object_1': 'France', 'counter_factual_1': 'London', 'sentence_2': 'The capital of Berlin is France.', 'subject_2': 'France', 'object_2': 'Berlin', 'counter_factual_2': 'Spain'}, {'sentence_1': 'The capital of France is Berlin.', 'subject_1': 'France', 'object_1': 'Berlin', 'counter_factual_1': 'London', 'sentence_2': 'Berlin is the capital of France.', 'subject_2': 'France', 'object_2': 'Berlin', 'counter_factual_2': 'Germany'}, {'sentence_1': 'Paris is the capital of Italy.', 'subject_1': 'Paris', 'object_1': 'Italy', 'counter_factual_1': 'London', 'sentence_2': 'The capital of Paris is Italy.', 'subject_2': 'Italy', 'object_2': 'Paris', 'counter_factual_2': 'England'}, {'sentence_1': 'The capital of Italy is Paris.', 'subject_1': 'Italy', 'object_1': 'Paris', 'counter_factual_1': 'Madrid', 'sentence_2': 'Paris is the capital of Italy.', 'subject_2': 'Italy', 'object_2': 'Paris', 'counter_factual_2': 'Germany'}, {'sentence_1': 'Rome is the capital of Germany.', 'subject_1': 'Rome', 'object_1': 'Germany', 'counter_factual_1': 'Madrid', 'sentence_2': 'The capital of Rome is Germany.', 'subject_2': 'Germany', 'object_2': 'Rome', 'counter_factual_2': 'England'}, {'sentence_1': 'The capital of Germany is Rome.', 'subject_1': 'Germany', 'object_1': 'Rome', 'counter_factual_1': 'London', 'sentence_2': 'Rome is the capital of Germany.', 'subject_2': 'Germany', 'object_2': 'Rome', 'counter_factual_2': 'USA'}, {'sentence_1': 'Paris is the capital of Spain.', 'subject_1': 'Paris', 'object_1': 'Spain', 'counter_factual_1': 'Madrid', 'sentence_2': 'The capital of Paris is Spain.', 'subject_2': 'Spain', 'object_2': 'Paris', 'counter_factual_2': 'Germany'}, {'sentence_1': 'The capital of Spain is Paris.', 'subject_1': 'Spain', 'object_1': 'Paris', 'counter_factual_1': 'Washington', 'sentence_2': 'Paris is the capital of Spain.', 'subject_2': 'Spain', 'object_2': 'Paris', 'counter_factual_2': 'USA'}, {'sentence_1': 'Berlin is the capital of Netherlands.', 'subject_1': 'Berlin', 'object_1': 'Netherlands', 'counter_factual_1': 'London', 'sentence_2': 'The capital of Berlin is Netherlands.', 'subject_2': 'Netherlands', 'object_2': 'Berlin', 'counter_factual_2': 'Germany'}, {'sentence_1': 'The capital of Netherlands is Berlin.', 'subject_1': 'Netherlands', 'object_1': 'Berlin', 'counter_factual_1': 'London', 'sentence_2': 'Berlin is the capital of Netherlands.', 'subject_2': 'Netherlands', 'object_2': 'Berlin', 'counter_factual_2': 'Italy'}]\n"
     ]
    }
   ],
   "source": [
    "import random\n",
    "\n",
    "def generate_inverse_fact(fact):\n",
    "    inverse_fact = {\n",
    "        \"sentence_1\": f\"The capital of {fact['object_1']} is {fact['subject_1']}.\",\n",
    "        \"subject_1\": fact['object_1'],\n",
    "        \"object_1\": fact['subject_1'],\n",
    "        \"counter_factual_1\": random.choice([\"Berlin\", \"Madrid\", \"London\", \"Washington\"]),\n",
    "        \"sentence_2\": f\"{fact['subject_1']} is the capital of {fact['object_1']}.\",\n",
    "        \"subject_2\": fact['object_1'],\n",
    "        \"object_2\": fact['subject_1'],\n",
    "        \"counter_factual_2\": random.choice([\"Italy\", \"Spain\", \"Germany\", \"USA\"])\n",
    "    }\n",
    "    return inverse_fact\n",
    "\n",
    "# Generate 20 examples of simple facts\n",
    "facts_dataset = []\n",
    "for _ in range(20):\n",
    "    subject = random.choice([\"Paris\", \"Rome\", \"London\", \"Berlin\", \"Madrid\", \"Amsterdam\"])\n",
    "    obj = random.choice([\"France\", \"Italy\", \"England\", \"Germany\", \"Spain\", \"Netherlands\"])\n",
    "    fact = {\n",
    "        \"sentence_1\": f\"{subject} is the capital of {obj}.\",\n",
    "        \"subject_1\": subject,\n",
    "        \"object_1\": obj,\n",
    "        \"counter_factual_1\": random.choice([\"Rome\", \"London\", \"Berlin\", \"Madrid\"]),\n",
    "        \"sentence_2\": f\"The capital of {subject} is {obj}.\",\n",
    "        \"subject_2\": obj,\n",
    "        \"object_2\": subject,\n",
    "        \"counter_factual_2\": random.choice([\"Italy\", \"England\", \"Germany\", \"Spain\"])\n",
    "    }\n",
    "    inverse_fact = generate_inverse_fact(fact)\n",
    "    facts_dataset.append(fact)\n",
    "    facts_dataset.append(inverse_fact)\n",
    "\n",
    "print(facts_dataset)"
   ]
  },
  {
   "cell_type": "code",
   "execution_count": null,
   "id": "03d89958-d8ad-4336-9546-c6b888196e6b",
   "metadata": {},
   "outputs": [],
   "source": []
  }
 ],
 "metadata": {
  "kernelspec": {
   "display_name": "conda_mxnet_p38",
   "language": "python",
   "name": "conda_mxnet_p38"
  },
  "language_info": {
   "codemirror_mode": {
    "name": "ipython",
    "version": 3
   },
   "file_extension": ".py",
   "mimetype": "text/x-python",
   "name": "python",
   "nbconvert_exporter": "python",
   "pygments_lexer": "ipython3",
   "version": "3.8.16"
  }
 },
 "nbformat": 4,
 "nbformat_minor": 5
}
